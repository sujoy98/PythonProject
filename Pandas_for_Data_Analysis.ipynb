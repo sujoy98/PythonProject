{
  "nbformat": 4,
  "nbformat_minor": 0,
  "metadata": {
    "colab": {
      "name": "Pandas for Data Analysis.ipynb",
      "provenance": [],
      "collapsed_sections": []
    },
    "kernelspec": {
      "name": "python3",
      "display_name": "Python 3"
    }
  },
  "cells": [
    {
      "cell_type": "markdown",
      "metadata": {
        "id": "bXiHDZvFcJNb",
        "colab_type": "text"
      },
      "source": [
        "\n",
        "#**Pandas**\n",
        "Pandas stand for Python Data Analysis Library.\n",
        "Pandas is an open-source Python package that provides high-performance, easy-to-use data structures and data analysis tools for the labeled data in Python programming language. \n",
        "\n",
        "# **When to Use?**\n",
        "Pandas is a perfect tool for data wrangling or munging. It is designed for quick and easy data manipulation, reading, aggregation, and visualization.\n",
        "Pandas take data in a CSV or TSV file or a SQL database and create a Python object with rows and columns called a data frame. The data frame is very similar to a table in statistical software, say Excel or SPSS.\n",
        "\n",
        "# **What can you do with Pandas?**\n",
        "Indexing, manipulating, renaming, sorting, merging data frame\n",
        "Update, Add, Delete columns from a data frame\n",
        "Impute missing files, handle missing data or NANs\n",
        "Plot data with histogram or box plot\n",
        "This makes Pandas a foundation library in learning Python for Data Science.\n",
        "\n",
        "In this Video, You will Learn about:\n",
        "1. Loading and Reading datasets into panda dataframe\n",
        "2. Basics operations in Pandas\n",
        "3. Pandas dataframe Counting, Summarized view, Data Types\n",
        "4. Accessing rows and columns (indexing and selecting data) \n",
        "5. Aggregate (groupby) Statistics\n",
        "6. Exploratory Data Analysis\n",
        "7. Conditional Probability and Correlation in Pandas\n",
        "8. Filling Missing values in Pandas Dataframes\n",
        "9. Reading and Writing Data to Different Sources \n",
        "\n",
        "\n",
        "\n",
        "# Demo Assignment with Solutions\n"
      ]
    },
    {
      "cell_type": "markdown",
      "metadata": {
        "id": "7HHi2o_1CHRH",
        "colab_type": "text"
      },
      "source": [
        "After watching this video, you can check:\n",
        "1. assumptions about your data\n",
        "2. whether your results are reasonable\n",
        "3. out for small sample sizes\n",
        "4. the impact of missing data"
      ]
    },
    {
      "cell_type": "code",
      "metadata": {
        "id": "dBnnFPUSkk7Y",
        "colab_type": "code",
        "colab": {}
      },
      "source": [
        "pip install pandas\n",
        "pip install numpy"
      ],
      "execution_count": null,
      "outputs": []
    },
    {
      "cell_type": "code",
      "metadata": {
        "id": "e5mikjIgSdYW",
        "colab_type": "code",
        "colab": {}
      },
      "source": [
        "#importing Libraries\n",
        "import pandas as pd\n",
        "import numpy as np"
      ],
      "execution_count": null,
      "outputs": []
    },
    {
      "cell_type": "markdown",
      "metadata": {
        "id": "sghPIhPlSsv7",
        "colab_type": "text"
      },
      "source": [
        "#**Loading and Reading datasets into pandas dataframe**"
      ]
    },
    {
      "cell_type": "code",
      "metadata": {
        "id": "f5atFPT3Su4T",
        "colab_type": "code",
        "colab": {}
      },
      "source": [
        "#load data from CSV file to a pandas dataframe\n",
        "data= pd.read_csv('Covid_19.csv')"
      ],
      "execution_count": null,
      "outputs": []
    },
    {
      "cell_type": "code",
      "metadata": {
        "id": "eF0FixNyTPcU",
        "colab_type": "code",
        "colab": {}
      },
      "source": [
        "data = pd.read_csv('Covid_19.csv', index_col=0)     #Can also set index col acc to you"
      ],
      "execution_count": null,
      "outputs": []
    },
    {
      "cell_type": "code",
      "metadata": {
        "id": "uaZ-vg2ToFsy",
        "colab_type": "code",
        "colab": {
          "base_uri": "https://localhost:8080/",
          "height": 350
        },
        "outputId": "eb3809ae-3688-43ee-db26-9f3385e1501f"
      },
      "source": [
        "data.head()"
      ],
      "execution_count": null,
      "outputs": [
        {
          "output_type": "execute_result",
          "data": {
            "text/html": [
              "<div>\n",
              "<style scoped>\n",
              "    .dataframe tbody tr th:only-of-type {\n",
              "        vertical-align: middle;\n",
              "    }\n",
              "\n",
              "    .dataframe tbody tr th {\n",
              "        vertical-align: top;\n",
              "    }\n",
              "\n",
              "    .dataframe thead th {\n",
              "        text-align: right;\n",
              "    }\n",
              "</style>\n",
              "<table border=\"1\" class=\"dataframe\">\n",
              "  <thead>\n",
              "    <tr style=\"text-align: right;\">\n",
              "      <th></th>\n",
              "      <th>Name of State / UT</th>\n",
              "      <th>Total Confirmed cases (Indian National)</th>\n",
              "      <th>Total Confirmed cases ( Foreign National )</th>\n",
              "      <th>Cured/Discharged/Migrated</th>\n",
              "      <th>Latitude</th>\n",
              "      <th>Longitude</th>\n",
              "      <th>Death</th>\n",
              "      <th>Total Confirmed cases</th>\n",
              "    </tr>\n",
              "    <tr>\n",
              "      <th>Date</th>\n",
              "      <th></th>\n",
              "      <th></th>\n",
              "      <th></th>\n",
              "      <th></th>\n",
              "      <th></th>\n",
              "      <th></th>\n",
              "      <th></th>\n",
              "      <th></th>\n",
              "    </tr>\n",
              "  </thead>\n",
              "  <tbody>\n",
              "    <tr>\n",
              "      <th>2020-01-30</th>\n",
              "      <td>Kerala</td>\n",
              "      <td>1</td>\n",
              "      <td>0</td>\n",
              "      <td>0</td>\n",
              "      <td>10.8505</td>\n",
              "      <td>76.2711</td>\n",
              "      <td>0</td>\n",
              "      <td>1</td>\n",
              "    </tr>\n",
              "    <tr>\n",
              "      <th>2020-01-31</th>\n",
              "      <td>Kerala</td>\n",
              "      <td>1</td>\n",
              "      <td>0</td>\n",
              "      <td>0</td>\n",
              "      <td>10.8505</td>\n",
              "      <td>76.2711</td>\n",
              "      <td>0</td>\n",
              "      <td>1</td>\n",
              "    </tr>\n",
              "    <tr>\n",
              "      <th>2020-02-01</th>\n",
              "      <td>Kerala</td>\n",
              "      <td>2</td>\n",
              "      <td>0</td>\n",
              "      <td>0</td>\n",
              "      <td>10.8505</td>\n",
              "      <td>76.2711</td>\n",
              "      <td>0</td>\n",
              "      <td>2</td>\n",
              "    </tr>\n",
              "    <tr>\n",
              "      <th>2020-02-02</th>\n",
              "      <td>Kerala</td>\n",
              "      <td>3</td>\n",
              "      <td>0</td>\n",
              "      <td>0</td>\n",
              "      <td>10.8505</td>\n",
              "      <td>76.2711</td>\n",
              "      <td>0</td>\n",
              "      <td>3</td>\n",
              "    </tr>\n",
              "    <tr>\n",
              "      <th>2020-02-03</th>\n",
              "      <td>Kerala</td>\n",
              "      <td>3</td>\n",
              "      <td>0</td>\n",
              "      <td>0</td>\n",
              "      <td>10.8505</td>\n",
              "      <td>76.2711</td>\n",
              "      <td>0</td>\n",
              "      <td>3</td>\n",
              "    </tr>\n",
              "  </tbody>\n",
              "</table>\n",
              "</div>"
            ],
            "text/plain": [
              "           Name of State / UT  Total Confirmed cases (Indian National)  \\\n",
              "Date                                                                     \n",
              "2020-01-30             Kerala                                        1   \n",
              "2020-01-31             Kerala                                        1   \n",
              "2020-02-01             Kerala                                        2   \n",
              "2020-02-02             Kerala                                        3   \n",
              "2020-02-03             Kerala                                        3   \n",
              "\n",
              "            Total Confirmed cases ( Foreign National )  \\\n",
              "Date                                                     \n",
              "2020-01-30                                           0   \n",
              "2020-01-31                                           0   \n",
              "2020-02-01                                           0   \n",
              "2020-02-02                                           0   \n",
              "2020-02-03                                           0   \n",
              "\n",
              "            Cured/Discharged/Migrated  Latitude  Longitude  Death  \\\n",
              "Date                                                                \n",
              "2020-01-30                          0   10.8505    76.2711      0   \n",
              "2020-01-31                          0   10.8505    76.2711      0   \n",
              "2020-02-01                          0   10.8505    76.2711      0   \n",
              "2020-02-02                          0   10.8505    76.2711      0   \n",
              "2020-02-03                          0   10.8505    76.2711      0   \n",
              "\n",
              "            Total Confirmed cases  \n",
              "Date                               \n",
              "2020-01-30                      1  \n",
              "2020-01-31                      1  \n",
              "2020-02-01                      2  \n",
              "2020-02-02                      3  \n",
              "2020-02-03                      3  "
            ]
          },
          "metadata": {
            "tags": []
          },
          "execution_count": 82
        }
      ]
    },
    {
      "cell_type": "markdown",
      "metadata": {
        "id": "90Psj2BcCrV5",
        "colab_type": "text"
      },
      "source": [
        "### **1 Q) Set 'Name of State / UT' Columns as an index of the dataset**"
      ]
    },
    {
      "cell_type": "code",
      "metadata": {
        "id": "hExznzYCoJV5",
        "colab_type": "code",
        "colab": {
          "base_uri": "https://localhost:8080/",
          "height": 264
        },
        "outputId": "287475f0-442e-4f2b-efb6-e14c7884437b"
      },
      "source": [
        "data.set_index('Name of State / UT',inplace=True)        #to make changes permanent, use \"inplace=True\"\n",
        "data.head()"
      ],
      "execution_count": null,
      "outputs": [
        {
          "output_type": "execute_result",
          "data": {
            "text/html": [
              "<div>\n",
              "<style scoped>\n",
              "    .dataframe tbody tr th:only-of-type {\n",
              "        vertical-align: middle;\n",
              "    }\n",
              "\n",
              "    .dataframe tbody tr th {\n",
              "        vertical-align: top;\n",
              "    }\n",
              "\n",
              "    .dataframe thead th {\n",
              "        text-align: right;\n",
              "    }\n",
              "</style>\n",
              "<table border=\"1\" class=\"dataframe\">\n",
              "  <thead>\n",
              "    <tr style=\"text-align: right;\">\n",
              "      <th></th>\n",
              "      <th>Total Confirmed cases (Indian National)</th>\n",
              "      <th>Total Confirmed cases ( Foreign National )</th>\n",
              "      <th>Cured/Discharged/Migrated</th>\n",
              "      <th>Latitude</th>\n",
              "      <th>Longitude</th>\n",
              "      <th>Death</th>\n",
              "      <th>Total Confirmed cases</th>\n",
              "    </tr>\n",
              "    <tr>\n",
              "      <th>Name of State / UT</th>\n",
              "      <th></th>\n",
              "      <th></th>\n",
              "      <th></th>\n",
              "      <th></th>\n",
              "      <th></th>\n",
              "      <th></th>\n",
              "      <th></th>\n",
              "    </tr>\n",
              "  </thead>\n",
              "  <tbody>\n",
              "    <tr>\n",
              "      <th>Kerala</th>\n",
              "      <td>1</td>\n",
              "      <td>0</td>\n",
              "      <td>0</td>\n",
              "      <td>10.8505</td>\n",
              "      <td>76.2711</td>\n",
              "      <td>0</td>\n",
              "      <td>1</td>\n",
              "    </tr>\n",
              "    <tr>\n",
              "      <th>Kerala</th>\n",
              "      <td>1</td>\n",
              "      <td>0</td>\n",
              "      <td>0</td>\n",
              "      <td>10.8505</td>\n",
              "      <td>76.2711</td>\n",
              "      <td>0</td>\n",
              "      <td>1</td>\n",
              "    </tr>\n",
              "    <tr>\n",
              "      <th>Kerala</th>\n",
              "      <td>2</td>\n",
              "      <td>0</td>\n",
              "      <td>0</td>\n",
              "      <td>10.8505</td>\n",
              "      <td>76.2711</td>\n",
              "      <td>0</td>\n",
              "      <td>2</td>\n",
              "    </tr>\n",
              "    <tr>\n",
              "      <th>Kerala</th>\n",
              "      <td>3</td>\n",
              "      <td>0</td>\n",
              "      <td>0</td>\n",
              "      <td>10.8505</td>\n",
              "      <td>76.2711</td>\n",
              "      <td>0</td>\n",
              "      <td>3</td>\n",
              "    </tr>\n",
              "    <tr>\n",
              "      <th>Kerala</th>\n",
              "      <td>3</td>\n",
              "      <td>0</td>\n",
              "      <td>0</td>\n",
              "      <td>10.8505</td>\n",
              "      <td>76.2711</td>\n",
              "      <td>0</td>\n",
              "      <td>3</td>\n",
              "    </tr>\n",
              "  </tbody>\n",
              "</table>\n",
              "</div>"
            ],
            "text/plain": [
              "                    Total Confirmed cases (Indian National)  \\\n",
              "Name of State / UT                                            \n",
              "Kerala                                                    1   \n",
              "Kerala                                                    1   \n",
              "Kerala                                                    2   \n",
              "Kerala                                                    3   \n",
              "Kerala                                                    3   \n",
              "\n",
              "                    Total Confirmed cases ( Foreign National )  \\\n",
              "Name of State / UT                                               \n",
              "Kerala                                                       0   \n",
              "Kerala                                                       0   \n",
              "Kerala                                                       0   \n",
              "Kerala                                                       0   \n",
              "Kerala                                                       0   \n",
              "\n",
              "                    Cured/Discharged/Migrated  Latitude  Longitude  Death  \\\n",
              "Name of State / UT                                                          \n",
              "Kerala                                      0   10.8505    76.2711      0   \n",
              "Kerala                                      0   10.8505    76.2711      0   \n",
              "Kerala                                      0   10.8505    76.2711      0   \n",
              "Kerala                                      0   10.8505    76.2711      0   \n",
              "Kerala                                      0   10.8505    76.2711      0   \n",
              "\n",
              "                    Total Confirmed cases  \n",
              "Name of State / UT                         \n",
              "Kerala                                  1  \n",
              "Kerala                                  1  \n",
              "Kerala                                  2  \n",
              "Kerala                                  3  \n",
              "Kerala                                  3  "
            ]
          },
          "metadata": {
            "tags": []
          },
          "execution_count": 83
        }
      ]
    },
    {
      "cell_type": "code",
      "metadata": {
        "id": "4BjJcaynokb7",
        "colab_type": "code",
        "colab": {
          "base_uri": "https://localhost:8080/",
          "height": 445
        },
        "outputId": "471f03b5-40fe-482d-c25d-8490c737e61f"
      },
      "source": [
        "data.reset_index()"
      ],
      "execution_count": null,
      "outputs": [
        {
          "output_type": "execute_result",
          "data": {
            "text/html": [
              "<div>\n",
              "<style scoped>\n",
              "    .dataframe tbody tr th:only-of-type {\n",
              "        vertical-align: middle;\n",
              "    }\n",
              "\n",
              "    .dataframe tbody tr th {\n",
              "        vertical-align: top;\n",
              "    }\n",
              "\n",
              "    .dataframe thead th {\n",
              "        text-align: right;\n",
              "    }\n",
              "</style>\n",
              "<table border=\"1\" class=\"dataframe\">\n",
              "  <thead>\n",
              "    <tr style=\"text-align: right;\">\n",
              "      <th></th>\n",
              "      <th>Name of State / UT</th>\n",
              "      <th>Total Confirmed cases (Indian National)</th>\n",
              "      <th>Total Confirmed cases ( Foreign National )</th>\n",
              "      <th>Cured/Discharged/Migrated</th>\n",
              "      <th>Latitude</th>\n",
              "      <th>Longitude</th>\n",
              "      <th>Death</th>\n",
              "      <th>Total Confirmed cases</th>\n",
              "    </tr>\n",
              "  </thead>\n",
              "  <tbody>\n",
              "    <tr>\n",
              "      <th>0</th>\n",
              "      <td>Kerala</td>\n",
              "      <td>1</td>\n",
              "      <td>0</td>\n",
              "      <td>0</td>\n",
              "      <td>10.8505</td>\n",
              "      <td>76.2711</td>\n",
              "      <td>0</td>\n",
              "      <td>1</td>\n",
              "    </tr>\n",
              "    <tr>\n",
              "      <th>1</th>\n",
              "      <td>Kerala</td>\n",
              "      <td>1</td>\n",
              "      <td>0</td>\n",
              "      <td>0</td>\n",
              "      <td>10.8505</td>\n",
              "      <td>76.2711</td>\n",
              "      <td>0</td>\n",
              "      <td>1</td>\n",
              "    </tr>\n",
              "    <tr>\n",
              "      <th>2</th>\n",
              "      <td>Kerala</td>\n",
              "      <td>2</td>\n",
              "      <td>0</td>\n",
              "      <td>0</td>\n",
              "      <td>10.8505</td>\n",
              "      <td>76.2711</td>\n",
              "      <td>0</td>\n",
              "      <td>2</td>\n",
              "    </tr>\n",
              "    <tr>\n",
              "      <th>3</th>\n",
              "      <td>Kerala</td>\n",
              "      <td>3</td>\n",
              "      <td>0</td>\n",
              "      <td>0</td>\n",
              "      <td>10.8505</td>\n",
              "      <td>76.2711</td>\n",
              "      <td>0</td>\n",
              "      <td>3</td>\n",
              "    </tr>\n",
              "    <tr>\n",
              "      <th>4</th>\n",
              "      <td>Kerala</td>\n",
              "      <td>3</td>\n",
              "      <td>0</td>\n",
              "      <td>0</td>\n",
              "      <td>10.8505</td>\n",
              "      <td>76.2711</td>\n",
              "      <td>0</td>\n",
              "      <td>3</td>\n",
              "    </tr>\n",
              "    <tr>\n",
              "      <th>...</th>\n",
              "      <td>...</td>\n",
              "      <td>...</td>\n",
              "      <td>...</td>\n",
              "      <td>...</td>\n",
              "      <td>...</td>\n",
              "      <td>...</td>\n",
              "      <td>...</td>\n",
              "      <td>...</td>\n",
              "    </tr>\n",
              "    <tr>\n",
              "      <th>914</th>\n",
              "      <td>Telengana</td>\n",
              "      <td>0</td>\n",
              "      <td>0</td>\n",
              "      <td>43</td>\n",
              "      <td>18.1124</td>\n",
              "      <td>79.0193</td>\n",
              "      <td>9</td>\n",
              "      <td>504</td>\n",
              "    </tr>\n",
              "    <tr>\n",
              "      <th>915</th>\n",
              "      <td>Tripura</td>\n",
              "      <td>0</td>\n",
              "      <td>0</td>\n",
              "      <td>0</td>\n",
              "      <td>23.9408</td>\n",
              "      <td>91.9882</td>\n",
              "      <td>0</td>\n",
              "      <td>2</td>\n",
              "    </tr>\n",
              "    <tr>\n",
              "      <th>916</th>\n",
              "      <td>Uttar Pradesh</td>\n",
              "      <td>0</td>\n",
              "      <td>0</td>\n",
              "      <td>46</td>\n",
              "      <td>26.8467</td>\n",
              "      <td>80.9462</td>\n",
              "      <td>5</td>\n",
              "      <td>483</td>\n",
              "    </tr>\n",
              "    <tr>\n",
              "      <th>917</th>\n",
              "      <td>Uttarakhand</td>\n",
              "      <td>0</td>\n",
              "      <td>0</td>\n",
              "      <td>5</td>\n",
              "      <td>30.0668</td>\n",
              "      <td>79.0193</td>\n",
              "      <td>0</td>\n",
              "      <td>35</td>\n",
              "    </tr>\n",
              "    <tr>\n",
              "      <th>918</th>\n",
              "      <td>West Bengal</td>\n",
              "      <td>0</td>\n",
              "      <td>0</td>\n",
              "      <td>29</td>\n",
              "      <td>22.9868</td>\n",
              "      <td>87.8550</td>\n",
              "      <td>7</td>\n",
              "      <td>152</td>\n",
              "    </tr>\n",
              "  </tbody>\n",
              "</table>\n",
              "<p>919 rows × 8 columns</p>\n",
              "</div>"
            ],
            "text/plain": [
              "    Name of State / UT  Total Confirmed cases (Indian National)  \\\n",
              "0               Kerala                                        1   \n",
              "1               Kerala                                        1   \n",
              "2               Kerala                                        2   \n",
              "3               Kerala                                        3   \n",
              "4               Kerala                                        3   \n",
              "..                 ...                                      ...   \n",
              "914          Telengana                                        0   \n",
              "915            Tripura                                        0   \n",
              "916      Uttar Pradesh                                        0   \n",
              "917        Uttarakhand                                        0   \n",
              "918        West Bengal                                        0   \n",
              "\n",
              "     Total Confirmed cases ( Foreign National )  Cured/Discharged/Migrated  \\\n",
              "0                                             0                          0   \n",
              "1                                             0                          0   \n",
              "2                                             0                          0   \n",
              "3                                             0                          0   \n",
              "4                                             0                          0   \n",
              "..                                          ...                        ...   \n",
              "914                                           0                         43   \n",
              "915                                           0                          0   \n",
              "916                                           0                         46   \n",
              "917                                           0                          5   \n",
              "918                                           0                         29   \n",
              "\n",
              "     Latitude  Longitude  Death  Total Confirmed cases  \n",
              "0     10.8505    76.2711      0                      1  \n",
              "1     10.8505    76.2711      0                      1  \n",
              "2     10.8505    76.2711      0                      2  \n",
              "3     10.8505    76.2711      0                      3  \n",
              "4     10.8505    76.2711      0                      3  \n",
              "..        ...        ...    ...                    ...  \n",
              "914   18.1124    79.0193      9                    504  \n",
              "915   23.9408    91.9882      0                      2  \n",
              "916   26.8467    80.9462      5                    483  \n",
              "917   30.0668    79.0193      0                     35  \n",
              "918   22.9868    87.8550      7                    152  \n",
              "\n",
              "[919 rows x 8 columns]"
            ]
          },
          "metadata": {
            "tags": []
          },
          "execution_count": 84
        }
      ]
    },
    {
      "cell_type": "code",
      "metadata": {
        "id": "B_rfD-m3j4c8",
        "colab_type": "code",
        "colab": {}
      },
      "source": [
        "data= pd.read_csv('Covid_19.csv')"
      ],
      "execution_count": null,
      "outputs": []
    },
    {
      "cell_type": "markdown",
      "metadata": {
        "id": "FoqjLQdxmpcp",
        "colab_type": "text"
      },
      "source": [
        "**Reading Data in pandas**"
      ]
    },
    {
      "cell_type": "code",
      "metadata": {
        "id": "OclMhYO-TCbG",
        "colab_type": "code",
        "colab": {
          "base_uri": "https://localhost:8080/",
          "height": 319
        },
        "outputId": "89fbad09-5fc6-400e-848b-2213babd183a"
      },
      "source": [
        "#to get first 5 rows...if you want n values...place head(n)...n can be 6 or any no.\n",
        "data.head()"
      ],
      "execution_count": null,
      "outputs": [
        {
          "output_type": "execute_result",
          "data": {
            "text/html": [
              "<div>\n",
              "<style scoped>\n",
              "    .dataframe tbody tr th:only-of-type {\n",
              "        vertical-align: middle;\n",
              "    }\n",
              "\n",
              "    .dataframe tbody tr th {\n",
              "        vertical-align: top;\n",
              "    }\n",
              "\n",
              "    .dataframe thead th {\n",
              "        text-align: right;\n",
              "    }\n",
              "</style>\n",
              "<table border=\"1\" class=\"dataframe\">\n",
              "  <thead>\n",
              "    <tr style=\"text-align: right;\">\n",
              "      <th></th>\n",
              "      <th>Date</th>\n",
              "      <th>Name of State / UT</th>\n",
              "      <th>Total Confirmed cases (Indian National)</th>\n",
              "      <th>Total Confirmed cases ( Foreign National )</th>\n",
              "      <th>Cured/Discharged/Migrated</th>\n",
              "      <th>Latitude</th>\n",
              "      <th>Longitude</th>\n",
              "      <th>Death</th>\n",
              "      <th>Total Confirmed cases</th>\n",
              "    </tr>\n",
              "  </thead>\n",
              "  <tbody>\n",
              "    <tr>\n",
              "      <th>0</th>\n",
              "      <td>2020-01-30</td>\n",
              "      <td>Kerala</td>\n",
              "      <td>1</td>\n",
              "      <td>0</td>\n",
              "      <td>0</td>\n",
              "      <td>10.8505</td>\n",
              "      <td>76.2711</td>\n",
              "      <td>0</td>\n",
              "      <td>1</td>\n",
              "    </tr>\n",
              "    <tr>\n",
              "      <th>1</th>\n",
              "      <td>2020-01-31</td>\n",
              "      <td>Kerala</td>\n",
              "      <td>1</td>\n",
              "      <td>0</td>\n",
              "      <td>0</td>\n",
              "      <td>10.8505</td>\n",
              "      <td>76.2711</td>\n",
              "      <td>0</td>\n",
              "      <td>1</td>\n",
              "    </tr>\n",
              "    <tr>\n",
              "      <th>2</th>\n",
              "      <td>2020-02-01</td>\n",
              "      <td>Kerala</td>\n",
              "      <td>2</td>\n",
              "      <td>0</td>\n",
              "      <td>0</td>\n",
              "      <td>10.8505</td>\n",
              "      <td>76.2711</td>\n",
              "      <td>0</td>\n",
              "      <td>2</td>\n",
              "    </tr>\n",
              "    <tr>\n",
              "      <th>3</th>\n",
              "      <td>2020-02-02</td>\n",
              "      <td>Kerala</td>\n",
              "      <td>3</td>\n",
              "      <td>0</td>\n",
              "      <td>0</td>\n",
              "      <td>10.8505</td>\n",
              "      <td>76.2711</td>\n",
              "      <td>0</td>\n",
              "      <td>3</td>\n",
              "    </tr>\n",
              "    <tr>\n",
              "      <th>4</th>\n",
              "      <td>2020-02-03</td>\n",
              "      <td>Kerala</td>\n",
              "      <td>3</td>\n",
              "      <td>0</td>\n",
              "      <td>0</td>\n",
              "      <td>10.8505</td>\n",
              "      <td>76.2711</td>\n",
              "      <td>0</td>\n",
              "      <td>3</td>\n",
              "    </tr>\n",
              "  </tbody>\n",
              "</table>\n",
              "</div>"
            ],
            "text/plain": [
              "         Date Name of State / UT  Total Confirmed cases (Indian National)  \\\n",
              "0  2020-01-30             Kerala                                        1   \n",
              "1  2020-01-31             Kerala                                        1   \n",
              "2  2020-02-01             Kerala                                        2   \n",
              "3  2020-02-02             Kerala                                        3   \n",
              "4  2020-02-03             Kerala                                        3   \n",
              "\n",
              "   Total Confirmed cases ( Foreign National )  Cured/Discharged/Migrated  \\\n",
              "0                                           0                          0   \n",
              "1                                           0                          0   \n",
              "2                                           0                          0   \n",
              "3                                           0                          0   \n",
              "4                                           0                          0   \n",
              "\n",
              "   Latitude  Longitude  Death  Total Confirmed cases  \n",
              "0   10.8505    76.2711      0                      1  \n",
              "1   10.8505    76.2711      0                      1  \n",
              "2   10.8505    76.2711      0                      2  \n",
              "3   10.8505    76.2711      0                      3  \n",
              "4   10.8505    76.2711      0                      3  "
            ]
          },
          "metadata": {
            "tags": []
          },
          "execution_count": 86
        }
      ]
    },
    {
      "cell_type": "markdown",
      "metadata": {
        "id": "oZ1usEjQdCB7",
        "colab_type": "text"
      },
      "source": [
        "Note\n",
        "\n",
        " DataFrame is a 2-dimensional labeled data structure with columns of potentially different types."
      ]
    },
    {
      "cell_type": "code",
      "metadata": {
        "id": "3o0RElj-czsi",
        "colab_type": "code",
        "colab": {
          "base_uri": "https://localhost:8080/",
          "height": 319
        },
        "outputId": "aa1b39e1-52f3-49be-83fa-afdf5eea5566"
      },
      "source": [
        "#to get last 5 rows\n",
        "data.tail()"
      ],
      "execution_count": null,
      "outputs": [
        {
          "output_type": "execute_result",
          "data": {
            "text/html": [
              "<div>\n",
              "<style scoped>\n",
              "    .dataframe tbody tr th:only-of-type {\n",
              "        vertical-align: middle;\n",
              "    }\n",
              "\n",
              "    .dataframe tbody tr th {\n",
              "        vertical-align: top;\n",
              "    }\n",
              "\n",
              "    .dataframe thead th {\n",
              "        text-align: right;\n",
              "    }\n",
              "</style>\n",
              "<table border=\"1\" class=\"dataframe\">\n",
              "  <thead>\n",
              "    <tr style=\"text-align: right;\">\n",
              "      <th></th>\n",
              "      <th>Date</th>\n",
              "      <th>Name of State / UT</th>\n",
              "      <th>Total Confirmed cases (Indian National)</th>\n",
              "      <th>Total Confirmed cases ( Foreign National )</th>\n",
              "      <th>Cured/Discharged/Migrated</th>\n",
              "      <th>Latitude</th>\n",
              "      <th>Longitude</th>\n",
              "      <th>Death</th>\n",
              "      <th>Total Confirmed cases</th>\n",
              "    </tr>\n",
              "  </thead>\n",
              "  <tbody>\n",
              "    <tr>\n",
              "      <th>914</th>\n",
              "      <td>2020-04-13</td>\n",
              "      <td>Telengana</td>\n",
              "      <td>0</td>\n",
              "      <td>0</td>\n",
              "      <td>43</td>\n",
              "      <td>18.1124</td>\n",
              "      <td>79.0193</td>\n",
              "      <td>9</td>\n",
              "      <td>504</td>\n",
              "    </tr>\n",
              "    <tr>\n",
              "      <th>915</th>\n",
              "      <td>2020-04-13</td>\n",
              "      <td>Tripura</td>\n",
              "      <td>0</td>\n",
              "      <td>0</td>\n",
              "      <td>0</td>\n",
              "      <td>23.9408</td>\n",
              "      <td>91.9882</td>\n",
              "      <td>0</td>\n",
              "      <td>2</td>\n",
              "    </tr>\n",
              "    <tr>\n",
              "      <th>916</th>\n",
              "      <td>2020-04-13</td>\n",
              "      <td>Uttar Pradesh</td>\n",
              "      <td>0</td>\n",
              "      <td>0</td>\n",
              "      <td>46</td>\n",
              "      <td>26.8467</td>\n",
              "      <td>80.9462</td>\n",
              "      <td>5</td>\n",
              "      <td>483</td>\n",
              "    </tr>\n",
              "    <tr>\n",
              "      <th>917</th>\n",
              "      <td>2020-04-13</td>\n",
              "      <td>Uttarakhand</td>\n",
              "      <td>0</td>\n",
              "      <td>0</td>\n",
              "      <td>5</td>\n",
              "      <td>30.0668</td>\n",
              "      <td>79.0193</td>\n",
              "      <td>0</td>\n",
              "      <td>35</td>\n",
              "    </tr>\n",
              "    <tr>\n",
              "      <th>918</th>\n",
              "      <td>2020-04-13</td>\n",
              "      <td>West Bengal</td>\n",
              "      <td>0</td>\n",
              "      <td>0</td>\n",
              "      <td>29</td>\n",
              "      <td>22.9868</td>\n",
              "      <td>87.8550</td>\n",
              "      <td>7</td>\n",
              "      <td>152</td>\n",
              "    </tr>\n",
              "  </tbody>\n",
              "</table>\n",
              "</div>"
            ],
            "text/plain": [
              "           Date Name of State / UT  Total Confirmed cases (Indian National)  \\\n",
              "914  2020-04-13          Telengana                                        0   \n",
              "915  2020-04-13            Tripura                                        0   \n",
              "916  2020-04-13      Uttar Pradesh                                        0   \n",
              "917  2020-04-13        Uttarakhand                                        0   \n",
              "918  2020-04-13        West Bengal                                        0   \n",
              "\n",
              "     Total Confirmed cases ( Foreign National )  Cured/Discharged/Migrated  \\\n",
              "914                                           0                         43   \n",
              "915                                           0                          0   \n",
              "916                                           0                         46   \n",
              "917                                           0                          5   \n",
              "918                                           0                         29   \n",
              "\n",
              "     Latitude  Longitude  Death  Total Confirmed cases  \n",
              "914   18.1124    79.0193      9                    504  \n",
              "915   23.9408    91.9882      0                      2  \n",
              "916   26.8467    80.9462      5                    483  \n",
              "917   30.0668    79.0193      0                     35  \n",
              "918   22.9868    87.8550      7                    152  "
            ]
          },
          "metadata": {
            "tags": []
          },
          "execution_count": 87
        }
      ]
    },
    {
      "cell_type": "markdown",
      "metadata": {
        "id": "if4S5R2bfS5Y",
        "colab_type": "text"
      },
      "source": [
        "#**Basics operations in Pandas**"
      ]
    },
    {
      "cell_type": "code",
      "metadata": {
        "id": "bTdbniyUbiBK",
        "colab_type": "code",
        "colab": {
          "base_uri": "https://localhost:8080/",
          "height": 35
        },
        "outputId": "d5aa4ec8-775e-452b-f814-dcacb142cb06"
      },
      "source": [
        "#to get total no of elements\n",
        "data.size"
      ],
      "execution_count": null,
      "outputs": [
        {
          "output_type": "execute_result",
          "data": {
            "text/plain": [
              "8271"
            ]
          },
          "metadata": {
            "tags": []
          },
          "execution_count": 88
        }
      ]
    },
    {
      "cell_type": "code",
      "metadata": {
        "id": "udp3F3TTbmhF",
        "colab_type": "code",
        "colab": {
          "base_uri": "https://localhost:8080/",
          "height": 35
        },
        "outputId": "38d2e4bf-6398-45f2-bb25-63342a31f3f7"
      },
      "source": [
        "#to get dimensions of dataframe (df) rows and columns\n",
        "data.shape"
      ],
      "execution_count": null,
      "outputs": [
        {
          "output_type": "execute_result",
          "data": {
            "text/plain": [
              "(919, 9)"
            ]
          },
          "metadata": {
            "tags": []
          },
          "execution_count": 89
        }
      ]
    },
    {
      "cell_type": "markdown",
      "metadata": {
        "id": "JeV4L8gmB1e_",
        "colab_type": "text"
      },
      "source": [
        "### **2 Q) How many number of rows and columns are present in your dataset?**"
      ]
    },
    {
      "cell_type": "code",
      "metadata": {
        "id": "EidPSHUnB_Of",
        "colab_type": "code",
        "colab": {
          "base_uri": "https://localhost:8080/",
          "height": 52
        },
        "outputId": "9a9cd2b1-a306-452b-dfc1-cf4ba72f0402"
      },
      "source": [
        "print(\"The number of rows are: \", data.shape[0])\n",
        "print(\"The number of columns are: \", data.shape[1])"
      ],
      "execution_count": null,
      "outputs": [
        {
          "output_type": "stream",
          "text": [
            "The number of rows are:  919\n",
            "The number of columns are:  9\n"
          ],
          "name": "stdout"
        }
      ]
    },
    {
      "cell_type": "code",
      "metadata": {
        "id": "NV38P3TJb2HM",
        "colab_type": "code",
        "colab": {
          "base_uri": "https://localhost:8080/",
          "height": 212
        },
        "outputId": "6875d1d4-6ff5-404a-b77f-d32e39191250"
      },
      "source": [
        "#to get memory usage of each column\n",
        "data.memory_usage()"
      ],
      "execution_count": null,
      "outputs": [
        {
          "output_type": "execute_result",
          "data": {
            "text/plain": [
              "Index                                          128\n",
              "Date                                          7352\n",
              "Name of State / UT                            7352\n",
              "Total Confirmed cases (Indian National)       7352\n",
              "Total Confirmed cases ( Foreign National )    7352\n",
              "Cured/Discharged/Migrated                     7352\n",
              "Latitude                                      7352\n",
              "Longitude                                     7352\n",
              "Death                                         7352\n",
              "Total Confirmed cases                         7352\n",
              "dtype: int64"
            ]
          },
          "metadata": {
            "tags": []
          },
          "execution_count": 91
        }
      ]
    },
    {
      "cell_type": "code",
      "metadata": {
        "id": "2_cPOynWdnPA",
        "colab_type": "code",
        "colab": {
          "base_uri": "https://localhost:8080/",
          "height": 301
        },
        "outputId": "cbb41993-b63b-4961-efb6-043a0d1d8a9f"
      },
      "source": [
        "#Concise Summary of Dataframe\n",
        "data.info()"
      ],
      "execution_count": null,
      "outputs": [
        {
          "output_type": "stream",
          "text": [
            "<class 'pandas.core.frame.DataFrame'>\n",
            "RangeIndex: 919 entries, 0 to 918\n",
            "Data columns (total 9 columns):\n",
            " #   Column                                      Non-Null Count  Dtype  \n",
            "---  ------                                      --------------  -----  \n",
            " 0   Date                                        919 non-null    object \n",
            " 1   Name of State / UT                          919 non-null    object \n",
            " 2   Total Confirmed cases (Indian National)     919 non-null    int64  \n",
            " 3   Total Confirmed cases ( Foreign National )  919 non-null    int64  \n",
            " 4   Cured/Discharged/Migrated                   919 non-null    int64  \n",
            " 5   Latitude                                    919 non-null    float64\n",
            " 6   Longitude                                   919 non-null    float64\n",
            " 7   Death                                       919 non-null    int64  \n",
            " 8   Total Confirmed cases                       919 non-null    int64  \n",
            "dtypes: float64(2), int64(5), object(2)\n",
            "memory usage: 64.7+ KB\n"
          ],
          "name": "stdout"
        }
      ]
    },
    {
      "cell_type": "code",
      "metadata": {
        "id": "aKM6CNC2dfS5",
        "colab_type": "code",
        "colab": {}
      },
      "source": [
        "pd.set_option('display.max_columns',12)        #How many columns want to display"
      ],
      "execution_count": null,
      "outputs": []
    },
    {
      "cell_type": "code",
      "metadata": {
        "id": "N3DSC9XRdrKN",
        "colab_type": "code",
        "colab": {
          "base_uri": "https://localhost:8080/",
          "height": 615
        },
        "outputId": "6cd545e2-b84e-454f-f567-4c47ccf9f44c"
      },
      "source": [
        "data"
      ],
      "execution_count": null,
      "outputs": [
        {
          "output_type": "execute_result",
          "data": {
            "text/html": [
              "<div>\n",
              "<style scoped>\n",
              "    .dataframe tbody tr th:only-of-type {\n",
              "        vertical-align: middle;\n",
              "    }\n",
              "\n",
              "    .dataframe tbody tr th {\n",
              "        vertical-align: top;\n",
              "    }\n",
              "\n",
              "    .dataframe thead th {\n",
              "        text-align: right;\n",
              "    }\n",
              "</style>\n",
              "<table border=\"1\" class=\"dataframe\">\n",
              "  <thead>\n",
              "    <tr style=\"text-align: right;\">\n",
              "      <th></th>\n",
              "      <th>Date</th>\n",
              "      <th>Name of State / UT</th>\n",
              "      <th>Total Confirmed cases (Indian National)</th>\n",
              "      <th>Total Confirmed cases ( Foreign National )</th>\n",
              "      <th>Cured/Discharged/Migrated</th>\n",
              "      <th>Latitude</th>\n",
              "      <th>Longitude</th>\n",
              "      <th>Death</th>\n",
              "      <th>Total Confirmed cases</th>\n",
              "    </tr>\n",
              "  </thead>\n",
              "  <tbody>\n",
              "    <tr>\n",
              "      <th>0</th>\n",
              "      <td>2020-01-30</td>\n",
              "      <td>Kerala</td>\n",
              "      <td>1</td>\n",
              "      <td>0</td>\n",
              "      <td>0</td>\n",
              "      <td>10.8505</td>\n",
              "      <td>76.2711</td>\n",
              "      <td>0</td>\n",
              "      <td>1</td>\n",
              "    </tr>\n",
              "    <tr>\n",
              "      <th>1</th>\n",
              "      <td>2020-01-31</td>\n",
              "      <td>Kerala</td>\n",
              "      <td>1</td>\n",
              "      <td>0</td>\n",
              "      <td>0</td>\n",
              "      <td>10.8505</td>\n",
              "      <td>76.2711</td>\n",
              "      <td>0</td>\n",
              "      <td>1</td>\n",
              "    </tr>\n",
              "    <tr>\n",
              "      <th>2</th>\n",
              "      <td>2020-02-01</td>\n",
              "      <td>Kerala</td>\n",
              "      <td>2</td>\n",
              "      <td>0</td>\n",
              "      <td>0</td>\n",
              "      <td>10.8505</td>\n",
              "      <td>76.2711</td>\n",
              "      <td>0</td>\n",
              "      <td>2</td>\n",
              "    </tr>\n",
              "    <tr>\n",
              "      <th>3</th>\n",
              "      <td>2020-02-02</td>\n",
              "      <td>Kerala</td>\n",
              "      <td>3</td>\n",
              "      <td>0</td>\n",
              "      <td>0</td>\n",
              "      <td>10.8505</td>\n",
              "      <td>76.2711</td>\n",
              "      <td>0</td>\n",
              "      <td>3</td>\n",
              "    </tr>\n",
              "    <tr>\n",
              "      <th>4</th>\n",
              "      <td>2020-02-03</td>\n",
              "      <td>Kerala</td>\n",
              "      <td>3</td>\n",
              "      <td>0</td>\n",
              "      <td>0</td>\n",
              "      <td>10.8505</td>\n",
              "      <td>76.2711</td>\n",
              "      <td>0</td>\n",
              "      <td>3</td>\n",
              "    </tr>\n",
              "    <tr>\n",
              "      <th>...</th>\n",
              "      <td>...</td>\n",
              "      <td>...</td>\n",
              "      <td>...</td>\n",
              "      <td>...</td>\n",
              "      <td>...</td>\n",
              "      <td>...</td>\n",
              "      <td>...</td>\n",
              "      <td>...</td>\n",
              "      <td>...</td>\n",
              "    </tr>\n",
              "    <tr>\n",
              "      <th>914</th>\n",
              "      <td>2020-04-13</td>\n",
              "      <td>Telengana</td>\n",
              "      <td>0</td>\n",
              "      <td>0</td>\n",
              "      <td>43</td>\n",
              "      <td>18.1124</td>\n",
              "      <td>79.0193</td>\n",
              "      <td>9</td>\n",
              "      <td>504</td>\n",
              "    </tr>\n",
              "    <tr>\n",
              "      <th>915</th>\n",
              "      <td>2020-04-13</td>\n",
              "      <td>Tripura</td>\n",
              "      <td>0</td>\n",
              "      <td>0</td>\n",
              "      <td>0</td>\n",
              "      <td>23.9408</td>\n",
              "      <td>91.9882</td>\n",
              "      <td>0</td>\n",
              "      <td>2</td>\n",
              "    </tr>\n",
              "    <tr>\n",
              "      <th>916</th>\n",
              "      <td>2020-04-13</td>\n",
              "      <td>Uttar Pradesh</td>\n",
              "      <td>0</td>\n",
              "      <td>0</td>\n",
              "      <td>46</td>\n",
              "      <td>26.8467</td>\n",
              "      <td>80.9462</td>\n",
              "      <td>5</td>\n",
              "      <td>483</td>\n",
              "    </tr>\n",
              "    <tr>\n",
              "      <th>917</th>\n",
              "      <td>2020-04-13</td>\n",
              "      <td>Uttarakhand</td>\n",
              "      <td>0</td>\n",
              "      <td>0</td>\n",
              "      <td>5</td>\n",
              "      <td>30.0668</td>\n",
              "      <td>79.0193</td>\n",
              "      <td>0</td>\n",
              "      <td>35</td>\n",
              "    </tr>\n",
              "    <tr>\n",
              "      <th>918</th>\n",
              "      <td>2020-04-13</td>\n",
              "      <td>West Bengal</td>\n",
              "      <td>0</td>\n",
              "      <td>0</td>\n",
              "      <td>29</td>\n",
              "      <td>22.9868</td>\n",
              "      <td>87.8550</td>\n",
              "      <td>7</td>\n",
              "      <td>152</td>\n",
              "    </tr>\n",
              "  </tbody>\n",
              "</table>\n",
              "<p>919 rows × 9 columns</p>\n",
              "</div>"
            ],
            "text/plain": [
              "           Date Name of State / UT  Total Confirmed cases (Indian National)  \\\n",
              "0    2020-01-30             Kerala                                        1   \n",
              "1    2020-01-31             Kerala                                        1   \n",
              "2    2020-02-01             Kerala                                        2   \n",
              "3    2020-02-02             Kerala                                        3   \n",
              "4    2020-02-03             Kerala                                        3   \n",
              "..          ...                ...                                      ...   \n",
              "914  2020-04-13          Telengana                                        0   \n",
              "915  2020-04-13            Tripura                                        0   \n",
              "916  2020-04-13      Uttar Pradesh                                        0   \n",
              "917  2020-04-13        Uttarakhand                                        0   \n",
              "918  2020-04-13        West Bengal                                        0   \n",
              "\n",
              "     Total Confirmed cases ( Foreign National )  Cured/Discharged/Migrated  \\\n",
              "0                                             0                          0   \n",
              "1                                             0                          0   \n",
              "2                                             0                          0   \n",
              "3                                             0                          0   \n",
              "4                                             0                          0   \n",
              "..                                          ...                        ...   \n",
              "914                                           0                         43   \n",
              "915                                           0                          0   \n",
              "916                                           0                         46   \n",
              "917                                           0                          5   \n",
              "918                                           0                         29   \n",
              "\n",
              "     Latitude  Longitude  Death  Total Confirmed cases  \n",
              "0     10.8505    76.2711      0                      1  \n",
              "1     10.8505    76.2711      0                      1  \n",
              "2     10.8505    76.2711      0                      2  \n",
              "3     10.8505    76.2711      0                      3  \n",
              "4     10.8505    76.2711      0                      3  \n",
              "..        ...        ...    ...                    ...  \n",
              "914   18.1124    79.0193      9                    504  \n",
              "915   23.9408    91.9882      0                      2  \n",
              "916   26.8467    80.9462      5                    483  \n",
              "917   30.0668    79.0193      0                     35  \n",
              "918   22.9868    87.8550      7                    152  \n",
              "\n",
              "[919 rows x 9 columns]"
            ]
          },
          "metadata": {
            "tags": []
          },
          "execution_count": 94
        }
      ]
    },
    {
      "cell_type": "markdown",
      "metadata": {
        "id": "e-5xYiE6Dds6",
        "colab_type": "text"
      },
      "source": [
        "### **3 Q) How many unique values are there in Name of State / UT column?**"
      ]
    },
    {
      "cell_type": "code",
      "metadata": {
        "id": "OT1cBhJ2Asxm",
        "colab_type": "code",
        "colab": {
          "base_uri": "https://localhost:8080/",
          "height": 639
        },
        "outputId": "f45b80e8-05f3-425e-b99e-878acb9b21a7"
      },
      "source": [
        "#Get the unique category counts\n",
        "data['Name of State / UT'].value_counts()"
      ],
      "execution_count": null,
      "outputs": [
        {
          "output_type": "execute_result",
          "data": {
            "text/plain": [
              "Kerala                                  75\n",
              "Delhi                                   43\n",
              "Telengana                               43\n",
              "Rajasthan                               42\n",
              "Haryana                                 41\n",
              "Uttar Pradesh                           41\n",
              "Tamil Nadu                              38\n",
              "Maharashtra                             36\n",
              "Karnataka                               36\n",
              "Punjab                                  36\n",
              "Andhra Pradesh                          33\n",
              "Uttarakhand                             30\n",
              "Odisha                                  29\n",
              "Puducherry                              27\n",
              "Chhattisgarh                            26\n",
              "Gujarat                                 25\n",
              "Chandigarh                              24\n",
              "Jammu and Kashmir                       24\n",
              "West Bengal                             24\n",
              "Madhya Pradesh                          24\n",
              "Himachal Pradesh                        24\n",
              "Ladakh                                  24\n",
              "Bihar                                   23\n",
              "Manipur                                 21\n",
              "Mizoram                                 20\n",
              "Goa                                     19\n",
              "Andaman and Nicobar Islands             19\n",
              "Union Territory of Ladakh               14\n",
              "Jharkhand                               13\n",
              "Assam                                   13\n",
              "Union Territory of Jammu and Kashmir    12\n",
              "Arunachal Pradesh                       11\n",
              "Tripura                                  7\n",
              "Union Territory of Chandigarh            2\n",
              "Name: Name of State / UT, dtype: int64"
            ]
          },
          "metadata": {
            "tags": []
          },
          "execution_count": 95
        }
      ]
    },
    {
      "cell_type": "code",
      "metadata": {
        "id": "YMmqpeKXbP33",
        "colab_type": "code",
        "colab": {
          "base_uri": "https://localhost:8080/",
          "height": 106
        },
        "outputId": "cf2a8911-fe2d-442c-c8ff-998ae8992d49"
      },
      "source": [
        "#to display column labels\n",
        "data.columns"
      ],
      "execution_count": null,
      "outputs": [
        {
          "output_type": "execute_result",
          "data": {
            "text/plain": [
              "Index(['Date', 'Name of State / UT', 'Total Confirmed cases (Indian National)',\n",
              "       'Total Confirmed cases ( Foreign National )',\n",
              "       'Cured/Discharged/Migrated', 'Latitude', 'Longitude', 'Death',\n",
              "       'Total Confirmed cases'],\n",
              "      dtype='object')"
            ]
          },
          "metadata": {
            "tags": []
          },
          "execution_count": 96
        }
      ]
    },
    {
      "cell_type": "code",
      "metadata": {
        "id": "xAblN7l0bP0C",
        "colab_type": "code",
        "colab": {
          "base_uri": "https://localhost:8080/",
          "height": 35
        },
        "outputId": "3ac5022c-aa96-446f-8e45-d606a1ed18a3"
      },
      "source": [
        "#to display row labels\n",
        "data.index"
      ],
      "execution_count": null,
      "outputs": [
        {
          "output_type": "execute_result",
          "data": {
            "text/plain": [
              "RangeIndex(start=0, stop=919, step=1)"
            ]
          },
          "metadata": {
            "tags": []
          },
          "execution_count": 97
        }
      ]
    },
    {
      "cell_type": "markdown",
      "metadata": {
        "id": "7Dz5NTcwiJ6T",
        "colab_type": "text"
      },
      "source": [
        "#**Data Types**\n",
        "**Checking data types of each column**"
      ]
    },
    {
      "cell_type": "code",
      "metadata": {
        "id": "xA-4TSleddgP",
        "colab_type": "code",
        "colab": {
          "base_uri": "https://localhost:8080/",
          "height": 195
        },
        "outputId": "23acaf67-d861-4bcb-9f84-30f138d034cb"
      },
      "source": [
        "data.dtypes"
      ],
      "execution_count": null,
      "outputs": [
        {
          "output_type": "execute_result",
          "data": {
            "text/plain": [
              "Date                                           object\n",
              "Name of State / UT                             object\n",
              "Total Confirmed cases (Indian National)         int64\n",
              "Total Confirmed cases ( Foreign National )      int64\n",
              "Cured/Discharged/Migrated                       int64\n",
              "Latitude                                      float64\n",
              "Longitude                                     float64\n",
              "Death                                           int64\n",
              "Total Confirmed cases                           int64\n",
              "dtype: object"
            ]
          },
          "metadata": {
            "tags": []
          },
          "execution_count": 98
        }
      ]
    },
    {
      "cell_type": "markdown",
      "metadata": {
        "id": "r0mVWJGOiTCY",
        "colab_type": "text"
      },
      "source": [
        "**Seleting data based on data types**"
      ]
    },
    {
      "cell_type": "markdown",
      "metadata": {
        "id": "BQRaBhK9ECOb",
        "colab_type": "text"
      },
      "source": [
        "### **4 Q) Select only integer and float datatypes from the dataset.**"
      ]
    },
    {
      "cell_type": "code",
      "metadata": {
        "id": "GDBm9t8QiWcg",
        "colab_type": "code",
        "colab": {
          "base_uri": "https://localhost:8080/",
          "height": 411
        },
        "outputId": "51daa714-3d21-46e0-c686-f531d430407c"
      },
      "source": [
        "data.select_dtypes(include=[], exclude=[object])"
      ],
      "execution_count": null,
      "outputs": [
        {
          "output_type": "execute_result",
          "data": {
            "text/html": [
              "<div>\n",
              "<style scoped>\n",
              "    .dataframe tbody tr th:only-of-type {\n",
              "        vertical-align: middle;\n",
              "    }\n",
              "\n",
              "    .dataframe tbody tr th {\n",
              "        vertical-align: top;\n",
              "    }\n",
              "\n",
              "    .dataframe thead th {\n",
              "        text-align: right;\n",
              "    }\n",
              "</style>\n",
              "<table border=\"1\" class=\"dataframe\">\n",
              "  <thead>\n",
              "    <tr style=\"text-align: right;\">\n",
              "      <th></th>\n",
              "      <th>Total Confirmed cases (Indian National)</th>\n",
              "      <th>Total Confirmed cases ( Foreign National )</th>\n",
              "      <th>Cured/Discharged/Migrated</th>\n",
              "      <th>Latitude</th>\n",
              "      <th>Longitude</th>\n",
              "      <th>Death</th>\n",
              "      <th>Total Confirmed cases</th>\n",
              "    </tr>\n",
              "  </thead>\n",
              "  <tbody>\n",
              "    <tr>\n",
              "      <th>0</th>\n",
              "      <td>1</td>\n",
              "      <td>0</td>\n",
              "      <td>0</td>\n",
              "      <td>10.8505</td>\n",
              "      <td>76.2711</td>\n",
              "      <td>0</td>\n",
              "      <td>1</td>\n",
              "    </tr>\n",
              "    <tr>\n",
              "      <th>1</th>\n",
              "      <td>1</td>\n",
              "      <td>0</td>\n",
              "      <td>0</td>\n",
              "      <td>10.8505</td>\n",
              "      <td>76.2711</td>\n",
              "      <td>0</td>\n",
              "      <td>1</td>\n",
              "    </tr>\n",
              "    <tr>\n",
              "      <th>2</th>\n",
              "      <td>2</td>\n",
              "      <td>0</td>\n",
              "      <td>0</td>\n",
              "      <td>10.8505</td>\n",
              "      <td>76.2711</td>\n",
              "      <td>0</td>\n",
              "      <td>2</td>\n",
              "    </tr>\n",
              "    <tr>\n",
              "      <th>3</th>\n",
              "      <td>3</td>\n",
              "      <td>0</td>\n",
              "      <td>0</td>\n",
              "      <td>10.8505</td>\n",
              "      <td>76.2711</td>\n",
              "      <td>0</td>\n",
              "      <td>3</td>\n",
              "    </tr>\n",
              "    <tr>\n",
              "      <th>4</th>\n",
              "      <td>3</td>\n",
              "      <td>0</td>\n",
              "      <td>0</td>\n",
              "      <td>10.8505</td>\n",
              "      <td>76.2711</td>\n",
              "      <td>0</td>\n",
              "      <td>3</td>\n",
              "    </tr>\n",
              "    <tr>\n",
              "      <th>...</th>\n",
              "      <td>...</td>\n",
              "      <td>...</td>\n",
              "      <td>...</td>\n",
              "      <td>...</td>\n",
              "      <td>...</td>\n",
              "      <td>...</td>\n",
              "      <td>...</td>\n",
              "    </tr>\n",
              "    <tr>\n",
              "      <th>914</th>\n",
              "      <td>0</td>\n",
              "      <td>0</td>\n",
              "      <td>43</td>\n",
              "      <td>18.1124</td>\n",
              "      <td>79.0193</td>\n",
              "      <td>9</td>\n",
              "      <td>504</td>\n",
              "    </tr>\n",
              "    <tr>\n",
              "      <th>915</th>\n",
              "      <td>0</td>\n",
              "      <td>0</td>\n",
              "      <td>0</td>\n",
              "      <td>23.9408</td>\n",
              "      <td>91.9882</td>\n",
              "      <td>0</td>\n",
              "      <td>2</td>\n",
              "    </tr>\n",
              "    <tr>\n",
              "      <th>916</th>\n",
              "      <td>0</td>\n",
              "      <td>0</td>\n",
              "      <td>46</td>\n",
              "      <td>26.8467</td>\n",
              "      <td>80.9462</td>\n",
              "      <td>5</td>\n",
              "      <td>483</td>\n",
              "    </tr>\n",
              "    <tr>\n",
              "      <th>917</th>\n",
              "      <td>0</td>\n",
              "      <td>0</td>\n",
              "      <td>5</td>\n",
              "      <td>30.0668</td>\n",
              "      <td>79.0193</td>\n",
              "      <td>0</td>\n",
              "      <td>35</td>\n",
              "    </tr>\n",
              "    <tr>\n",
              "      <th>918</th>\n",
              "      <td>0</td>\n",
              "      <td>0</td>\n",
              "      <td>29</td>\n",
              "      <td>22.9868</td>\n",
              "      <td>87.8550</td>\n",
              "      <td>7</td>\n",
              "      <td>152</td>\n",
              "    </tr>\n",
              "  </tbody>\n",
              "</table>\n",
              "<p>919 rows × 7 columns</p>\n",
              "</div>"
            ],
            "text/plain": [
              "     Total Confirmed cases (Indian National)  \\\n",
              "0                                          1   \n",
              "1                                          1   \n",
              "2                                          2   \n",
              "3                                          3   \n",
              "4                                          3   \n",
              "..                                       ...   \n",
              "914                                        0   \n",
              "915                                        0   \n",
              "916                                        0   \n",
              "917                                        0   \n",
              "918                                        0   \n",
              "\n",
              "     Total Confirmed cases ( Foreign National )  Cured/Discharged/Migrated  \\\n",
              "0                                             0                          0   \n",
              "1                                             0                          0   \n",
              "2                                             0                          0   \n",
              "3                                             0                          0   \n",
              "4                                             0                          0   \n",
              "..                                          ...                        ...   \n",
              "914                                           0                         43   \n",
              "915                                           0                          0   \n",
              "916                                           0                         46   \n",
              "917                                           0                          5   \n",
              "918                                           0                         29   \n",
              "\n",
              "     Latitude  Longitude  Death  Total Confirmed cases  \n",
              "0     10.8505    76.2711      0                      1  \n",
              "1     10.8505    76.2711      0                      1  \n",
              "2     10.8505    76.2711      0                      2  \n",
              "3     10.8505    76.2711      0                      3  \n",
              "4     10.8505    76.2711      0                      3  \n",
              "..        ...        ...    ...                    ...  \n",
              "914   18.1124    79.0193      9                    504  \n",
              "915   23.9408    91.9882      0                      2  \n",
              "916   26.8467    80.9462      5                    483  \n",
              "917   30.0668    79.0193      0                     35  \n",
              "918   22.9868    87.8550      7                    152  \n",
              "\n",
              "[919 rows x 7 columns]"
            ]
          },
          "metadata": {
            "tags": []
          },
          "execution_count": 99
        }
      ]
    },
    {
      "cell_type": "markdown",
      "metadata": {
        "id": "khc5tk16EZ1g",
        "colab_type": "text"
      },
      "source": [
        "### **5 Q) Select only object datatype from the dataset.**"
      ]
    },
    {
      "cell_type": "code",
      "metadata": {
        "id": "5OqxMoJd2Fpl",
        "colab_type": "code",
        "colab": {
          "base_uri": "https://localhost:8080/",
          "height": 195
        },
        "outputId": "187d2426-dfbd-48d2-ce4e-c0b472b9e8bd"
      },
      "source": [
        "data.dtypes == \"object\""
      ],
      "execution_count": null,
      "outputs": [
        {
          "output_type": "execute_result",
          "data": {
            "text/plain": [
              "Date                                           True\n",
              "Name of State / UT                             True\n",
              "Total Confirmed cases (Indian National)       False\n",
              "Total Confirmed cases ( Foreign National )    False\n",
              "Cured/Discharged/Migrated                     False\n",
              "Latitude                                      False\n",
              "Longitude                                     False\n",
              "Death                                         False\n",
              "Total Confirmed cases                         False\n",
              "dtype: bool"
            ]
          },
          "metadata": {
            "tags": []
          },
          "execution_count": 100
        }
      ]
    },
    {
      "cell_type": "code",
      "metadata": {
        "id": "G6aj-mQN2NLj",
        "colab_type": "code",
        "colab": {
          "base_uri": "https://localhost:8080/",
          "height": 35
        },
        "outputId": "347bbeca-df14-4c40-81ae-39d2e8de67f4"
      },
      "source": [
        "a = data.dtypes[data.dtypes == \"object\"].index\n",
        "a"
      ],
      "execution_count": null,
      "outputs": [
        {
          "output_type": "execute_result",
          "data": {
            "text/plain": [
              "Index(['Date', 'Name of State / UT'], dtype='object')"
            ]
          },
          "metadata": {
            "tags": []
          },
          "execution_count": 101
        }
      ]
    },
    {
      "cell_type": "markdown",
      "metadata": {
        "id": "jizzqPcduSoT",
        "colab_type": "text"
      },
      "source": [
        "**Converting variable’s data types**"
      ]
    },
    {
      "cell_type": "code",
      "metadata": {
        "id": "76dUYQHouaUp",
        "colab_type": "code",
        "colab": {
          "base_uri": "https://localhost:8080/",
          "height": 195
        },
        "outputId": "a5c76b18-de6c-4b7f-b681-675dd29c09ea"
      },
      "source": [
        "data.dtypes"
      ],
      "execution_count": null,
      "outputs": [
        {
          "output_type": "execute_result",
          "data": {
            "text/plain": [
              "Date                                           object\n",
              "Name of State / UT                             object\n",
              "Total Confirmed cases (Indian National)         int64\n",
              "Total Confirmed cases ( Foreign National )      int64\n",
              "Cured/Discharged/Migrated                       int64\n",
              "Latitude                                      float64\n",
              "Longitude                                     float64\n",
              "Death                                           int64\n",
              "Total Confirmed cases                           int64\n",
              "dtype: object"
            ]
          },
          "metadata": {
            "tags": []
          },
          "execution_count": 102
        }
      ]
    },
    {
      "cell_type": "code",
      "metadata": {
        "id": "rvWvBA7EuULt",
        "colab_type": "code",
        "colab": {}
      },
      "source": [
        "data['Death'] = data['Death'].astype('object')"
      ],
      "execution_count": null,
      "outputs": []
    },
    {
      "cell_type": "code",
      "metadata": {
        "id": "K30Lx4teunZn",
        "colab_type": "code",
        "colab": {
          "base_uri": "https://localhost:8080/",
          "height": 35
        },
        "outputId": "ae6622d9-f8c3-4997-fa69-12014faf6cc5"
      },
      "source": [
        "data['Death'].dtypes"
      ],
      "execution_count": null,
      "outputs": [
        {
          "output_type": "execute_result",
          "data": {
            "text/plain": [
              "dtype('O')"
            ]
          },
          "metadata": {
            "tags": []
          },
          "execution_count": 104
        }
      ]
    },
    {
      "cell_type": "markdown",
      "metadata": {
        "id": "MawFTxL8feNO",
        "colab_type": "text"
      },
      "source": [
        "#**Accessing rows and columns (indexing and selecting data)**\n",
        "* Label-based 'loc' method\n",
        "* Index (numeric) 'iloc' method"
      ]
    },
    {
      "cell_type": "code",
      "metadata": {
        "id": "fNyctpyDfof8",
        "colab_type": "code",
        "colab": {
          "base_uri": "https://localhost:8080/",
          "height": 230
        },
        "outputId": "b55d243e-6910-4975-af9e-12f1cc0669a6"
      },
      "source": [
        "data['Total Confirmed cases']        #single column"
      ],
      "execution_count": null,
      "outputs": [
        {
          "output_type": "execute_result",
          "data": {
            "text/plain": [
              "0        1\n",
              "1        1\n",
              "2        2\n",
              "3        3\n",
              "4        3\n",
              "      ... \n",
              "914    504\n",
              "915      2\n",
              "916    483\n",
              "917     35\n",
              "918    152\n",
              "Name: Total Confirmed cases, Length: 919, dtype: int64"
            ]
          },
          "metadata": {
            "tags": []
          },
          "execution_count": 105
        }
      ]
    },
    {
      "cell_type": "code",
      "metadata": {
        "id": "PSntpeURfom4",
        "colab_type": "code",
        "colab": {
          "base_uri": "https://localhost:8080/",
          "height": 411
        },
        "outputId": "dc14ce7a-9e49-46a2-97f6-23c2254bd6c9"
      },
      "source": [
        "data[[ 'Total Confirmed cases (Indian National)', 'Total Confirmed cases ( Foreign National )', 'Cured/Discharged/Migrated']]"
      ],
      "execution_count": null,
      "outputs": [
        {
          "output_type": "execute_result",
          "data": {
            "text/html": [
              "<div>\n",
              "<style scoped>\n",
              "    .dataframe tbody tr th:only-of-type {\n",
              "        vertical-align: middle;\n",
              "    }\n",
              "\n",
              "    .dataframe tbody tr th {\n",
              "        vertical-align: top;\n",
              "    }\n",
              "\n",
              "    .dataframe thead th {\n",
              "        text-align: right;\n",
              "    }\n",
              "</style>\n",
              "<table border=\"1\" class=\"dataframe\">\n",
              "  <thead>\n",
              "    <tr style=\"text-align: right;\">\n",
              "      <th></th>\n",
              "      <th>Total Confirmed cases (Indian National)</th>\n",
              "      <th>Total Confirmed cases ( Foreign National )</th>\n",
              "      <th>Cured/Discharged/Migrated</th>\n",
              "    </tr>\n",
              "  </thead>\n",
              "  <tbody>\n",
              "    <tr>\n",
              "      <th>0</th>\n",
              "      <td>1</td>\n",
              "      <td>0</td>\n",
              "      <td>0</td>\n",
              "    </tr>\n",
              "    <tr>\n",
              "      <th>1</th>\n",
              "      <td>1</td>\n",
              "      <td>0</td>\n",
              "      <td>0</td>\n",
              "    </tr>\n",
              "    <tr>\n",
              "      <th>2</th>\n",
              "      <td>2</td>\n",
              "      <td>0</td>\n",
              "      <td>0</td>\n",
              "    </tr>\n",
              "    <tr>\n",
              "      <th>3</th>\n",
              "      <td>3</td>\n",
              "      <td>0</td>\n",
              "      <td>0</td>\n",
              "    </tr>\n",
              "    <tr>\n",
              "      <th>4</th>\n",
              "      <td>3</td>\n",
              "      <td>0</td>\n",
              "      <td>0</td>\n",
              "    </tr>\n",
              "    <tr>\n",
              "      <th>...</th>\n",
              "      <td>...</td>\n",
              "      <td>...</td>\n",
              "      <td>...</td>\n",
              "    </tr>\n",
              "    <tr>\n",
              "      <th>914</th>\n",
              "      <td>0</td>\n",
              "      <td>0</td>\n",
              "      <td>43</td>\n",
              "    </tr>\n",
              "    <tr>\n",
              "      <th>915</th>\n",
              "      <td>0</td>\n",
              "      <td>0</td>\n",
              "      <td>0</td>\n",
              "    </tr>\n",
              "    <tr>\n",
              "      <th>916</th>\n",
              "      <td>0</td>\n",
              "      <td>0</td>\n",
              "      <td>46</td>\n",
              "    </tr>\n",
              "    <tr>\n",
              "      <th>917</th>\n",
              "      <td>0</td>\n",
              "      <td>0</td>\n",
              "      <td>5</td>\n",
              "    </tr>\n",
              "    <tr>\n",
              "      <th>918</th>\n",
              "      <td>0</td>\n",
              "      <td>0</td>\n",
              "      <td>29</td>\n",
              "    </tr>\n",
              "  </tbody>\n",
              "</table>\n",
              "<p>919 rows × 3 columns</p>\n",
              "</div>"
            ],
            "text/plain": [
              "     Total Confirmed cases (Indian National)  \\\n",
              "0                                          1   \n",
              "1                                          1   \n",
              "2                                          2   \n",
              "3                                          3   \n",
              "4                                          3   \n",
              "..                                       ...   \n",
              "914                                        0   \n",
              "915                                        0   \n",
              "916                                        0   \n",
              "917                                        0   \n",
              "918                                        0   \n",
              "\n",
              "     Total Confirmed cases ( Foreign National )  Cured/Discharged/Migrated  \n",
              "0                                             0                          0  \n",
              "1                                             0                          0  \n",
              "2                                             0                          0  \n",
              "3                                             0                          0  \n",
              "4                                             0                          0  \n",
              "..                                          ...                        ...  \n",
              "914                                           0                         43  \n",
              "915                                           0                          0  \n",
              "916                                           0                         46  \n",
              "917                                           0                          5  \n",
              "918                                           0                         29  \n",
              "\n",
              "[919 rows x 3 columns]"
            ]
          },
          "metadata": {
            "tags": []
          },
          "execution_count": 106
        }
      ]
    },
    {
      "cell_type": "markdown",
      "metadata": {
        "id": "K8PWkFqIhmWm",
        "colab_type": "text"
      },
      "source": [
        "slicing operator [] and dot operaror . used for indexing\n",
        "it provides quick and easy access to pd data structures \n"
      ]
    },
    {
      "cell_type": "code",
      "metadata": {
        "id": "KglHK3UBfokU",
        "colab_type": "code",
        "colab": {
          "base_uri": "https://localhost:8080/",
          "height": 301
        },
        "outputId": "bf299456-0932-4ad8-ea58-67a0a9d4c884"
      },
      "source": [
        "# To access a group of rows and columns by label(s)\n",
        "# .loc[]\n",
        "print(\"Label-based 'loc' method can be used for selecting row(s)\")\n",
        "print(data.iloc[3])"
      ],
      "execution_count": null,
      "outputs": [
        {
          "output_type": "stream",
          "text": [
            "\n",
            "Label-based 'loc' method can be used for selecting row(s)\n",
            "------------------------------------------------------------\n",
            "\n",
            "Single row\n",
            "\n",
            "Date                                          2020-02-02\n",
            "Name of State / UT                                Kerala\n",
            "Total Confirmed cases (Indian National)                3\n",
            "Total Confirmed cases ( Foreign National )             0\n",
            "Cured/Discharged/Migrated                              0\n",
            "Latitude                                         10.8505\n",
            "Longitude                                        76.2711\n",
            "Death                                                  0\n",
            "Total Confirmed cases                                  3\n",
            "Name: 3, dtype: object\n"
          ],
          "name": "stdout"
        }
      ]
    },
    {
      "cell_type": "code",
      "metadata": {
        "id": "WELt3yRHkmoG",
        "colab_type": "code",
        "colab": {
          "base_uri": "https://localhost:8080/",
          "height": 248
        },
        "outputId": "e252d45c-459c-407a-88a5-509fe2f91b1f"
      },
      "source": [
        "print(\"Multiple rows\")\n",
        "print(data.iloc[[1,2]])"
      ],
      "execution_count": null,
      "outputs": [
        {
          "output_type": "stream",
          "text": [
            "\n",
            "Multiple rows\n",
            "         Date Name of State / UT  Total Confirmed cases (Indian National)  \\\n",
            "1  2020-01-31             Kerala                                        1   \n",
            "2  2020-02-01             Kerala                                        2   \n",
            "\n",
            "   Total Confirmed cases ( Foreign National )  Cured/Discharged/Migrated  \\\n",
            "1                                           0                          0   \n",
            "2                                           0                          0   \n",
            "\n",
            "   Latitude  Longitude Death  Total Confirmed cases  \n",
            "1   10.8505    76.2711     0                      1  \n",
            "2   10.8505    76.2711     0                      2  \n"
          ],
          "name": "stdout"
        }
      ]
    },
    {
      "cell_type": "code",
      "metadata": {
        "id": "wgJ4_hymhZaL",
        "colab_type": "code",
        "colab": {
          "base_uri": "https://localhost:8080/",
          "height": 230
        },
        "outputId": "932ab797-5904-4c9d-b95a-e7d191af0e1d"
      },
      "source": [
        "## To access a group of rows and columns by label(s)\n",
        "data.loc[:,'Total Confirmed cases']"
      ],
      "execution_count": null,
      "outputs": [
        {
          "output_type": "execute_result",
          "data": {
            "text/plain": [
              "0        1\n",
              "1        1\n",
              "2        2\n",
              "3        3\n",
              "4        3\n",
              "      ... \n",
              "914    504\n",
              "915      2\n",
              "916    483\n",
              "917     35\n",
              "918    152\n",
              "Name: Total Confirmed cases, Length: 919, dtype: int64"
            ]
          },
          "metadata": {
            "tags": []
          },
          "execution_count": 109
        }
      ]
    },
    {
      "cell_type": "code",
      "metadata": {
        "id": "qomcuVG-hZd8",
        "colab_type": "code",
        "colab": {
          "base_uri": "https://localhost:8080/",
          "height": 170
        },
        "outputId": "1842666d-17c1-47b9-95ee-f7681484a2ac"
      },
      "source": [
        "# To access a particular group of rows and columns by label(s)\n",
        "data.loc[[1,2,4,6], ['Cured/Discharged/Migrated','Total Confirmed cases']]"
      ],
      "execution_count": null,
      "outputs": [
        {
          "output_type": "execute_result",
          "data": {
            "text/html": [
              "<div>\n",
              "<style scoped>\n",
              "    .dataframe tbody tr th:only-of-type {\n",
              "        vertical-align: middle;\n",
              "    }\n",
              "\n",
              "    .dataframe tbody tr th {\n",
              "        vertical-align: top;\n",
              "    }\n",
              "\n",
              "    .dataframe thead th {\n",
              "        text-align: right;\n",
              "    }\n",
              "</style>\n",
              "<table border=\"1\" class=\"dataframe\">\n",
              "  <thead>\n",
              "    <tr style=\"text-align: right;\">\n",
              "      <th></th>\n",
              "      <th>Cured/Discharged/Migrated</th>\n",
              "      <th>Total Confirmed cases</th>\n",
              "    </tr>\n",
              "  </thead>\n",
              "  <tbody>\n",
              "    <tr>\n",
              "      <th>1</th>\n",
              "      <td>0</td>\n",
              "      <td>1</td>\n",
              "    </tr>\n",
              "    <tr>\n",
              "      <th>2</th>\n",
              "      <td>0</td>\n",
              "      <td>2</td>\n",
              "    </tr>\n",
              "    <tr>\n",
              "      <th>4</th>\n",
              "      <td>0</td>\n",
              "      <td>3</td>\n",
              "    </tr>\n",
              "    <tr>\n",
              "      <th>6</th>\n",
              "      <td>0</td>\n",
              "      <td>3</td>\n",
              "    </tr>\n",
              "  </tbody>\n",
              "</table>\n",
              "</div>"
            ],
            "text/plain": [
              "   Cured/Discharged/Migrated  Total Confirmed cases\n",
              "1                          0                      1\n",
              "2                          0                      2\n",
              "4                          0                      3\n",
              "6                          0                      3"
            ]
          },
          "metadata": {
            "tags": []
          },
          "execution_count": 110
        }
      ]
    },
    {
      "cell_type": "markdown",
      "metadata": {
        "id": "auMeX-DyybLL",
        "colab_type": "text"
      },
      "source": [
        "#**Sorting Data**"
      ]
    },
    {
      "cell_type": "markdown",
      "metadata": {
        "id": "NnwrUfauEux8",
        "colab_type": "text"
      },
      "source": [
        "### **6 Q) Sort the entire data wrt Death cases in ascending order**"
      ]
    },
    {
      "cell_type": "code",
      "metadata": {
        "id": "IV4NpoQCy9km",
        "colab_type": "code",
        "colab": {
          "base_uri": "https://localhost:8080/",
          "height": 615
        },
        "outputId": "486d8e4f-b149-48b0-acc4-21a0834f48f2"
      },
      "source": [
        "#Sorting column and row names\n",
        "data.sort_values(by='Death') #inplace=False by default\n",
        "                                #works for strign as well (sort alphabetically)"
      ],
      "execution_count": null,
      "outputs": [
        {
          "output_type": "execute_result",
          "data": {
            "text/html": [
              "<div>\n",
              "<style scoped>\n",
              "    .dataframe tbody tr th:only-of-type {\n",
              "        vertical-align: middle;\n",
              "    }\n",
              "\n",
              "    .dataframe tbody tr th {\n",
              "        vertical-align: top;\n",
              "    }\n",
              "\n",
              "    .dataframe thead th {\n",
              "        text-align: right;\n",
              "    }\n",
              "</style>\n",
              "<table border=\"1\" class=\"dataframe\">\n",
              "  <thead>\n",
              "    <tr style=\"text-align: right;\">\n",
              "      <th></th>\n",
              "      <th>Date</th>\n",
              "      <th>Name of State / UT</th>\n",
              "      <th>Total Confirmed cases (Indian National)</th>\n",
              "      <th>Total Confirmed cases ( Foreign National )</th>\n",
              "      <th>Cured/Discharged/Migrated</th>\n",
              "      <th>Latitude</th>\n",
              "      <th>Longitude</th>\n",
              "      <th>Death</th>\n",
              "      <th>Total Confirmed cases</th>\n",
              "    </tr>\n",
              "  </thead>\n",
              "  <tbody>\n",
              "    <tr>\n",
              "      <th>0</th>\n",
              "      <td>2020-01-30</td>\n",
              "      <td>Kerala</td>\n",
              "      <td>1</td>\n",
              "      <td>0</td>\n",
              "      <td>0</td>\n",
              "      <td>10.8505</td>\n",
              "      <td>76.2711</td>\n",
              "      <td>0</td>\n",
              "      <td>1</td>\n",
              "    </tr>\n",
              "    <tr>\n",
              "      <th>463</th>\n",
              "      <td>2020-03-29</td>\n",
              "      <td>Mizoram</td>\n",
              "      <td>1</td>\n",
              "      <td>0</td>\n",
              "      <td>0</td>\n",
              "      <td>23.1645</td>\n",
              "      <td>92.9376</td>\n",
              "      <td>0</td>\n",
              "      <td>1</td>\n",
              "    </tr>\n",
              "    <tr>\n",
              "      <th>464</th>\n",
              "      <td>2020-03-29</td>\n",
              "      <td>Odisha</td>\n",
              "      <td>3</td>\n",
              "      <td>0</td>\n",
              "      <td>0</td>\n",
              "      <td>20.9517</td>\n",
              "      <td>85.0985</td>\n",
              "      <td>0</td>\n",
              "      <td>3</td>\n",
              "    </tr>\n",
              "    <tr>\n",
              "      <th>465</th>\n",
              "      <td>2020-03-29</td>\n",
              "      <td>Puducherry</td>\n",
              "      <td>1</td>\n",
              "      <td>0</td>\n",
              "      <td>0</td>\n",
              "      <td>11.9416</td>\n",
              "      <td>79.8083</td>\n",
              "      <td>0</td>\n",
              "      <td>1</td>\n",
              "    </tr>\n",
              "    <tr>\n",
              "      <th>467</th>\n",
              "      <td>2020-03-29</td>\n",
              "      <td>Rajasthan</td>\n",
              "      <td>52</td>\n",
              "      <td>2</td>\n",
              "      <td>3</td>\n",
              "      <td>27.0238</td>\n",
              "      <td>74.2179</td>\n",
              "      <td>0</td>\n",
              "      <td>54</td>\n",
              "    </tr>\n",
              "    <tr>\n",
              "      <th>...</th>\n",
              "      <td>...</td>\n",
              "      <td>...</td>\n",
              "      <td>...</td>\n",
              "      <td>...</td>\n",
              "      <td>...</td>\n",
              "      <td>...</td>\n",
              "      <td>...</td>\n",
              "      <td>...</td>\n",
              "      <td>...</td>\n",
              "    </tr>\n",
              "    <tr>\n",
              "      <th>782</th>\n",
              "      <td>2020-04-09</td>\n",
              "      <td>Maharashtra</td>\n",
              "      <td>0</td>\n",
              "      <td>0</td>\n",
              "      <td>117</td>\n",
              "      <td>19.7515</td>\n",
              "      <td>75.7139</td>\n",
              "      <td>72</td>\n",
              "      <td>1135</td>\n",
              "    </tr>\n",
              "    <tr>\n",
              "      <th>813</th>\n",
              "      <td>2020-04-10</td>\n",
              "      <td>Maharashtra</td>\n",
              "      <td>0</td>\n",
              "      <td>0</td>\n",
              "      <td>125</td>\n",
              "      <td>19.7515</td>\n",
              "      <td>75.7139</td>\n",
              "      <td>97</td>\n",
              "      <td>1364</td>\n",
              "    </tr>\n",
              "    <tr>\n",
              "      <th>844</th>\n",
              "      <td>2020-04-11</td>\n",
              "      <td>Maharashtra</td>\n",
              "      <td>0</td>\n",
              "      <td>0</td>\n",
              "      <td>188</td>\n",
              "      <td>19.7515</td>\n",
              "      <td>75.7139</td>\n",
              "      <td>110</td>\n",
              "      <td>1574</td>\n",
              "    </tr>\n",
              "    <tr>\n",
              "      <th>875</th>\n",
              "      <td>2020-04-12</td>\n",
              "      <td>Maharashtra</td>\n",
              "      <td>0</td>\n",
              "      <td>0</td>\n",
              "      <td>208</td>\n",
              "      <td>19.7515</td>\n",
              "      <td>75.7139</td>\n",
              "      <td>127</td>\n",
              "      <td>1761</td>\n",
              "    </tr>\n",
              "    <tr>\n",
              "      <th>906</th>\n",
              "      <td>2020-04-13</td>\n",
              "      <td>Maharashtra</td>\n",
              "      <td>0</td>\n",
              "      <td>0</td>\n",
              "      <td>217</td>\n",
              "      <td>19.7515</td>\n",
              "      <td>75.7139</td>\n",
              "      <td>149</td>\n",
              "      <td>1985</td>\n",
              "    </tr>\n",
              "  </tbody>\n",
              "</table>\n",
              "<p>919 rows × 9 columns</p>\n",
              "</div>"
            ],
            "text/plain": [
              "           Date Name of State / UT  Total Confirmed cases (Indian National)  \\\n",
              "0    2020-01-30             Kerala                                        1   \n",
              "463  2020-03-29            Mizoram                                        1   \n",
              "464  2020-03-29             Odisha                                        3   \n",
              "465  2020-03-29         Puducherry                                        1   \n",
              "467  2020-03-29          Rajasthan                                       52   \n",
              "..          ...                ...                                      ...   \n",
              "782  2020-04-09        Maharashtra                                        0   \n",
              "813  2020-04-10        Maharashtra                                        0   \n",
              "844  2020-04-11        Maharashtra                                        0   \n",
              "875  2020-04-12        Maharashtra                                        0   \n",
              "906  2020-04-13        Maharashtra                                        0   \n",
              "\n",
              "     Total Confirmed cases ( Foreign National )  Cured/Discharged/Migrated  \\\n",
              "0                                             0                          0   \n",
              "463                                           0                          0   \n",
              "464                                           0                          0   \n",
              "465                                           0                          0   \n",
              "467                                           2                          3   \n",
              "..                                          ...                        ...   \n",
              "782                                           0                        117   \n",
              "813                                           0                        125   \n",
              "844                                           0                        188   \n",
              "875                                           0                        208   \n",
              "906                                           0                        217   \n",
              "\n",
              "     Latitude  Longitude Death  Total Confirmed cases  \n",
              "0     10.8505    76.2711     0                      1  \n",
              "463   23.1645    92.9376     0                      1  \n",
              "464   20.9517    85.0985     0                      3  \n",
              "465   11.9416    79.8083     0                      1  \n",
              "467   27.0238    74.2179     0                     54  \n",
              "..        ...        ...   ...                    ...  \n",
              "782   19.7515    75.7139    72                   1135  \n",
              "813   19.7515    75.7139    97                   1364  \n",
              "844   19.7515    75.7139   110                   1574  \n",
              "875   19.7515    75.7139   127                   1761  \n",
              "906   19.7515    75.7139   149                   1985  \n",
              "\n",
              "[919 rows x 9 columns]"
            ]
          },
          "metadata": {
            "tags": []
          },
          "execution_count": 111
        }
      ]
    },
    {
      "cell_type": "code",
      "metadata": {
        "id": "tGf2G3DEaqkT",
        "colab_type": "code",
        "colab": {
          "base_uri": "https://localhost:8080/",
          "height": 615
        },
        "outputId": "6c442768-d611-42d9-9b7b-1bfb7fb1feb0"
      },
      "source": [
        "data.sort_values(['Latitude',\t'Longitude'], ascending=[1,0])"
      ],
      "execution_count": null,
      "outputs": [
        {
          "output_type": "execute_result",
          "data": {
            "text/html": [
              "<div>\n",
              "<style scoped>\n",
              "    .dataframe tbody tr th:only-of-type {\n",
              "        vertical-align: middle;\n",
              "    }\n",
              "\n",
              "    .dataframe tbody tr th {\n",
              "        vertical-align: top;\n",
              "    }\n",
              "\n",
              "    .dataframe thead th {\n",
              "        text-align: right;\n",
              "    }\n",
              "</style>\n",
              "<table border=\"1\" class=\"dataframe\">\n",
              "  <thead>\n",
              "    <tr style=\"text-align: right;\">\n",
              "      <th></th>\n",
              "      <th>Date</th>\n",
              "      <th>Name of State / UT</th>\n",
              "      <th>Total Confirmed cases (Indian National)</th>\n",
              "      <th>Total Confirmed cases ( Foreign National )</th>\n",
              "      <th>Cured/Discharged/Migrated</th>\n",
              "      <th>Latitude</th>\n",
              "      <th>Longitude</th>\n",
              "      <th>Death</th>\n",
              "      <th>Total Confirmed cases</th>\n",
              "    </tr>\n",
              "  </thead>\n",
              "  <tbody>\n",
              "    <tr>\n",
              "      <th>0</th>\n",
              "      <td>2020-01-30</td>\n",
              "      <td>Kerala</td>\n",
              "      <td>1</td>\n",
              "      <td>0</td>\n",
              "      <td>0</td>\n",
              "      <td>10.8505</td>\n",
              "      <td>76.2711</td>\n",
              "      <td>0</td>\n",
              "      <td>1</td>\n",
              "    </tr>\n",
              "    <tr>\n",
              "      <th>1</th>\n",
              "      <td>2020-01-31</td>\n",
              "      <td>Kerala</td>\n",
              "      <td>1</td>\n",
              "      <td>0</td>\n",
              "      <td>0</td>\n",
              "      <td>10.8505</td>\n",
              "      <td>76.2711</td>\n",
              "      <td>0</td>\n",
              "      <td>1</td>\n",
              "    </tr>\n",
              "    <tr>\n",
              "      <th>2</th>\n",
              "      <td>2020-02-01</td>\n",
              "      <td>Kerala</td>\n",
              "      <td>2</td>\n",
              "      <td>0</td>\n",
              "      <td>0</td>\n",
              "      <td>10.8505</td>\n",
              "      <td>76.2711</td>\n",
              "      <td>0</td>\n",
              "      <td>2</td>\n",
              "    </tr>\n",
              "    <tr>\n",
              "      <th>3</th>\n",
              "      <td>2020-02-02</td>\n",
              "      <td>Kerala</td>\n",
              "      <td>3</td>\n",
              "      <td>0</td>\n",
              "      <td>0</td>\n",
              "      <td>10.8505</td>\n",
              "      <td>76.2711</td>\n",
              "      <td>0</td>\n",
              "      <td>3</td>\n",
              "    </tr>\n",
              "    <tr>\n",
              "      <th>4</th>\n",
              "      <td>2020-02-03</td>\n",
              "      <td>Kerala</td>\n",
              "      <td>3</td>\n",
              "      <td>0</td>\n",
              "      <td>0</td>\n",
              "      <td>10.8505</td>\n",
              "      <td>76.2711</td>\n",
              "      <td>0</td>\n",
              "      <td>3</td>\n",
              "    </tr>\n",
              "    <tr>\n",
              "      <th>...</th>\n",
              "      <td>...</td>\n",
              "      <td>...</td>\n",
              "      <td>...</td>\n",
              "      <td>...</td>\n",
              "      <td>...</td>\n",
              "      <td>...</td>\n",
              "      <td>...</td>\n",
              "      <td>...</td>\n",
              "      <td>...</td>\n",
              "    </tr>\n",
              "    <tr>\n",
              "      <th>780</th>\n",
              "      <td>2020-04-09</td>\n",
              "      <td>Ladakh</td>\n",
              "      <td>0</td>\n",
              "      <td>0</td>\n",
              "      <td>10</td>\n",
              "      <td>34.2996</td>\n",
              "      <td>78.2932</td>\n",
              "      <td>0</td>\n",
              "      <td>14</td>\n",
              "    </tr>\n",
              "    <tr>\n",
              "      <th>811</th>\n",
              "      <td>2020-04-10</td>\n",
              "      <td>Ladakh</td>\n",
              "      <td>0</td>\n",
              "      <td>0</td>\n",
              "      <td>10</td>\n",
              "      <td>34.2996</td>\n",
              "      <td>78.2932</td>\n",
              "      <td>0</td>\n",
              "      <td>15</td>\n",
              "    </tr>\n",
              "    <tr>\n",
              "      <th>842</th>\n",
              "      <td>2020-04-11</td>\n",
              "      <td>Ladakh</td>\n",
              "      <td>0</td>\n",
              "      <td>0</td>\n",
              "      <td>10</td>\n",
              "      <td>34.2996</td>\n",
              "      <td>78.2932</td>\n",
              "      <td>0</td>\n",
              "      <td>15</td>\n",
              "    </tr>\n",
              "    <tr>\n",
              "      <th>873</th>\n",
              "      <td>2020-04-12</td>\n",
              "      <td>Ladakh</td>\n",
              "      <td>0</td>\n",
              "      <td>0</td>\n",
              "      <td>10</td>\n",
              "      <td>34.2996</td>\n",
              "      <td>78.2932</td>\n",
              "      <td>0</td>\n",
              "      <td>15</td>\n",
              "    </tr>\n",
              "    <tr>\n",
              "      <th>904</th>\n",
              "      <td>2020-04-13</td>\n",
              "      <td>Ladakh</td>\n",
              "      <td>0</td>\n",
              "      <td>0</td>\n",
              "      <td>10</td>\n",
              "      <td>34.2996</td>\n",
              "      <td>78.2932</td>\n",
              "      <td>0</td>\n",
              "      <td>15</td>\n",
              "    </tr>\n",
              "  </tbody>\n",
              "</table>\n",
              "<p>919 rows × 9 columns</p>\n",
              "</div>"
            ],
            "text/plain": [
              "           Date Name of State / UT  Total Confirmed cases (Indian National)  \\\n",
              "0    2020-01-30             Kerala                                        1   \n",
              "1    2020-01-31             Kerala                                        1   \n",
              "2    2020-02-01             Kerala                                        2   \n",
              "3    2020-02-02             Kerala                                        3   \n",
              "4    2020-02-03             Kerala                                        3   \n",
              "..          ...                ...                                      ...   \n",
              "780  2020-04-09             Ladakh                                        0   \n",
              "811  2020-04-10             Ladakh                                        0   \n",
              "842  2020-04-11             Ladakh                                        0   \n",
              "873  2020-04-12             Ladakh                                        0   \n",
              "904  2020-04-13             Ladakh                                        0   \n",
              "\n",
              "     Total Confirmed cases ( Foreign National )  Cured/Discharged/Migrated  \\\n",
              "0                                             0                          0   \n",
              "1                                             0                          0   \n",
              "2                                             0                          0   \n",
              "3                                             0                          0   \n",
              "4                                             0                          0   \n",
              "..                                          ...                        ...   \n",
              "780                                           0                         10   \n",
              "811                                           0                         10   \n",
              "842                                           0                         10   \n",
              "873                                           0                         10   \n",
              "904                                           0                         10   \n",
              "\n",
              "     Latitude  Longitude Death  Total Confirmed cases  \n",
              "0     10.8505    76.2711     0                      1  \n",
              "1     10.8505    76.2711     0                      1  \n",
              "2     10.8505    76.2711     0                      2  \n",
              "3     10.8505    76.2711     0                      3  \n",
              "4     10.8505    76.2711     0                      3  \n",
              "..        ...        ...   ...                    ...  \n",
              "780   34.2996    78.2932     0                     14  \n",
              "811   34.2996    78.2932     0                     15  \n",
              "842   34.2996    78.2932     0                     15  \n",
              "873   34.2996    78.2932     0                     15  \n",
              "904   34.2996    78.2932     0                     15  \n",
              "\n",
              "[919 rows x 9 columns]"
            ]
          },
          "metadata": {
            "tags": []
          },
          "execution_count": 112
        }
      ]
    },
    {
      "cell_type": "markdown",
      "metadata": {
        "id": "ct0R5rJ92cVS",
        "colab_type": "text"
      },
      "source": [
        "#**Filtering**"
      ]
    },
    {
      "cell_type": "markdown",
      "metadata": {
        "id": "zBdvY71gAL3g",
        "colab_type": "text"
      },
      "source": [
        "### **7 Q) Remove all the records where number of Death are greater than 5 and Total Confirmed cases are greater than 100.**"
      ]
    },
    {
      "cell_type": "code",
      "metadata": {
        "id": "EkyFyWhO1ell",
        "colab_type": "code",
        "colab": {
          "base_uri": "https://localhost:8080/",
          "height": 319
        },
        "outputId": "27f2c242-59f1-44e8-934b-543b5cd4d5a5"
      },
      "source": [
        "filter=(data['Death'] > 5) & (data['Total Confirmed cases']>100)    #to filter the records satisfying a particular condition\n",
        "data.loc[filter].head()"
      ],
      "execution_count": null,
      "outputs": [
        {
          "output_type": "execute_result",
          "data": {
            "text/html": [
              "<div>\n",
              "<style scoped>\n",
              "    .dataframe tbody tr th:only-of-type {\n",
              "        vertical-align: middle;\n",
              "    }\n",
              "\n",
              "    .dataframe tbody tr th {\n",
              "        vertical-align: top;\n",
              "    }\n",
              "\n",
              "    .dataframe thead th {\n",
              "        text-align: right;\n",
              "    }\n",
              "</style>\n",
              "<table border=\"1\" class=\"dataframe\">\n",
              "  <thead>\n",
              "    <tr style=\"text-align: right;\">\n",
              "      <th></th>\n",
              "      <th>Date</th>\n",
              "      <th>Name of State / UT</th>\n",
              "      <th>Total Confirmed cases (Indian National)</th>\n",
              "      <th>Total Confirmed cases ( Foreign National )</th>\n",
              "      <th>Cured/Discharged/Migrated</th>\n",
              "      <th>Latitude</th>\n",
              "      <th>Longitude</th>\n",
              "      <th>Death</th>\n",
              "      <th>Total Confirmed cases</th>\n",
              "    </tr>\n",
              "  </thead>\n",
              "  <tbody>\n",
              "    <tr>\n",
              "      <th>461</th>\n",
              "      <td>2020-03-29</td>\n",
              "      <td>Maharashtra</td>\n",
              "      <td>183</td>\n",
              "      <td>3</td>\n",
              "      <td>25</td>\n",
              "      <td>19.7515</td>\n",
              "      <td>75.7139</td>\n",
              "      <td>6</td>\n",
              "      <td>186</td>\n",
              "    </tr>\n",
              "    <tr>\n",
              "      <th>488</th>\n",
              "      <td>2020-03-30</td>\n",
              "      <td>Maharashtra</td>\n",
              "      <td>0</td>\n",
              "      <td>0</td>\n",
              "      <td>25</td>\n",
              "      <td>19.7515</td>\n",
              "      <td>75.7139</td>\n",
              "      <td>8</td>\n",
              "      <td>193</td>\n",
              "    </tr>\n",
              "    <tr>\n",
              "      <th>515</th>\n",
              "      <td>2020-03-31</td>\n",
              "      <td>Maharashtra</td>\n",
              "      <td>0</td>\n",
              "      <td>0</td>\n",
              "      <td>39</td>\n",
              "      <td>19.7515</td>\n",
              "      <td>75.7139</td>\n",
              "      <td>9</td>\n",
              "      <td>216</td>\n",
              "    </tr>\n",
              "    <tr>\n",
              "      <th>544</th>\n",
              "      <td>2020-04-01</td>\n",
              "      <td>Maharashtra</td>\n",
              "      <td>0</td>\n",
              "      <td>0</td>\n",
              "      <td>39</td>\n",
              "      <td>19.7515</td>\n",
              "      <td>75.7139</td>\n",
              "      <td>9</td>\n",
              "      <td>302</td>\n",
              "    </tr>\n",
              "    <tr>\n",
              "      <th>572</th>\n",
              "      <td>2020-04-02</td>\n",
              "      <td>Maharashtra</td>\n",
              "      <td>0</td>\n",
              "      <td>0</td>\n",
              "      <td>42</td>\n",
              "      <td>19.7515</td>\n",
              "      <td>75.7139</td>\n",
              "      <td>13</td>\n",
              "      <td>335</td>\n",
              "    </tr>\n",
              "  </tbody>\n",
              "</table>\n",
              "</div>"
            ],
            "text/plain": [
              "           Date Name of State / UT  Total Confirmed cases (Indian National)  \\\n",
              "461  2020-03-29        Maharashtra                                      183   \n",
              "488  2020-03-30        Maharashtra                                        0   \n",
              "515  2020-03-31        Maharashtra                                        0   \n",
              "544  2020-04-01        Maharashtra                                        0   \n",
              "572  2020-04-02        Maharashtra                                        0   \n",
              "\n",
              "     Total Confirmed cases ( Foreign National )  Cured/Discharged/Migrated  \\\n",
              "461                                           3                         25   \n",
              "488                                           0                         25   \n",
              "515                                           0                         39   \n",
              "544                                           0                         39   \n",
              "572                                           0                         42   \n",
              "\n",
              "     Latitude  Longitude Death  Total Confirmed cases  \n",
              "461   19.7515    75.7139     6                    186  \n",
              "488   19.7515    75.7139     8                    193  \n",
              "515   19.7515    75.7139     9                    216  \n",
              "544   19.7515    75.7139     9                    302  \n",
              "572   19.7515    75.7139    13                    335  "
            ]
          },
          "metadata": {
            "tags": []
          },
          "execution_count": 113
        }
      ]
    },
    {
      "cell_type": "markdown",
      "metadata": {
        "id": "i0M5ETz26U9x",
        "colab_type": "text"
      },
      "source": [
        "#**Aggregate Statistics (Groupby function)**"
      ]
    },
    {
      "cell_type": "markdown",
      "metadata": {
        "id": "Wz_qz2t29lNE",
        "colab_type": "text"
      },
      "source": [
        "### **8 Q) What is the maximum number of Total Confirmed cases in each state?**"
      ]
    },
    {
      "cell_type": "code",
      "metadata": {
        "id": "8g85oYvZ6kQo",
        "colab_type": "code",
        "colab": {
          "base_uri": "https://localhost:8080/",
          "height": 657
        },
        "outputId": "ad40faff-8912-4618-8e9e-069a7ed4d476"
      },
      "source": [
        "grp=data.groupby('Name of State / UT')\n",
        "print(grp['Total Confirmed cases'].max())"
      ],
      "execution_count": null,
      "outputs": [
        {
          "output_type": "stream",
          "text": [
            "Name of State / UT\n",
            "Andaman and Nicobar Islands               11\n",
            "Andhra Pradesh                           427\n",
            "Arunachal Pradesh                          1\n",
            "Assam                                     29\n",
            "Bihar                                     64\n",
            "Chandigarh                                21\n",
            "Chhattisgarh                              31\n",
            "Delhi                                   1154\n",
            "Goa                                        7\n",
            "Gujarat                                  516\n",
            "Haryana                                  185\n",
            "Himachal Pradesh                          32\n",
            "Jammu and Kashmir                        245\n",
            "Jharkhand                                 19\n",
            "Karnataka                                232\n",
            "Kerala                                   376\n",
            "Ladakh                                    15\n",
            "Madhya Pradesh                           564\n",
            "Maharashtra                             1985\n",
            "Manipur                                    2\n",
            "Mizoram                                    1\n",
            "Odisha                                    54\n",
            "Puducherry                                 7\n",
            "Punjab                                   151\n",
            "Rajasthan                                804\n",
            "Tamil Nadu                              1043\n",
            "Telengana                                504\n",
            "Tripura                                    2\n",
            "Union Territory of Chandigarh              1\n",
            "Union Territory of Jammu and Kashmir       4\n",
            "Union Territory of Ladakh                 10\n",
            "Uttar Pradesh                            483\n",
            "Uttarakhand                               35\n",
            "West Bengal                              152\n",
            "Name: Total Confirmed cases, dtype: int64\n"
          ],
          "name": "stdout"
        }
      ]
    },
    {
      "cell_type": "markdown",
      "metadata": {
        "id": "FkwyOtF897QF",
        "colab_type": "text"
      },
      "source": [
        "### **9 Q) What is sum of total number of confirmed cases in each state?**"
      ]
    },
    {
      "cell_type": "code",
      "metadata": {
        "id": "xm1IpR2B6kUE",
        "colab_type": "code",
        "colab": {
          "base_uri": "https://localhost:8080/",
          "height": 657
        },
        "outputId": "af28337b-ae08-4834-9cec-550f6ead1043"
      },
      "source": [
        "grp=data.groupby('Name of State / UT')\n",
        "print(grp['Total Confirmed cases'].agg(sum))"
      ],
      "execution_count": null,
      "outputs": [
        {
          "output_type": "stream",
          "text": [
            "Name of State / UT\n",
            "Andaman and Nicobar Islands               171\n",
            "Andhra Pradesh                           3440\n",
            "Arunachal Pradesh                          11\n",
            "Assam                                     289\n",
            "Bihar                                     560\n",
            "Chandigarh                                311\n",
            "Chhattisgarh                              207\n",
            "Delhi                                    8023\n",
            "Goa                                       107\n",
            "Gujarat                                  3000\n",
            "Haryana                                  1970\n",
            "Himachal Pradesh                          226\n",
            "Jammu and Kashmir                        1852\n",
            "Jharkhand                                  86\n",
            "Karnataka                                2742\n",
            "Kerala                                   5945\n",
            "Ladakh                                    327\n",
            "Madhya Pradesh                           3265\n",
            "Maharashtra                             13902\n",
            "Manipur                                    31\n",
            "Mizoram                                    20\n",
            "Odisha                                    391\n",
            "Puducherry                                 77\n",
            "Punjab                                   1463\n",
            "Rajasthan                                4990\n",
            "Tamil Nadu                               8380\n",
            "Telengana                                4638\n",
            "Tripura                                     9\n",
            "Union Territory of Chandigarh               2\n",
            "Union Territory of Jammu and Kashmir       26\n",
            "Union Territory of Ladakh                  58\n",
            "Uttar Pradesh                            4431\n",
            "Uttarakhand                               381\n",
            "West Bengal                              1146\n",
            "Name: Total Confirmed cases, dtype: int64\n"
          ],
          "name": "stdout"
        }
      ]
    },
    {
      "cell_type": "code",
      "metadata": {
        "id": "eH0Nk548_l_m",
        "colab_type": "code",
        "colab": {
          "base_uri": "https://localhost:8080/",
          "height": 657
        },
        "outputId": "6ed79f4a-9011-4e69-8e5f-7900623d40c4"
      },
      "source": [
        "data.groupby('Name of State / UT')['Total Confirmed cases'].sum()"
      ],
      "execution_count": null,
      "outputs": [
        {
          "output_type": "execute_result",
          "data": {
            "text/plain": [
              "Name of State / UT\n",
              "Andaman and Nicobar Islands               171\n",
              "Andhra Pradesh                           3440\n",
              "Arunachal Pradesh                          11\n",
              "Assam                                     289\n",
              "Bihar                                     560\n",
              "Chandigarh                                311\n",
              "Chhattisgarh                              207\n",
              "Delhi                                    8023\n",
              "Goa                                       107\n",
              "Gujarat                                  3000\n",
              "Haryana                                  1970\n",
              "Himachal Pradesh                          226\n",
              "Jammu and Kashmir                        1852\n",
              "Jharkhand                                  86\n",
              "Karnataka                                2742\n",
              "Kerala                                   5945\n",
              "Ladakh                                    327\n",
              "Madhya Pradesh                           3265\n",
              "Maharashtra                             13902\n",
              "Manipur                                    31\n",
              "Mizoram                                    20\n",
              "Odisha                                    391\n",
              "Puducherry                                 77\n",
              "Punjab                                   1463\n",
              "Rajasthan                                4990\n",
              "Tamil Nadu                               8380\n",
              "Telengana                                4638\n",
              "Tripura                                     9\n",
              "Union Territory of Chandigarh               2\n",
              "Union Territory of Jammu and Kashmir       26\n",
              "Union Territory of Ladakh                  58\n",
              "Uttar Pradesh                            4431\n",
              "Uttarakhand                               381\n",
              "West Bengal                              1146\n",
              "Name: Total Confirmed cases, dtype: int64"
            ]
          },
          "metadata": {
            "tags": []
          },
          "execution_count": 116
        }
      ]
    },
    {
      "cell_type": "markdown",
      "metadata": {
        "id": "QAfzjln0Feei",
        "colab_type": "text"
      },
      "source": [
        "### **10 Q) Sort the Total number of confirmed cases in each state/ UT in Descending order.**"
      ]
    },
    {
      "cell_type": "markdown",
      "metadata": {
        "id": "PXDV_bdi-eNX",
        "colab_type": "text"
      },
      "source": [
        "### **11 Q) In which State or UT maximum number of confirmed cases were recorded?**"
      ]
    },
    {
      "cell_type": "code",
      "metadata": {
        "id": "VDNuhYXH_woX",
        "colab_type": "code",
        "colab": {
          "base_uri": "https://localhost:8080/",
          "height": 230
        },
        "outputId": "c9ff2f3d-e9a4-449c-d673-ebb484f73f9c"
      },
      "source": [
        "data.groupby('Name of State / UT')['Total Confirmed cases'].sum().sort_values(ascending=False).head(10)"
      ],
      "execution_count": null,
      "outputs": [
        {
          "output_type": "execute_result",
          "data": {
            "text/plain": [
              "Name of State / UT\n",
              "Maharashtra       13902\n",
              "Tamil Nadu         8380\n",
              "Delhi              8023\n",
              "Kerala             5945\n",
              "Rajasthan          4990\n",
              "Telengana          4638\n",
              "Uttar Pradesh      4431\n",
              "Andhra Pradesh     3440\n",
              "Madhya Pradesh     3265\n",
              "Gujarat            3000\n",
              "Name: Total Confirmed cases, dtype: int64"
            ]
          },
          "metadata": {
            "tags": []
          },
          "execution_count": 117
        }
      ]
    },
    {
      "cell_type": "markdown",
      "metadata": {
        "id": "eFDiMryC-ID7",
        "colab_type": "text"
      },
      "source": [
        "## **Grouping on Multiple Columns**"
      ]
    },
    {
      "cell_type": "code",
      "metadata": {
        "id": "Qdwx9pXI6kYH",
        "colab_type": "code",
        "colab": {
          "base_uri": "https://localhost:8080/",
          "height": 497
        },
        "outputId": "8aeead78-1d60-47a1-e85c-0eb038304b98"
      },
      "source": [
        "data.groupby(['Date'])['Death','Total Confirmed cases','Cured/Discharged/Migrated','Name of State / UT'].max()          #groupby Date and have columns against that date, get the maximum cases on that date"
      ],
      "execution_count": null,
      "outputs": [
        {
          "output_type": "stream",
          "text": [
            "/usr/local/lib/python3.6/dist-packages/ipykernel_launcher.py:1: FutureWarning: Indexing with multiple keys (implicitly converted to a tuple of keys) will be deprecated, use a list instead.\n",
            "  \"\"\"Entry point for launching an IPython kernel.\n"
          ],
          "name": "stderr"
        },
        {
          "output_type": "execute_result",
          "data": {
            "text/html": [
              "<div>\n",
              "<style scoped>\n",
              "    .dataframe tbody tr th:only-of-type {\n",
              "        vertical-align: middle;\n",
              "    }\n",
              "\n",
              "    .dataframe tbody tr th {\n",
              "        vertical-align: top;\n",
              "    }\n",
              "\n",
              "    .dataframe thead th {\n",
              "        text-align: right;\n",
              "    }\n",
              "</style>\n",
              "<table border=\"1\" class=\"dataframe\">\n",
              "  <thead>\n",
              "    <tr style=\"text-align: right;\">\n",
              "      <th></th>\n",
              "      <th>Death</th>\n",
              "      <th>Total Confirmed cases</th>\n",
              "      <th>Cured/Discharged/Migrated</th>\n",
              "      <th>Name of State / UT</th>\n",
              "    </tr>\n",
              "    <tr>\n",
              "      <th>Date</th>\n",
              "      <th></th>\n",
              "      <th></th>\n",
              "      <th></th>\n",
              "      <th></th>\n",
              "    </tr>\n",
              "  </thead>\n",
              "  <tbody>\n",
              "    <tr>\n",
              "      <th>2020-01-30</th>\n",
              "      <td>0</td>\n",
              "      <td>1</td>\n",
              "      <td>0</td>\n",
              "      <td>Kerala</td>\n",
              "    </tr>\n",
              "    <tr>\n",
              "      <th>2020-01-31</th>\n",
              "      <td>0</td>\n",
              "      <td>1</td>\n",
              "      <td>0</td>\n",
              "      <td>Kerala</td>\n",
              "    </tr>\n",
              "    <tr>\n",
              "      <th>2020-02-01</th>\n",
              "      <td>0</td>\n",
              "      <td>2</td>\n",
              "      <td>0</td>\n",
              "      <td>Kerala</td>\n",
              "    </tr>\n",
              "    <tr>\n",
              "      <th>2020-02-02</th>\n",
              "      <td>0</td>\n",
              "      <td>3</td>\n",
              "      <td>0</td>\n",
              "      <td>Kerala</td>\n",
              "    </tr>\n",
              "    <tr>\n",
              "      <th>2020-02-03</th>\n",
              "      <td>0</td>\n",
              "      <td>3</td>\n",
              "      <td>0</td>\n",
              "      <td>Kerala</td>\n",
              "    </tr>\n",
              "    <tr>\n",
              "      <th>...</th>\n",
              "      <td>...</td>\n",
              "      <td>...</td>\n",
              "      <td>...</td>\n",
              "      <td>...</td>\n",
              "    </tr>\n",
              "    <tr>\n",
              "      <th>2020-04-09</th>\n",
              "      <td>72</td>\n",
              "      <td>1135</td>\n",
              "      <td>117</td>\n",
              "      <td>West Bengal</td>\n",
              "    </tr>\n",
              "    <tr>\n",
              "      <th>2020-04-10</th>\n",
              "      <td>97</td>\n",
              "      <td>1364</td>\n",
              "      <td>125</td>\n",
              "      <td>West Bengal</td>\n",
              "    </tr>\n",
              "    <tr>\n",
              "      <th>2020-04-11</th>\n",
              "      <td>110</td>\n",
              "      <td>1574</td>\n",
              "      <td>188</td>\n",
              "      <td>West Bengal</td>\n",
              "    </tr>\n",
              "    <tr>\n",
              "      <th>2020-04-12</th>\n",
              "      <td>127</td>\n",
              "      <td>1761</td>\n",
              "      <td>208</td>\n",
              "      <td>West Bengal</td>\n",
              "    </tr>\n",
              "    <tr>\n",
              "      <th>2020-04-13</th>\n",
              "      <td>149</td>\n",
              "      <td>1985</td>\n",
              "      <td>217</td>\n",
              "      <td>West Bengal</td>\n",
              "    </tr>\n",
              "  </tbody>\n",
              "</table>\n",
              "<p>75 rows × 4 columns</p>\n",
              "</div>"
            ],
            "text/plain": [
              "            Death  Total Confirmed cases  Cured/Discharged/Migrated  \\\n",
              "Date                                                                  \n",
              "2020-01-30      0                      1                          0   \n",
              "2020-01-31      0                      1                          0   \n",
              "2020-02-01      0                      2                          0   \n",
              "2020-02-02      0                      3                          0   \n",
              "2020-02-03      0                      3                          0   \n",
              "...           ...                    ...                        ...   \n",
              "2020-04-09     72                   1135                        117   \n",
              "2020-04-10     97                   1364                        125   \n",
              "2020-04-11    110                   1574                        188   \n",
              "2020-04-12    127                   1761                        208   \n",
              "2020-04-13    149                   1985                        217   \n",
              "\n",
              "           Name of State / UT  \n",
              "Date                           \n",
              "2020-01-30             Kerala  \n",
              "2020-01-31             Kerala  \n",
              "2020-02-01             Kerala  \n",
              "2020-02-02             Kerala  \n",
              "2020-02-03             Kerala  \n",
              "...                       ...  \n",
              "2020-04-09        West Bengal  \n",
              "2020-04-10        West Bengal  \n",
              "2020-04-11        West Bengal  \n",
              "2020-04-12        West Bengal  \n",
              "2020-04-13        West Bengal  \n",
              "\n",
              "[75 rows x 4 columns]"
            ]
          },
          "metadata": {
            "tags": []
          },
          "execution_count": 118
        }
      ]
    },
    {
      "cell_type": "markdown",
      "metadata": {
        "id": "tQ2ji9u_H4ax",
        "colab_type": "text"
      },
      "source": [
        "### **12 Q) On which Date the maximum number Total Confirmed Cases were reported from Maharashtra?**"
      ]
    },
    {
      "cell_type": "code",
      "metadata": {
        "id": "A5lv3JW7IJOw",
        "colab_type": "code",
        "colab": {}
      },
      "source": [
        "#Lets Filter the data first \n",
        "new_data=data[data['Name of State / UT']=='Maharashtra']          #data['Name of State / UT']=='Maharashtra' will return bool values"
      ],
      "execution_count": null,
      "outputs": []
    },
    {
      "cell_type": "code",
      "metadata": {
        "id": "GLIra8jIIyA5",
        "colab_type": "code",
        "colab": {
          "base_uri": "https://localhost:8080/",
          "height": 141
        },
        "outputId": "9d837d63-3152-484e-92b4-f365c94db55d"
      },
      "source": [
        "new_data.groupby('Total Confirmed cases')['Date'].max().sort_values(ascending=False).head(5)"
      ],
      "execution_count": null,
      "outputs": [
        {
          "output_type": "execute_result",
          "data": {
            "text/plain": [
              "Total Confirmed cases\n",
              "1985    2020-04-13\n",
              "1761    2020-04-12\n",
              "1574    2020-04-11\n",
              "1364    2020-04-10\n",
              "1135    2020-04-09\n",
              "Name: Date, dtype: object"
            ]
          },
          "metadata": {
            "tags": []
          },
          "execution_count": 120
        }
      ]
    },
    {
      "cell_type": "markdown",
      "metadata": {
        "id": "7ls4Dye03ZKB",
        "colab_type": "text"
      },
      "source": [
        "#**Exploratory Data Analysis**"
      ]
    },
    {
      "cell_type": "markdown",
      "metadata": {
        "id": "y_B00yFN4dIz",
        "colab_type": "text"
      },
      "source": [
        "**Correlation**\n",
        "Checking the relationship between Two Numerical Variables"
      ]
    },
    {
      "cell_type": "code",
      "metadata": {
        "id": "HnbDayJ21eog",
        "colab_type": "code",
        "colab": {}
      },
      "source": [
        "num_data = data.select_dtypes(exclude=[object])"
      ],
      "execution_count": null,
      "outputs": []
    },
    {
      "cell_type": "code",
      "metadata": {
        "id": "nwvAOCGS1esL",
        "colab_type": "code",
        "colab": {
          "base_uri": "https://localhost:8080/",
          "height": 35
        },
        "outputId": "69878074-efdd-4d44-fac2-17be119e23a3"
      },
      "source": [
        "num_data.shape"
      ],
      "execution_count": null,
      "outputs": [
        {
          "output_type": "execute_result",
          "data": {
            "text/plain": [
              "(919, 6)"
            ]
          },
          "metadata": {
            "tags": []
          },
          "execution_count": 122
        }
      ]
    },
    {
      "cell_type": "code",
      "metadata": {
        "id": "3uga-Naw4ohH",
        "colab_type": "code",
        "colab": {
          "base_uri": "https://localhost:8080/",
          "height": 298
        },
        "outputId": "4a112475-3606-466b-afb9-d590d6b226a6"
      },
      "source": [
        "corr_matrix=num_data.corr()\n",
        "corr_matrix"
      ],
      "execution_count": null,
      "outputs": [
        {
          "output_type": "execute_result",
          "data": {
            "text/html": [
              "<div>\n",
              "<style scoped>\n",
              "    .dataframe tbody tr th:only-of-type {\n",
              "        vertical-align: middle;\n",
              "    }\n",
              "\n",
              "    .dataframe tbody tr th {\n",
              "        vertical-align: top;\n",
              "    }\n",
              "\n",
              "    .dataframe thead th {\n",
              "        text-align: right;\n",
              "    }\n",
              "</style>\n",
              "<table border=\"1\" class=\"dataframe\">\n",
              "  <thead>\n",
              "    <tr style=\"text-align: right;\">\n",
              "      <th></th>\n",
              "      <th>Total Confirmed cases (Indian National)</th>\n",
              "      <th>Total Confirmed cases ( Foreign National )</th>\n",
              "      <th>Cured/Discharged/Migrated</th>\n",
              "      <th>Latitude</th>\n",
              "      <th>Longitude</th>\n",
              "      <th>Total Confirmed cases</th>\n",
              "    </tr>\n",
              "  </thead>\n",
              "  <tbody>\n",
              "    <tr>\n",
              "      <th>Total Confirmed cases (Indian National)</th>\n",
              "      <td>1.000000</td>\n",
              "      <td>0.286617</td>\n",
              "      <td>-0.034521</td>\n",
              "      <td>-0.108866</td>\n",
              "      <td>-0.185071</td>\n",
              "      <td>-0.037961</td>\n",
              "    </tr>\n",
              "    <tr>\n",
              "      <th>Total Confirmed cases ( Foreign National )</th>\n",
              "      <td>0.286617</td>\n",
              "      <td>1.000000</td>\n",
              "      <td>-0.050049</td>\n",
              "      <td>0.041526</td>\n",
              "      <td>-0.153329</td>\n",
              "      <td>-0.065913</td>\n",
              "    </tr>\n",
              "    <tr>\n",
              "      <th>Cured/Discharged/Migrated</th>\n",
              "      <td>-0.034521</td>\n",
              "      <td>-0.050049</td>\n",
              "      <td>1.000000</td>\n",
              "      <td>-0.114095</td>\n",
              "      <td>-0.162539</td>\n",
              "      <td>0.775171</td>\n",
              "    </tr>\n",
              "    <tr>\n",
              "      <th>Latitude</th>\n",
              "      <td>-0.108866</td>\n",
              "      <td>0.041526</td>\n",
              "      <td>-0.114095</td>\n",
              "      <td>1.000000</td>\n",
              "      <td>-0.031751</td>\n",
              "      <td>-0.104870</td>\n",
              "    </tr>\n",
              "    <tr>\n",
              "      <th>Longitude</th>\n",
              "      <td>-0.185071</td>\n",
              "      <td>-0.153329</td>\n",
              "      <td>-0.162539</td>\n",
              "      <td>-0.031751</td>\n",
              "      <td>1.000000</td>\n",
              "      <td>-0.174588</td>\n",
              "    </tr>\n",
              "    <tr>\n",
              "      <th>Total Confirmed cases</th>\n",
              "      <td>-0.037961</td>\n",
              "      <td>-0.065913</td>\n",
              "      <td>0.775171</td>\n",
              "      <td>-0.104870</td>\n",
              "      <td>-0.174588</td>\n",
              "      <td>1.000000</td>\n",
              "    </tr>\n",
              "  </tbody>\n",
              "</table>\n",
              "</div>"
            ],
            "text/plain": [
              "                                            Total Confirmed cases (Indian National)  \\\n",
              "Total Confirmed cases (Indian National)                                    1.000000   \n",
              "Total Confirmed cases ( Foreign National )                                 0.286617   \n",
              "Cured/Discharged/Migrated                                                 -0.034521   \n",
              "Latitude                                                                  -0.108866   \n",
              "Longitude                                                                 -0.185071   \n",
              "Total Confirmed cases                                                     -0.037961   \n",
              "\n",
              "                                            Total Confirmed cases ( Foreign National )  \\\n",
              "Total Confirmed cases (Indian National)                                       0.286617   \n",
              "Total Confirmed cases ( Foreign National )                                    1.000000   \n",
              "Cured/Discharged/Migrated                                                    -0.050049   \n",
              "Latitude                                                                      0.041526   \n",
              "Longitude                                                                    -0.153329   \n",
              "Total Confirmed cases                                                        -0.065913   \n",
              "\n",
              "                                            Cured/Discharged/Migrated  \\\n",
              "Total Confirmed cases (Indian National)                     -0.034521   \n",
              "Total Confirmed cases ( Foreign National )                  -0.050049   \n",
              "Cured/Discharged/Migrated                                    1.000000   \n",
              "Latitude                                                    -0.114095   \n",
              "Longitude                                                   -0.162539   \n",
              "Total Confirmed cases                                        0.775171   \n",
              "\n",
              "                                            Latitude  Longitude  \\\n",
              "Total Confirmed cases (Indian National)    -0.108866  -0.185071   \n",
              "Total Confirmed cases ( Foreign National )  0.041526  -0.153329   \n",
              "Cured/Discharged/Migrated                  -0.114095  -0.162539   \n",
              "Latitude                                    1.000000  -0.031751   \n",
              "Longitude                                  -0.031751   1.000000   \n",
              "Total Confirmed cases                      -0.104870  -0.174588   \n",
              "\n",
              "                                            Total Confirmed cases  \n",
              "Total Confirmed cases (Indian National)                 -0.037961  \n",
              "Total Confirmed cases ( Foreign National )              -0.065913  \n",
              "Cured/Discharged/Migrated                                0.775171  \n",
              "Latitude                                                -0.104870  \n",
              "Longitude                                               -0.174588  \n",
              "Total Confirmed cases                                    1.000000  "
            ]
          },
          "metadata": {
            "tags": []
          },
          "execution_count": 123
        }
      ]
    },
    {
      "cell_type": "markdown",
      "metadata": {
        "id": "sRdWvM7e5HqF",
        "colab_type": "text"
      },
      "source": [
        "**Cross Tabulation**\n",
        "\n",
        "Checking the relationship between two Categorical Variables"
      ]
    },
    {
      "cell_type": "code",
      "metadata": {
        "id": "-WqvPdZE5MmW",
        "colab_type": "code",
        "colab": {
          "base_uri": "https://localhost:8080/",
          "height": 195
        },
        "outputId": "4b50bc7d-cf27-4884-cdb8-b4cf5c047aec"
      },
      "source": [
        "data.dtypes"
      ],
      "execution_count": null,
      "outputs": [
        {
          "output_type": "execute_result",
          "data": {
            "text/plain": [
              "Date                                           object\n",
              "Name of State / UT                             object\n",
              "Total Confirmed cases (Indian National)         int64\n",
              "Total Confirmed cases ( Foreign National )      int64\n",
              "Cured/Discharged/Migrated                       int64\n",
              "Latitude                                      float64\n",
              "Longitude                                     float64\n",
              "Death                                          object\n",
              "Total Confirmed cases                           int64\n",
              "dtype: object"
            ]
          },
          "metadata": {
            "tags": []
          },
          "execution_count": 124
        }
      ]
    },
    {
      "cell_type": "code",
      "metadata": {
        "id": "CQuMO4HY4uHX",
        "colab_type": "code",
        "colab": {
          "base_uri": "https://localhost:8080/",
          "height": 475
        },
        "outputId": "e3ed8331-23e3-47f8-a392-e123fed36bf8"
      },
      "source": [
        "pd.crosstab(index = data['Date'], \n",
        "            columns=data['Name of State / UT'],\n",
        "            margins=True,\n",
        "            normalize=True,\n",
        "            dropna=True)"
      ],
      "execution_count": null,
      "outputs": [
        {
          "output_type": "execute_result",
          "data": {
            "text/html": [
              "<div>\n",
              "<style scoped>\n",
              "    .dataframe tbody tr th:only-of-type {\n",
              "        vertical-align: middle;\n",
              "    }\n",
              "\n",
              "    .dataframe tbody tr th {\n",
              "        vertical-align: top;\n",
              "    }\n",
              "\n",
              "    .dataframe thead th {\n",
              "        text-align: right;\n",
              "    }\n",
              "</style>\n",
              "<table border=\"1\" class=\"dataframe\">\n",
              "  <thead>\n",
              "    <tr style=\"text-align: right;\">\n",
              "      <th>Name of State / UT</th>\n",
              "      <th>Andaman and Nicobar Islands</th>\n",
              "      <th>Andhra Pradesh</th>\n",
              "      <th>Arunachal Pradesh</th>\n",
              "      <th>Assam</th>\n",
              "      <th>Bihar</th>\n",
              "      <th>Chandigarh</th>\n",
              "      <th>...</th>\n",
              "      <th>Union Territory of Jammu and Kashmir</th>\n",
              "      <th>Union Territory of Ladakh</th>\n",
              "      <th>Uttar Pradesh</th>\n",
              "      <th>Uttarakhand</th>\n",
              "      <th>West Bengal</th>\n",
              "      <th>All</th>\n",
              "    </tr>\n",
              "    <tr>\n",
              "      <th>Date</th>\n",
              "      <th></th>\n",
              "      <th></th>\n",
              "      <th></th>\n",
              "      <th></th>\n",
              "      <th></th>\n",
              "      <th></th>\n",
              "      <th></th>\n",
              "      <th></th>\n",
              "      <th></th>\n",
              "      <th></th>\n",
              "      <th></th>\n",
              "      <th></th>\n",
              "      <th></th>\n",
              "    </tr>\n",
              "  </thead>\n",
              "  <tbody>\n",
              "    <tr>\n",
              "      <th>2020-01-30</th>\n",
              "      <td>0.000000</td>\n",
              "      <td>0.000000</td>\n",
              "      <td>0.000000</td>\n",
              "      <td>0.000000</td>\n",
              "      <td>0.000000</td>\n",
              "      <td>0.000000</td>\n",
              "      <td>...</td>\n",
              "      <td>0.000000</td>\n",
              "      <td>0.000000</td>\n",
              "      <td>0.000000</td>\n",
              "      <td>0.000000</td>\n",
              "      <td>0.000000</td>\n",
              "      <td>0.001088</td>\n",
              "    </tr>\n",
              "    <tr>\n",
              "      <th>2020-01-31</th>\n",
              "      <td>0.000000</td>\n",
              "      <td>0.000000</td>\n",
              "      <td>0.000000</td>\n",
              "      <td>0.000000</td>\n",
              "      <td>0.000000</td>\n",
              "      <td>0.000000</td>\n",
              "      <td>...</td>\n",
              "      <td>0.000000</td>\n",
              "      <td>0.000000</td>\n",
              "      <td>0.000000</td>\n",
              "      <td>0.000000</td>\n",
              "      <td>0.000000</td>\n",
              "      <td>0.001088</td>\n",
              "    </tr>\n",
              "    <tr>\n",
              "      <th>2020-02-01</th>\n",
              "      <td>0.000000</td>\n",
              "      <td>0.000000</td>\n",
              "      <td>0.000000</td>\n",
              "      <td>0.000000</td>\n",
              "      <td>0.000000</td>\n",
              "      <td>0.000000</td>\n",
              "      <td>...</td>\n",
              "      <td>0.000000</td>\n",
              "      <td>0.000000</td>\n",
              "      <td>0.000000</td>\n",
              "      <td>0.000000</td>\n",
              "      <td>0.000000</td>\n",
              "      <td>0.001088</td>\n",
              "    </tr>\n",
              "    <tr>\n",
              "      <th>2020-02-02</th>\n",
              "      <td>0.000000</td>\n",
              "      <td>0.000000</td>\n",
              "      <td>0.000000</td>\n",
              "      <td>0.000000</td>\n",
              "      <td>0.000000</td>\n",
              "      <td>0.000000</td>\n",
              "      <td>...</td>\n",
              "      <td>0.000000</td>\n",
              "      <td>0.000000</td>\n",
              "      <td>0.000000</td>\n",
              "      <td>0.000000</td>\n",
              "      <td>0.000000</td>\n",
              "      <td>0.001088</td>\n",
              "    </tr>\n",
              "    <tr>\n",
              "      <th>2020-02-03</th>\n",
              "      <td>0.000000</td>\n",
              "      <td>0.000000</td>\n",
              "      <td>0.000000</td>\n",
              "      <td>0.000000</td>\n",
              "      <td>0.000000</td>\n",
              "      <td>0.000000</td>\n",
              "      <td>...</td>\n",
              "      <td>0.000000</td>\n",
              "      <td>0.000000</td>\n",
              "      <td>0.000000</td>\n",
              "      <td>0.000000</td>\n",
              "      <td>0.000000</td>\n",
              "      <td>0.001088</td>\n",
              "    </tr>\n",
              "    <tr>\n",
              "      <th>...</th>\n",
              "      <td>...</td>\n",
              "      <td>...</td>\n",
              "      <td>...</td>\n",
              "      <td>...</td>\n",
              "      <td>...</td>\n",
              "      <td>...</td>\n",
              "      <td>...</td>\n",
              "      <td>...</td>\n",
              "      <td>...</td>\n",
              "      <td>...</td>\n",
              "      <td>...</td>\n",
              "      <td>...</td>\n",
              "      <td>...</td>\n",
              "    </tr>\n",
              "    <tr>\n",
              "      <th>2020-04-10</th>\n",
              "      <td>0.001088</td>\n",
              "      <td>0.001088</td>\n",
              "      <td>0.001088</td>\n",
              "      <td>0.001088</td>\n",
              "      <td>0.001088</td>\n",
              "      <td>0.001088</td>\n",
              "      <td>...</td>\n",
              "      <td>0.000000</td>\n",
              "      <td>0.000000</td>\n",
              "      <td>0.001088</td>\n",
              "      <td>0.001088</td>\n",
              "      <td>0.001088</td>\n",
              "      <td>0.033732</td>\n",
              "    </tr>\n",
              "    <tr>\n",
              "      <th>2020-04-11</th>\n",
              "      <td>0.001088</td>\n",
              "      <td>0.001088</td>\n",
              "      <td>0.001088</td>\n",
              "      <td>0.001088</td>\n",
              "      <td>0.001088</td>\n",
              "      <td>0.001088</td>\n",
              "      <td>...</td>\n",
              "      <td>0.000000</td>\n",
              "      <td>0.000000</td>\n",
              "      <td>0.001088</td>\n",
              "      <td>0.001088</td>\n",
              "      <td>0.001088</td>\n",
              "      <td>0.033732</td>\n",
              "    </tr>\n",
              "    <tr>\n",
              "      <th>2020-04-12</th>\n",
              "      <td>0.001088</td>\n",
              "      <td>0.001088</td>\n",
              "      <td>0.001088</td>\n",
              "      <td>0.001088</td>\n",
              "      <td>0.001088</td>\n",
              "      <td>0.001088</td>\n",
              "      <td>...</td>\n",
              "      <td>0.000000</td>\n",
              "      <td>0.000000</td>\n",
              "      <td>0.001088</td>\n",
              "      <td>0.001088</td>\n",
              "      <td>0.001088</td>\n",
              "      <td>0.033732</td>\n",
              "    </tr>\n",
              "    <tr>\n",
              "      <th>2020-04-13</th>\n",
              "      <td>0.001088</td>\n",
              "      <td>0.001088</td>\n",
              "      <td>0.001088</td>\n",
              "      <td>0.001088</td>\n",
              "      <td>0.001088</td>\n",
              "      <td>0.001088</td>\n",
              "      <td>...</td>\n",
              "      <td>0.000000</td>\n",
              "      <td>0.000000</td>\n",
              "      <td>0.001088</td>\n",
              "      <td>0.001088</td>\n",
              "      <td>0.001088</td>\n",
              "      <td>0.033732</td>\n",
              "    </tr>\n",
              "    <tr>\n",
              "      <th>All</th>\n",
              "      <td>0.020675</td>\n",
              "      <td>0.035909</td>\n",
              "      <td>0.011970</td>\n",
              "      <td>0.014146</td>\n",
              "      <td>0.025027</td>\n",
              "      <td>0.026115</td>\n",
              "      <td>...</td>\n",
              "      <td>0.013058</td>\n",
              "      <td>0.015234</td>\n",
              "      <td>0.044614</td>\n",
              "      <td>0.032644</td>\n",
              "      <td>0.026115</td>\n",
              "      <td>1.000000</td>\n",
              "    </tr>\n",
              "  </tbody>\n",
              "</table>\n",
              "<p>76 rows × 35 columns</p>\n",
              "</div>"
            ],
            "text/plain": [
              "Name of State / UT  Andaman and Nicobar Islands  Andhra Pradesh  \\\n",
              "Date                                                              \n",
              "2020-01-30                             0.000000        0.000000   \n",
              "2020-01-31                             0.000000        0.000000   \n",
              "2020-02-01                             0.000000        0.000000   \n",
              "2020-02-02                             0.000000        0.000000   \n",
              "2020-02-03                             0.000000        0.000000   \n",
              "...                                         ...             ...   \n",
              "2020-04-10                             0.001088        0.001088   \n",
              "2020-04-11                             0.001088        0.001088   \n",
              "2020-04-12                             0.001088        0.001088   \n",
              "2020-04-13                             0.001088        0.001088   \n",
              "All                                    0.020675        0.035909   \n",
              "\n",
              "Name of State / UT  Arunachal Pradesh     Assam     Bihar  Chandigarh  ...  \\\n",
              "Date                                                                   ...   \n",
              "2020-01-30                   0.000000  0.000000  0.000000    0.000000  ...   \n",
              "2020-01-31                   0.000000  0.000000  0.000000    0.000000  ...   \n",
              "2020-02-01                   0.000000  0.000000  0.000000    0.000000  ...   \n",
              "2020-02-02                   0.000000  0.000000  0.000000    0.000000  ...   \n",
              "2020-02-03                   0.000000  0.000000  0.000000    0.000000  ...   \n",
              "...                               ...       ...       ...         ...  ...   \n",
              "2020-04-10                   0.001088  0.001088  0.001088    0.001088  ...   \n",
              "2020-04-11                   0.001088  0.001088  0.001088    0.001088  ...   \n",
              "2020-04-12                   0.001088  0.001088  0.001088    0.001088  ...   \n",
              "2020-04-13                   0.001088  0.001088  0.001088    0.001088  ...   \n",
              "All                          0.011970  0.014146  0.025027    0.026115  ...   \n",
              "\n",
              "Name of State / UT  Union Territory of Jammu and Kashmir  \\\n",
              "Date                                                       \n",
              "2020-01-30                                      0.000000   \n",
              "2020-01-31                                      0.000000   \n",
              "2020-02-01                                      0.000000   \n",
              "2020-02-02                                      0.000000   \n",
              "2020-02-03                                      0.000000   \n",
              "...                                                  ...   \n",
              "2020-04-10                                      0.000000   \n",
              "2020-04-11                                      0.000000   \n",
              "2020-04-12                                      0.000000   \n",
              "2020-04-13                                      0.000000   \n",
              "All                                             0.013058   \n",
              "\n",
              "Name of State / UT  Union Territory of Ladakh  Uttar Pradesh  Uttarakhand  \\\n",
              "Date                                                                        \n",
              "2020-01-30                           0.000000       0.000000     0.000000   \n",
              "2020-01-31                           0.000000       0.000000     0.000000   \n",
              "2020-02-01                           0.000000       0.000000     0.000000   \n",
              "2020-02-02                           0.000000       0.000000     0.000000   \n",
              "2020-02-03                           0.000000       0.000000     0.000000   \n",
              "...                                       ...            ...          ...   \n",
              "2020-04-10                           0.000000       0.001088     0.001088   \n",
              "2020-04-11                           0.000000       0.001088     0.001088   \n",
              "2020-04-12                           0.000000       0.001088     0.001088   \n",
              "2020-04-13                           0.000000       0.001088     0.001088   \n",
              "All                                  0.015234       0.044614     0.032644   \n",
              "\n",
              "Name of State / UT  West Bengal       All  \n",
              "Date                                       \n",
              "2020-01-30             0.000000  0.001088  \n",
              "2020-01-31             0.000000  0.001088  \n",
              "2020-02-01             0.000000  0.001088  \n",
              "2020-02-02             0.000000  0.001088  \n",
              "2020-02-03             0.000000  0.001088  \n",
              "...                         ...       ...  \n",
              "2020-04-10             0.001088  0.033732  \n",
              "2020-04-11             0.001088  0.033732  \n",
              "2020-04-12             0.001088  0.033732  \n",
              "2020-04-13             0.001088  0.033732  \n",
              "All                    0.026115  1.000000  \n",
              "\n",
              "[76 rows x 35 columns]"
            ]
          },
          "metadata": {
            "tags": []
          },
          "execution_count": 125
        }
      ]
    },
    {
      "cell_type": "markdown",
      "metadata": {
        "id": "QoGO6se1KoZw",
        "colab_type": "text"
      },
      "source": [
        "### **Handling Missing Values**"
      ]
    },
    {
      "cell_type": "code",
      "metadata": {
        "id": "vbbeyma95sge",
        "colab_type": "code",
        "colab": {
          "base_uri": "https://localhost:8080/",
          "height": 615
        },
        "outputId": "ea4a34b6-e47f-47ff-c63b-31fc2aefb7a4"
      },
      "source": [
        "##Drop nan/missing values\n",
        "\n",
        "data.dropna(axis=0)"
      ],
      "execution_count": null,
      "outputs": [
        {
          "output_type": "execute_result",
          "data": {
            "text/html": [
              "<div>\n",
              "<style scoped>\n",
              "    .dataframe tbody tr th:only-of-type {\n",
              "        vertical-align: middle;\n",
              "    }\n",
              "\n",
              "    .dataframe tbody tr th {\n",
              "        vertical-align: top;\n",
              "    }\n",
              "\n",
              "    .dataframe thead th {\n",
              "        text-align: right;\n",
              "    }\n",
              "</style>\n",
              "<table border=\"1\" class=\"dataframe\">\n",
              "  <thead>\n",
              "    <tr style=\"text-align: right;\">\n",
              "      <th></th>\n",
              "      <th>Date</th>\n",
              "      <th>Name of State / UT</th>\n",
              "      <th>Total Confirmed cases (Indian National)</th>\n",
              "      <th>Total Confirmed cases ( Foreign National )</th>\n",
              "      <th>Cured/Discharged/Migrated</th>\n",
              "      <th>Latitude</th>\n",
              "      <th>Longitude</th>\n",
              "      <th>Death</th>\n",
              "      <th>Total Confirmed cases</th>\n",
              "    </tr>\n",
              "  </thead>\n",
              "  <tbody>\n",
              "    <tr>\n",
              "      <th>0</th>\n",
              "      <td>2020-01-30</td>\n",
              "      <td>Kerala</td>\n",
              "      <td>1</td>\n",
              "      <td>0</td>\n",
              "      <td>0</td>\n",
              "      <td>10.8505</td>\n",
              "      <td>76.2711</td>\n",
              "      <td>0</td>\n",
              "      <td>1</td>\n",
              "    </tr>\n",
              "    <tr>\n",
              "      <th>1</th>\n",
              "      <td>2020-01-31</td>\n",
              "      <td>Kerala</td>\n",
              "      <td>1</td>\n",
              "      <td>0</td>\n",
              "      <td>0</td>\n",
              "      <td>10.8505</td>\n",
              "      <td>76.2711</td>\n",
              "      <td>0</td>\n",
              "      <td>1</td>\n",
              "    </tr>\n",
              "    <tr>\n",
              "      <th>2</th>\n",
              "      <td>2020-02-01</td>\n",
              "      <td>Kerala</td>\n",
              "      <td>2</td>\n",
              "      <td>0</td>\n",
              "      <td>0</td>\n",
              "      <td>10.8505</td>\n",
              "      <td>76.2711</td>\n",
              "      <td>0</td>\n",
              "      <td>2</td>\n",
              "    </tr>\n",
              "    <tr>\n",
              "      <th>3</th>\n",
              "      <td>2020-02-02</td>\n",
              "      <td>Kerala</td>\n",
              "      <td>3</td>\n",
              "      <td>0</td>\n",
              "      <td>0</td>\n",
              "      <td>10.8505</td>\n",
              "      <td>76.2711</td>\n",
              "      <td>0</td>\n",
              "      <td>3</td>\n",
              "    </tr>\n",
              "    <tr>\n",
              "      <th>4</th>\n",
              "      <td>2020-02-03</td>\n",
              "      <td>Kerala</td>\n",
              "      <td>3</td>\n",
              "      <td>0</td>\n",
              "      <td>0</td>\n",
              "      <td>10.8505</td>\n",
              "      <td>76.2711</td>\n",
              "      <td>0</td>\n",
              "      <td>3</td>\n",
              "    </tr>\n",
              "    <tr>\n",
              "      <th>...</th>\n",
              "      <td>...</td>\n",
              "      <td>...</td>\n",
              "      <td>...</td>\n",
              "      <td>...</td>\n",
              "      <td>...</td>\n",
              "      <td>...</td>\n",
              "      <td>...</td>\n",
              "      <td>...</td>\n",
              "      <td>...</td>\n",
              "    </tr>\n",
              "    <tr>\n",
              "      <th>914</th>\n",
              "      <td>2020-04-13</td>\n",
              "      <td>Telengana</td>\n",
              "      <td>0</td>\n",
              "      <td>0</td>\n",
              "      <td>43</td>\n",
              "      <td>18.1124</td>\n",
              "      <td>79.0193</td>\n",
              "      <td>9</td>\n",
              "      <td>504</td>\n",
              "    </tr>\n",
              "    <tr>\n",
              "      <th>915</th>\n",
              "      <td>2020-04-13</td>\n",
              "      <td>Tripura</td>\n",
              "      <td>0</td>\n",
              "      <td>0</td>\n",
              "      <td>0</td>\n",
              "      <td>23.9408</td>\n",
              "      <td>91.9882</td>\n",
              "      <td>0</td>\n",
              "      <td>2</td>\n",
              "    </tr>\n",
              "    <tr>\n",
              "      <th>916</th>\n",
              "      <td>2020-04-13</td>\n",
              "      <td>Uttar Pradesh</td>\n",
              "      <td>0</td>\n",
              "      <td>0</td>\n",
              "      <td>46</td>\n",
              "      <td>26.8467</td>\n",
              "      <td>80.9462</td>\n",
              "      <td>5</td>\n",
              "      <td>483</td>\n",
              "    </tr>\n",
              "    <tr>\n",
              "      <th>917</th>\n",
              "      <td>2020-04-13</td>\n",
              "      <td>Uttarakhand</td>\n",
              "      <td>0</td>\n",
              "      <td>0</td>\n",
              "      <td>5</td>\n",
              "      <td>30.0668</td>\n",
              "      <td>79.0193</td>\n",
              "      <td>0</td>\n",
              "      <td>35</td>\n",
              "    </tr>\n",
              "    <tr>\n",
              "      <th>918</th>\n",
              "      <td>2020-04-13</td>\n",
              "      <td>West Bengal</td>\n",
              "      <td>0</td>\n",
              "      <td>0</td>\n",
              "      <td>29</td>\n",
              "      <td>22.9868</td>\n",
              "      <td>87.8550</td>\n",
              "      <td>7</td>\n",
              "      <td>152</td>\n",
              "    </tr>\n",
              "  </tbody>\n",
              "</table>\n",
              "<p>919 rows × 9 columns</p>\n",
              "</div>"
            ],
            "text/plain": [
              "           Date Name of State / UT  Total Confirmed cases (Indian National)  \\\n",
              "0    2020-01-30             Kerala                                        1   \n",
              "1    2020-01-31             Kerala                                        1   \n",
              "2    2020-02-01             Kerala                                        2   \n",
              "3    2020-02-02             Kerala                                        3   \n",
              "4    2020-02-03             Kerala                                        3   \n",
              "..          ...                ...                                      ...   \n",
              "914  2020-04-13          Telengana                                        0   \n",
              "915  2020-04-13            Tripura                                        0   \n",
              "916  2020-04-13      Uttar Pradesh                                        0   \n",
              "917  2020-04-13        Uttarakhand                                        0   \n",
              "918  2020-04-13        West Bengal                                        0   \n",
              "\n",
              "     Total Confirmed cases ( Foreign National )  Cured/Discharged/Migrated  \\\n",
              "0                                             0                          0   \n",
              "1                                             0                          0   \n",
              "2                                             0                          0   \n",
              "3                                             0                          0   \n",
              "4                                             0                          0   \n",
              "..                                          ...                        ...   \n",
              "914                                           0                         43   \n",
              "915                                           0                          0   \n",
              "916                                           0                         46   \n",
              "917                                           0                          5   \n",
              "918                                           0                         29   \n",
              "\n",
              "     Latitude  Longitude Death  Total Confirmed cases  \n",
              "0     10.8505    76.2711     0                      1  \n",
              "1     10.8505    76.2711     0                      1  \n",
              "2     10.8505    76.2711     0                      2  \n",
              "3     10.8505    76.2711     0                      3  \n",
              "4     10.8505    76.2711     0                      3  \n",
              "..        ...        ...   ...                    ...  \n",
              "914   18.1124    79.0193     9                    504  \n",
              "915   23.9408    91.9882     0                      2  \n",
              "916   26.8467    80.9462     5                    483  \n",
              "917   30.0668    79.0193     0                     35  \n",
              "918   22.9868    87.8550     7                    152  \n",
              "\n",
              "[919 rows x 9 columns]"
            ]
          },
          "metadata": {
            "tags": []
          },
          "execution_count": 126
        }
      ]
    },
    {
      "cell_type": "code",
      "metadata": {
        "id": "M7rbmDZ2BLsF",
        "colab_type": "code",
        "colab": {
          "base_uri": "https://localhost:8080/",
          "height": 615
        },
        "outputId": "787cd63f-d267-4ea2-81f4-01936eff91cc"
      },
      "source": [
        "#Impute missing values\n",
        "data.fillna('Missing')"
      ],
      "execution_count": null,
      "outputs": [
        {
          "output_type": "execute_result",
          "data": {
            "text/html": [
              "<div>\n",
              "<style scoped>\n",
              "    .dataframe tbody tr th:only-of-type {\n",
              "        vertical-align: middle;\n",
              "    }\n",
              "\n",
              "    .dataframe tbody tr th {\n",
              "        vertical-align: top;\n",
              "    }\n",
              "\n",
              "    .dataframe thead th {\n",
              "        text-align: right;\n",
              "    }\n",
              "</style>\n",
              "<table border=\"1\" class=\"dataframe\">\n",
              "  <thead>\n",
              "    <tr style=\"text-align: right;\">\n",
              "      <th></th>\n",
              "      <th>Date</th>\n",
              "      <th>Name of State / UT</th>\n",
              "      <th>Total Confirmed cases (Indian National)</th>\n",
              "      <th>Total Confirmed cases ( Foreign National )</th>\n",
              "      <th>Cured/Discharged/Migrated</th>\n",
              "      <th>Latitude</th>\n",
              "      <th>Longitude</th>\n",
              "      <th>Death</th>\n",
              "      <th>Total Confirmed cases</th>\n",
              "    </tr>\n",
              "  </thead>\n",
              "  <tbody>\n",
              "    <tr>\n",
              "      <th>0</th>\n",
              "      <td>2020-01-30</td>\n",
              "      <td>Kerala</td>\n",
              "      <td>1</td>\n",
              "      <td>0</td>\n",
              "      <td>0</td>\n",
              "      <td>10.8505</td>\n",
              "      <td>76.2711</td>\n",
              "      <td>0</td>\n",
              "      <td>1</td>\n",
              "    </tr>\n",
              "    <tr>\n",
              "      <th>1</th>\n",
              "      <td>2020-01-31</td>\n",
              "      <td>Kerala</td>\n",
              "      <td>1</td>\n",
              "      <td>0</td>\n",
              "      <td>0</td>\n",
              "      <td>10.8505</td>\n",
              "      <td>76.2711</td>\n",
              "      <td>0</td>\n",
              "      <td>1</td>\n",
              "    </tr>\n",
              "    <tr>\n",
              "      <th>2</th>\n",
              "      <td>2020-02-01</td>\n",
              "      <td>Kerala</td>\n",
              "      <td>2</td>\n",
              "      <td>0</td>\n",
              "      <td>0</td>\n",
              "      <td>10.8505</td>\n",
              "      <td>76.2711</td>\n",
              "      <td>0</td>\n",
              "      <td>2</td>\n",
              "    </tr>\n",
              "    <tr>\n",
              "      <th>3</th>\n",
              "      <td>2020-02-02</td>\n",
              "      <td>Kerala</td>\n",
              "      <td>3</td>\n",
              "      <td>0</td>\n",
              "      <td>0</td>\n",
              "      <td>10.8505</td>\n",
              "      <td>76.2711</td>\n",
              "      <td>0</td>\n",
              "      <td>3</td>\n",
              "    </tr>\n",
              "    <tr>\n",
              "      <th>4</th>\n",
              "      <td>2020-02-03</td>\n",
              "      <td>Kerala</td>\n",
              "      <td>3</td>\n",
              "      <td>0</td>\n",
              "      <td>0</td>\n",
              "      <td>10.8505</td>\n",
              "      <td>76.2711</td>\n",
              "      <td>0</td>\n",
              "      <td>3</td>\n",
              "    </tr>\n",
              "    <tr>\n",
              "      <th>...</th>\n",
              "      <td>...</td>\n",
              "      <td>...</td>\n",
              "      <td>...</td>\n",
              "      <td>...</td>\n",
              "      <td>...</td>\n",
              "      <td>...</td>\n",
              "      <td>...</td>\n",
              "      <td>...</td>\n",
              "      <td>...</td>\n",
              "    </tr>\n",
              "    <tr>\n",
              "      <th>914</th>\n",
              "      <td>2020-04-13</td>\n",
              "      <td>Telengana</td>\n",
              "      <td>0</td>\n",
              "      <td>0</td>\n",
              "      <td>43</td>\n",
              "      <td>18.1124</td>\n",
              "      <td>79.0193</td>\n",
              "      <td>9</td>\n",
              "      <td>504</td>\n",
              "    </tr>\n",
              "    <tr>\n",
              "      <th>915</th>\n",
              "      <td>2020-04-13</td>\n",
              "      <td>Tripura</td>\n",
              "      <td>0</td>\n",
              "      <td>0</td>\n",
              "      <td>0</td>\n",
              "      <td>23.9408</td>\n",
              "      <td>91.9882</td>\n",
              "      <td>0</td>\n",
              "      <td>2</td>\n",
              "    </tr>\n",
              "    <tr>\n",
              "      <th>916</th>\n",
              "      <td>2020-04-13</td>\n",
              "      <td>Uttar Pradesh</td>\n",
              "      <td>0</td>\n",
              "      <td>0</td>\n",
              "      <td>46</td>\n",
              "      <td>26.8467</td>\n",
              "      <td>80.9462</td>\n",
              "      <td>5</td>\n",
              "      <td>483</td>\n",
              "    </tr>\n",
              "    <tr>\n",
              "      <th>917</th>\n",
              "      <td>2020-04-13</td>\n",
              "      <td>Uttarakhand</td>\n",
              "      <td>0</td>\n",
              "      <td>0</td>\n",
              "      <td>5</td>\n",
              "      <td>30.0668</td>\n",
              "      <td>79.0193</td>\n",
              "      <td>0</td>\n",
              "      <td>35</td>\n",
              "    </tr>\n",
              "    <tr>\n",
              "      <th>918</th>\n",
              "      <td>2020-04-13</td>\n",
              "      <td>West Bengal</td>\n",
              "      <td>0</td>\n",
              "      <td>0</td>\n",
              "      <td>29</td>\n",
              "      <td>22.9868</td>\n",
              "      <td>87.8550</td>\n",
              "      <td>7</td>\n",
              "      <td>152</td>\n",
              "    </tr>\n",
              "  </tbody>\n",
              "</table>\n",
              "<p>919 rows × 9 columns</p>\n",
              "</div>"
            ],
            "text/plain": [
              "           Date Name of State / UT  Total Confirmed cases (Indian National)  \\\n",
              "0    2020-01-30             Kerala                                        1   \n",
              "1    2020-01-31             Kerala                                        1   \n",
              "2    2020-02-01             Kerala                                        2   \n",
              "3    2020-02-02             Kerala                                        3   \n",
              "4    2020-02-03             Kerala                                        3   \n",
              "..          ...                ...                                      ...   \n",
              "914  2020-04-13          Telengana                                        0   \n",
              "915  2020-04-13            Tripura                                        0   \n",
              "916  2020-04-13      Uttar Pradesh                                        0   \n",
              "917  2020-04-13        Uttarakhand                                        0   \n",
              "918  2020-04-13        West Bengal                                        0   \n",
              "\n",
              "     Total Confirmed cases ( Foreign National )  Cured/Discharged/Migrated  \\\n",
              "0                                             0                          0   \n",
              "1                                             0                          0   \n",
              "2                                             0                          0   \n",
              "3                                             0                          0   \n",
              "4                                             0                          0   \n",
              "..                                          ...                        ...   \n",
              "914                                           0                         43   \n",
              "915                                           0                          0   \n",
              "916                                           0                         46   \n",
              "917                                           0                          5   \n",
              "918                                           0                         29   \n",
              "\n",
              "     Latitude  Longitude  Death  Total Confirmed cases  \n",
              "0     10.8505    76.2711      0                      1  \n",
              "1     10.8505    76.2711      0                      1  \n",
              "2     10.8505    76.2711      0                      2  \n",
              "3     10.8505    76.2711      0                      3  \n",
              "4     10.8505    76.2711      0                      3  \n",
              "..        ...        ...    ...                    ...  \n",
              "914   18.1124    79.0193      9                    504  \n",
              "915   23.9408    91.9882      0                      2  \n",
              "916   26.8467    80.9462      5                    483  \n",
              "917   30.0668    79.0193      0                     35  \n",
              "918   22.9868    87.8550      7                    152  \n",
              "\n",
              "[919 rows x 9 columns]"
            ]
          },
          "metadata": {
            "tags": []
          },
          "execution_count": 127
        }
      ]
    },
    {
      "cell_type": "markdown",
      "metadata": {
        "id": "HdXWajV9KgLF",
        "colab_type": "text"
      },
      "source": [
        "### **Dropping unwanted columns from the dataframe**"
      ]
    },
    {
      "cell_type": "code",
      "metadata": {
        "id": "FxpDTqTiRZqd",
        "colab_type": "code",
        "colab": {}
      },
      "source": [
        "data=data.drop(columns=['Latitude'])"
      ],
      "execution_count": null,
      "outputs": []
    },
    {
      "cell_type": "code",
      "metadata": {
        "id": "FBIMPhLaRjZw",
        "colab_type": "code",
        "colab": {
          "base_uri": "https://localhost:8080/",
          "height": 615
        },
        "outputId": "3a745d0c-483a-494c-d444-4ee0ea995a8a"
      },
      "source": [
        "data"
      ],
      "execution_count": null,
      "outputs": [
        {
          "output_type": "execute_result",
          "data": {
            "text/html": [
              "<div>\n",
              "<style scoped>\n",
              "    .dataframe tbody tr th:only-of-type {\n",
              "        vertical-align: middle;\n",
              "    }\n",
              "\n",
              "    .dataframe tbody tr th {\n",
              "        vertical-align: top;\n",
              "    }\n",
              "\n",
              "    .dataframe thead th {\n",
              "        text-align: right;\n",
              "    }\n",
              "</style>\n",
              "<table border=\"1\" class=\"dataframe\">\n",
              "  <thead>\n",
              "    <tr style=\"text-align: right;\">\n",
              "      <th></th>\n",
              "      <th>Date</th>\n",
              "      <th>Name of State / UT</th>\n",
              "      <th>Total Confirmed cases (Indian National)</th>\n",
              "      <th>Total Confirmed cases ( Foreign National )</th>\n",
              "      <th>Cured/Discharged/Migrated</th>\n",
              "      <th>Longitude</th>\n",
              "      <th>Death</th>\n",
              "      <th>Total Confirmed cases</th>\n",
              "    </tr>\n",
              "  </thead>\n",
              "  <tbody>\n",
              "    <tr>\n",
              "      <th>0</th>\n",
              "      <td>2020-01-30</td>\n",
              "      <td>Kerala</td>\n",
              "      <td>1</td>\n",
              "      <td>0</td>\n",
              "      <td>0</td>\n",
              "      <td>76.2711</td>\n",
              "      <td>0</td>\n",
              "      <td>1</td>\n",
              "    </tr>\n",
              "    <tr>\n",
              "      <th>1</th>\n",
              "      <td>2020-01-31</td>\n",
              "      <td>Kerala</td>\n",
              "      <td>1</td>\n",
              "      <td>0</td>\n",
              "      <td>0</td>\n",
              "      <td>76.2711</td>\n",
              "      <td>0</td>\n",
              "      <td>1</td>\n",
              "    </tr>\n",
              "    <tr>\n",
              "      <th>2</th>\n",
              "      <td>2020-02-01</td>\n",
              "      <td>Kerala</td>\n",
              "      <td>2</td>\n",
              "      <td>0</td>\n",
              "      <td>0</td>\n",
              "      <td>76.2711</td>\n",
              "      <td>0</td>\n",
              "      <td>2</td>\n",
              "    </tr>\n",
              "    <tr>\n",
              "      <th>3</th>\n",
              "      <td>2020-02-02</td>\n",
              "      <td>Kerala</td>\n",
              "      <td>3</td>\n",
              "      <td>0</td>\n",
              "      <td>0</td>\n",
              "      <td>76.2711</td>\n",
              "      <td>0</td>\n",
              "      <td>3</td>\n",
              "    </tr>\n",
              "    <tr>\n",
              "      <th>4</th>\n",
              "      <td>2020-02-03</td>\n",
              "      <td>Kerala</td>\n",
              "      <td>3</td>\n",
              "      <td>0</td>\n",
              "      <td>0</td>\n",
              "      <td>76.2711</td>\n",
              "      <td>0</td>\n",
              "      <td>3</td>\n",
              "    </tr>\n",
              "    <tr>\n",
              "      <th>...</th>\n",
              "      <td>...</td>\n",
              "      <td>...</td>\n",
              "      <td>...</td>\n",
              "      <td>...</td>\n",
              "      <td>...</td>\n",
              "      <td>...</td>\n",
              "      <td>...</td>\n",
              "      <td>...</td>\n",
              "    </tr>\n",
              "    <tr>\n",
              "      <th>914</th>\n",
              "      <td>2020-04-13</td>\n",
              "      <td>Telengana</td>\n",
              "      <td>0</td>\n",
              "      <td>0</td>\n",
              "      <td>43</td>\n",
              "      <td>79.0193</td>\n",
              "      <td>9</td>\n",
              "      <td>504</td>\n",
              "    </tr>\n",
              "    <tr>\n",
              "      <th>915</th>\n",
              "      <td>2020-04-13</td>\n",
              "      <td>Tripura</td>\n",
              "      <td>0</td>\n",
              "      <td>0</td>\n",
              "      <td>0</td>\n",
              "      <td>91.9882</td>\n",
              "      <td>0</td>\n",
              "      <td>2</td>\n",
              "    </tr>\n",
              "    <tr>\n",
              "      <th>916</th>\n",
              "      <td>2020-04-13</td>\n",
              "      <td>Uttar Pradesh</td>\n",
              "      <td>0</td>\n",
              "      <td>0</td>\n",
              "      <td>46</td>\n",
              "      <td>80.9462</td>\n",
              "      <td>5</td>\n",
              "      <td>483</td>\n",
              "    </tr>\n",
              "    <tr>\n",
              "      <th>917</th>\n",
              "      <td>2020-04-13</td>\n",
              "      <td>Uttarakhand</td>\n",
              "      <td>0</td>\n",
              "      <td>0</td>\n",
              "      <td>5</td>\n",
              "      <td>79.0193</td>\n",
              "      <td>0</td>\n",
              "      <td>35</td>\n",
              "    </tr>\n",
              "    <tr>\n",
              "      <th>918</th>\n",
              "      <td>2020-04-13</td>\n",
              "      <td>West Bengal</td>\n",
              "      <td>0</td>\n",
              "      <td>0</td>\n",
              "      <td>29</td>\n",
              "      <td>87.8550</td>\n",
              "      <td>7</td>\n",
              "      <td>152</td>\n",
              "    </tr>\n",
              "  </tbody>\n",
              "</table>\n",
              "<p>919 rows × 8 columns</p>\n",
              "</div>"
            ],
            "text/plain": [
              "           Date Name of State / UT  Total Confirmed cases (Indian National)  \\\n",
              "0    2020-01-30             Kerala                                        1   \n",
              "1    2020-01-31             Kerala                                        1   \n",
              "2    2020-02-01             Kerala                                        2   \n",
              "3    2020-02-02             Kerala                                        3   \n",
              "4    2020-02-03             Kerala                                        3   \n",
              "..          ...                ...                                      ...   \n",
              "914  2020-04-13          Telengana                                        0   \n",
              "915  2020-04-13            Tripura                                        0   \n",
              "916  2020-04-13      Uttar Pradesh                                        0   \n",
              "917  2020-04-13        Uttarakhand                                        0   \n",
              "918  2020-04-13        West Bengal                                        0   \n",
              "\n",
              "     Total Confirmed cases ( Foreign National )  Cured/Discharged/Migrated  \\\n",
              "0                                             0                          0   \n",
              "1                                             0                          0   \n",
              "2                                             0                          0   \n",
              "3                                             0                          0   \n",
              "4                                             0                          0   \n",
              "..                                          ...                        ...   \n",
              "914                                           0                         43   \n",
              "915                                           0                          0   \n",
              "916                                           0                         46   \n",
              "917                                           0                          5   \n",
              "918                                           0                         29   \n",
              "\n",
              "     Longitude Death  Total Confirmed cases  \n",
              "0      76.2711     0                      1  \n",
              "1      76.2711     0                      1  \n",
              "2      76.2711     0                      2  \n",
              "3      76.2711     0                      3  \n",
              "4      76.2711     0                      3  \n",
              "..         ...   ...                    ...  \n",
              "914    79.0193     9                    504  \n",
              "915    91.9882     0                      2  \n",
              "916    80.9462     5                    483  \n",
              "917    79.0193     0                     35  \n",
              "918    87.8550     7                    152  \n",
              "\n",
              "[919 rows x 8 columns]"
            ]
          },
          "metadata": {
            "tags": []
          },
          "execution_count": 129
        }
      ]
    },
    {
      "cell_type": "markdown",
      "metadata": {
        "id": "-H4P3MAaT0sI",
        "colab_type": "text"
      },
      "source": [
        "#**Reading and Writing Data to Different Sources**"
      ]
    },
    {
      "cell_type": "code",
      "metadata": {
        "id": "PmdP4FNrU7Bg",
        "colab_type": "code",
        "colab": {
          "base_uri": "https://localhost:8080/",
          "height": 441
        },
        "outputId": "ff171c71-a8f0-4d70-d683-0d68fa58b673"
      },
      "source": [
        "## URL to CSV\n",
        "titanic = pd.read_csv(\"https://gist.githubusercontent.com/michhar/2dfd2de0d4f8727f873422c5d959fff5/raw/ff414a1bcfcba32481e4d4e8db578e55872a2ca1/titanic.csv\",\n",
        "                           sep='\\t',index_col='Name')\n",
        "titanic"
      ],
      "execution_count": null,
      "outputs": [
        {
          "output_type": "execute_result",
          "data": {
            "text/html": [
              "<div>\n",
              "<style scoped>\n",
              "    .dataframe tbody tr th:only-of-type {\n",
              "        vertical-align: middle;\n",
              "    }\n",
              "\n",
              "    .dataframe tbody tr th {\n",
              "        vertical-align: top;\n",
              "    }\n",
              "\n",
              "    .dataframe thead th {\n",
              "        text-align: right;\n",
              "    }\n",
              "</style>\n",
              "<table border=\"1\" class=\"dataframe\">\n",
              "  <thead>\n",
              "    <tr style=\"text-align: right;\">\n",
              "      <th></th>\n",
              "      <th>PassengerId</th>\n",
              "      <th>Survived</th>\n",
              "      <th>Pclass</th>\n",
              "      <th>Sex</th>\n",
              "      <th>Age</th>\n",
              "      <th>SibSp</th>\n",
              "      <th>Parch</th>\n",
              "      <th>Ticket</th>\n",
              "      <th>Fare</th>\n",
              "      <th>Cabin</th>\n",
              "      <th>Embarked</th>\n",
              "    </tr>\n",
              "    <tr>\n",
              "      <th>Name</th>\n",
              "      <th></th>\n",
              "      <th></th>\n",
              "      <th></th>\n",
              "      <th></th>\n",
              "      <th></th>\n",
              "      <th></th>\n",
              "      <th></th>\n",
              "      <th></th>\n",
              "      <th></th>\n",
              "      <th></th>\n",
              "      <th></th>\n",
              "    </tr>\n",
              "  </thead>\n",
              "  <tbody>\n",
              "    <tr>\n",
              "      <th>Braund, Mr. Owen Harris</th>\n",
              "      <td>1</td>\n",
              "      <td>0</td>\n",
              "      <td>3</td>\n",
              "      <td>male</td>\n",
              "      <td>22.0</td>\n",
              "      <td>1</td>\n",
              "      <td>0</td>\n",
              "      <td>A/5 21171</td>\n",
              "      <td>7.2500</td>\n",
              "      <td>NaN</td>\n",
              "      <td>S</td>\n",
              "    </tr>\n",
              "    <tr>\n",
              "      <th>Cumings, Mrs. John Bradley (Florence Briggs Thayer)</th>\n",
              "      <td>2</td>\n",
              "      <td>1</td>\n",
              "      <td>1</td>\n",
              "      <td>female</td>\n",
              "      <td>38.0</td>\n",
              "      <td>1</td>\n",
              "      <td>0</td>\n",
              "      <td>PC 17599</td>\n",
              "      <td>71.2833</td>\n",
              "      <td>C85</td>\n",
              "      <td>C</td>\n",
              "    </tr>\n",
              "    <tr>\n",
              "      <th>Heikkinen, Miss. Laina</th>\n",
              "      <td>3</td>\n",
              "      <td>1</td>\n",
              "      <td>3</td>\n",
              "      <td>female</td>\n",
              "      <td>26.0</td>\n",
              "      <td>0</td>\n",
              "      <td>0</td>\n",
              "      <td>STON/O2. 3101282</td>\n",
              "      <td>7.9250</td>\n",
              "      <td>NaN</td>\n",
              "      <td>S</td>\n",
              "    </tr>\n",
              "    <tr>\n",
              "      <th>Futrelle, Mrs. Jacques Heath (Lily May Peel)</th>\n",
              "      <td>4</td>\n",
              "      <td>1</td>\n",
              "      <td>1</td>\n",
              "      <td>female</td>\n",
              "      <td>35.0</td>\n",
              "      <td>1</td>\n",
              "      <td>0</td>\n",
              "      <td>113803</td>\n",
              "      <td>53.1000</td>\n",
              "      <td>C123</td>\n",
              "      <td>S</td>\n",
              "    </tr>\n",
              "    <tr>\n",
              "      <th>Allen, Mr. William Henry</th>\n",
              "      <td>5</td>\n",
              "      <td>0</td>\n",
              "      <td>3</td>\n",
              "      <td>male</td>\n",
              "      <td>35.0</td>\n",
              "      <td>0</td>\n",
              "      <td>0</td>\n",
              "      <td>373450</td>\n",
              "      <td>8.0500</td>\n",
              "      <td>NaN</td>\n",
              "      <td>S</td>\n",
              "    </tr>\n",
              "    <tr>\n",
              "      <th>...</th>\n",
              "      <td>...</td>\n",
              "      <td>...</td>\n",
              "      <td>...</td>\n",
              "      <td>...</td>\n",
              "      <td>...</td>\n",
              "      <td>...</td>\n",
              "      <td>...</td>\n",
              "      <td>...</td>\n",
              "      <td>...</td>\n",
              "      <td>...</td>\n",
              "      <td>...</td>\n",
              "    </tr>\n",
              "    <tr>\n",
              "      <th>Pears, Mrs. Thomas (Edith Wearne)</th>\n",
              "      <td>152</td>\n",
              "      <td>1</td>\n",
              "      <td>1</td>\n",
              "      <td>female</td>\n",
              "      <td>22.0</td>\n",
              "      <td>1</td>\n",
              "      <td>0</td>\n",
              "      <td>113776</td>\n",
              "      <td>66.6000</td>\n",
              "      <td>C2</td>\n",
              "      <td>S</td>\n",
              "    </tr>\n",
              "    <tr>\n",
              "      <th>Meo, Mr. Alfonzo</th>\n",
              "      <td>153</td>\n",
              "      <td>0</td>\n",
              "      <td>3</td>\n",
              "      <td>male</td>\n",
              "      <td>55.5</td>\n",
              "      <td>0</td>\n",
              "      <td>0</td>\n",
              "      <td>A.5. 11206</td>\n",
              "      <td>8.0500</td>\n",
              "      <td>NaN</td>\n",
              "      <td>S</td>\n",
              "    </tr>\n",
              "    <tr>\n",
              "      <th>van Billiard, Mr. Austin Blyler</th>\n",
              "      <td>154</td>\n",
              "      <td>0</td>\n",
              "      <td>3</td>\n",
              "      <td>male</td>\n",
              "      <td>40.5</td>\n",
              "      <td>0</td>\n",
              "      <td>2</td>\n",
              "      <td>A/5. 851</td>\n",
              "      <td>14.5000</td>\n",
              "      <td>NaN</td>\n",
              "      <td>S</td>\n",
              "    </tr>\n",
              "    <tr>\n",
              "      <th>Olsen, Mr. Ole Martin</th>\n",
              "      <td>155</td>\n",
              "      <td>0</td>\n",
              "      <td>3</td>\n",
              "      <td>male</td>\n",
              "      <td>NaN</td>\n",
              "      <td>0</td>\n",
              "      <td>0</td>\n",
              "      <td>Fa 265302</td>\n",
              "      <td>7.3125</td>\n",
              "      <td>NaN</td>\n",
              "      <td>S</td>\n",
              "    </tr>\n",
              "    <tr>\n",
              "      <th>Williams, Mr. Charles Duane</th>\n",
              "      <td>156</td>\n",
              "      <td>0</td>\n",
              "      <td>1</td>\n",
              "      <td>male</td>\n",
              "      <td>51.0</td>\n",
              "      <td>0</td>\n",
              "      <td>1</td>\n",
              "      <td>PC 17597</td>\n",
              "      <td>61.3792</td>\n",
              "      <td>NaN</td>\n",
              "      <td>C</td>\n",
              "    </tr>\n",
              "  </tbody>\n",
              "</table>\n",
              "<p>156 rows × 11 columns</p>\n",
              "</div>"
            ],
            "text/plain": [
              "                                                    PassengerId  Survived  \\\n",
              "Name                                                                        \n",
              "Braund, Mr. Owen Harris                                       1         0   \n",
              "Cumings, Mrs. John Bradley (Florence Briggs Tha...            2         1   \n",
              "Heikkinen, Miss. Laina                                        3         1   \n",
              "Futrelle, Mrs. Jacques Heath (Lily May Peel)                  4         1   \n",
              "Allen, Mr. William Henry                                      5         0   \n",
              "...                                                         ...       ...   \n",
              "Pears, Mrs. Thomas (Edith Wearne)                           152         1   \n",
              "Meo, Mr. Alfonzo                                            153         0   \n",
              "van Billiard, Mr. Austin Blyler                             154         0   \n",
              "Olsen, Mr. Ole Martin                                       155         0   \n",
              "Williams, Mr. Charles Duane                                 156         0   \n",
              "\n",
              "                                                    Pclass     Sex   Age  \\\n",
              "Name                                                                       \n",
              "Braund, Mr. Owen Harris                                  3    male  22.0   \n",
              "Cumings, Mrs. John Bradley (Florence Briggs Tha...       1  female  38.0   \n",
              "Heikkinen, Miss. Laina                                   3  female  26.0   \n",
              "Futrelle, Mrs. Jacques Heath (Lily May Peel)             1  female  35.0   \n",
              "Allen, Mr. William Henry                                 3    male  35.0   \n",
              "...                                                    ...     ...   ...   \n",
              "Pears, Mrs. Thomas (Edith Wearne)                        1  female  22.0   \n",
              "Meo, Mr. Alfonzo                                         3    male  55.5   \n",
              "van Billiard, Mr. Austin Blyler                          3    male  40.5   \n",
              "Olsen, Mr. Ole Martin                                    3    male   NaN   \n",
              "Williams, Mr. Charles Duane                              1    male  51.0   \n",
              "\n",
              "                                                    SibSp  Parch  \\\n",
              "Name                                                               \n",
              "Braund, Mr. Owen Harris                                 1      0   \n",
              "Cumings, Mrs. John Bradley (Florence Briggs Tha...      1      0   \n",
              "Heikkinen, Miss. Laina                                  0      0   \n",
              "Futrelle, Mrs. Jacques Heath (Lily May Peel)            1      0   \n",
              "Allen, Mr. William Henry                                0      0   \n",
              "...                                                   ...    ...   \n",
              "Pears, Mrs. Thomas (Edith Wearne)                       1      0   \n",
              "Meo, Mr. Alfonzo                                        0      0   \n",
              "van Billiard, Mr. Austin Blyler                         0      2   \n",
              "Olsen, Mr. Ole Martin                                   0      0   \n",
              "Williams, Mr. Charles Duane                             0      1   \n",
              "\n",
              "                                                              Ticket     Fare  \\\n",
              "Name                                                                            \n",
              "Braund, Mr. Owen Harris                                    A/5 21171   7.2500   \n",
              "Cumings, Mrs. John Bradley (Florence Briggs Tha...          PC 17599  71.2833   \n",
              "Heikkinen, Miss. Laina                              STON/O2. 3101282   7.9250   \n",
              "Futrelle, Mrs. Jacques Heath (Lily May Peel)                  113803  53.1000   \n",
              "Allen, Mr. William Henry                                      373450   8.0500   \n",
              "...                                                              ...      ...   \n",
              "Pears, Mrs. Thomas (Edith Wearne)                             113776  66.6000   \n",
              "Meo, Mr. Alfonzo                                          A.5. 11206   8.0500   \n",
              "van Billiard, Mr. Austin Blyler                             A/5. 851  14.5000   \n",
              "Olsen, Mr. Ole Martin                                      Fa 265302   7.3125   \n",
              "Williams, Mr. Charles Duane                                 PC 17597  61.3792   \n",
              "\n",
              "                                                   Cabin Embarked  \n",
              "Name                                                               \n",
              "Braund, Mr. Owen Harris                              NaN        S  \n",
              "Cumings, Mrs. John Bradley (Florence Briggs Tha...   C85        C  \n",
              "Heikkinen, Miss. Laina                               NaN        S  \n",
              "Futrelle, Mrs. Jacques Heath (Lily May Peel)        C123        S  \n",
              "Allen, Mr. William Henry                             NaN        S  \n",
              "...                                                  ...      ...  \n",
              "Pears, Mrs. Thomas (Edith Wearne)                     C2        S  \n",
              "Meo, Mr. Alfonzo                                     NaN        S  \n",
              "van Billiard, Mr. Austin Blyler                      NaN        S  \n",
              "Olsen, Mr. Ole Martin                                NaN        S  \n",
              "Williams, Mr. Charles Duane                          NaN        C  \n",
              "\n",
              "[156 rows x 11 columns]"
            ]
          },
          "metadata": {
            "tags": []
          },
          "execution_count": 130
        }
      ]
    },
    {
      "cell_type": "code",
      "metadata": {
        "id": "rmzEsNuLWFOE",
        "colab_type": "code",
        "colab": {
          "base_uri": "https://localhost:8080/",
          "height": 200
        },
        "outputId": "81414800-6a84-47c8-c52f-4f6cbb7e8f18"
      },
      "source": [
        "#importing txt file\n",
        "df1 = pd.read_table('snacks.tsv')  # Read a tsv into a DataFrame with csv format using  sep='\\t') \n",
        "\n",
        "df1.head()"
      ],
      "execution_count": null,
      "outputs": [
        {
          "output_type": "execute_result",
          "data": {
            "text/html": [
              "<div>\n",
              "<style scoped>\n",
              "    .dataframe tbody tr th:only-of-type {\n",
              "        vertical-align: middle;\n",
              "    }\n",
              "\n",
              "    .dataframe tbody tr th {\n",
              "        vertical-align: top;\n",
              "    }\n",
              "\n",
              "    .dataframe thead th {\n",
              "        text-align: right;\n",
              "    }\n",
              "</style>\n",
              "<table border=\"1\" class=\"dataframe\">\n",
              "  <thead>\n",
              "    <tr style=\"text-align: right;\">\n",
              "      <th></th>\n",
              "      <th>order_id</th>\n",
              "      <th>quantity</th>\n",
              "      <th>item_name</th>\n",
              "      <th>choice_description</th>\n",
              "      <th>item_price</th>\n",
              "    </tr>\n",
              "  </thead>\n",
              "  <tbody>\n",
              "    <tr>\n",
              "      <th>0</th>\n",
              "      <td>1</td>\n",
              "      <td>1</td>\n",
              "      <td>Chips and Fresh Tomato Salsa</td>\n",
              "      <td>NaN</td>\n",
              "      <td>$2.39</td>\n",
              "    </tr>\n",
              "    <tr>\n",
              "      <th>1</th>\n",
              "      <td>1</td>\n",
              "      <td>1</td>\n",
              "      <td>Izze</td>\n",
              "      <td>[Clementine]</td>\n",
              "      <td>$3.39</td>\n",
              "    </tr>\n",
              "    <tr>\n",
              "      <th>2</th>\n",
              "      <td>1</td>\n",
              "      <td>1</td>\n",
              "      <td>Nantucket Nectar</td>\n",
              "      <td>[Apple]</td>\n",
              "      <td>$3.39</td>\n",
              "    </tr>\n",
              "    <tr>\n",
              "      <th>3</th>\n",
              "      <td>1</td>\n",
              "      <td>1</td>\n",
              "      <td>Chips and Tomatillo-Green Chili Salsa</td>\n",
              "      <td>NaN</td>\n",
              "      <td>$2.39</td>\n",
              "    </tr>\n",
              "    <tr>\n",
              "      <th>4</th>\n",
              "      <td>2</td>\n",
              "      <td>2</td>\n",
              "      <td>Chicken Bowl</td>\n",
              "      <td>[Tomatillo-Red Chili Salsa (Hot), [Black Beans...</td>\n",
              "      <td>$16.98</td>\n",
              "    </tr>\n",
              "  </tbody>\n",
              "</table>\n",
              "</div>"
            ],
            "text/plain": [
              "   order_id  quantity                              item_name  \\\n",
              "0         1         1           Chips and Fresh Tomato Salsa   \n",
              "1         1         1                                   Izze   \n",
              "2         1         1                       Nantucket Nectar   \n",
              "3         1         1  Chips and Tomatillo-Green Chili Salsa   \n",
              "4         2         2                           Chicken Bowl   \n",
              "\n",
              "                                  choice_description item_price  \n",
              "0                                                NaN     $2.39   \n",
              "1                                       [Clementine]     $3.39   \n",
              "2                                            [Apple]     $3.39   \n",
              "3                                                NaN     $2.39   \n",
              "4  [Tomatillo-Red Chili Salsa (Hot), [Black Beans...    $16.98   "
            ]
          },
          "metadata": {
            "tags": []
          },
          "execution_count": 131
        }
      ]
    },
    {
      "cell_type": "code",
      "metadata": {
        "id": "hnxt3tjDYsY4",
        "colab_type": "code",
        "colab": {
          "base_uri": "https://localhost:8080/",
          "height": 200
        },
        "outputId": "923002f2-6dcf-47c2-fe1d-720e01636561"
      },
      "source": [
        "df2 = pd.read_csv('snacks.tsv', sep='\\t',header=None)         #you can also include tabs (\"\\t\") , commas and blanks\n",
        "df2.head()"
      ],
      "execution_count": null,
      "outputs": [
        {
          "output_type": "execute_result",
          "data": {
            "text/html": [
              "<div>\n",
              "<style scoped>\n",
              "    .dataframe tbody tr th:only-of-type {\n",
              "        vertical-align: middle;\n",
              "    }\n",
              "\n",
              "    .dataframe tbody tr th {\n",
              "        vertical-align: top;\n",
              "    }\n",
              "\n",
              "    .dataframe thead th {\n",
              "        text-align: right;\n",
              "    }\n",
              "</style>\n",
              "<table border=\"1\" class=\"dataframe\">\n",
              "  <thead>\n",
              "    <tr style=\"text-align: right;\">\n",
              "      <th></th>\n",
              "      <th>0</th>\n",
              "      <th>1</th>\n",
              "      <th>2</th>\n",
              "      <th>3</th>\n",
              "      <th>4</th>\n",
              "    </tr>\n",
              "  </thead>\n",
              "  <tbody>\n",
              "    <tr>\n",
              "      <th>0</th>\n",
              "      <td>order_id</td>\n",
              "      <td>quantity</td>\n",
              "      <td>item_name</td>\n",
              "      <td>choice_description</td>\n",
              "      <td>item_price</td>\n",
              "    </tr>\n",
              "    <tr>\n",
              "      <th>1</th>\n",
              "      <td>1</td>\n",
              "      <td>1</td>\n",
              "      <td>Chips and Fresh Tomato Salsa</td>\n",
              "      <td>NaN</td>\n",
              "      <td>$2.39</td>\n",
              "    </tr>\n",
              "    <tr>\n",
              "      <th>2</th>\n",
              "      <td>1</td>\n",
              "      <td>1</td>\n",
              "      <td>Izze</td>\n",
              "      <td>[Clementine]</td>\n",
              "      <td>$3.39</td>\n",
              "    </tr>\n",
              "    <tr>\n",
              "      <th>3</th>\n",
              "      <td>1</td>\n",
              "      <td>1</td>\n",
              "      <td>Nantucket Nectar</td>\n",
              "      <td>[Apple]</td>\n",
              "      <td>$3.39</td>\n",
              "    </tr>\n",
              "    <tr>\n",
              "      <th>4</th>\n",
              "      <td>1</td>\n",
              "      <td>1</td>\n",
              "      <td>Chips and Tomatillo-Green Chili Salsa</td>\n",
              "      <td>NaN</td>\n",
              "      <td>$2.39</td>\n",
              "    </tr>\n",
              "  </tbody>\n",
              "</table>\n",
              "</div>"
            ],
            "text/plain": [
              "          0         1                                      2  \\\n",
              "0  order_id  quantity                              item_name   \n",
              "1         1         1           Chips and Fresh Tomato Salsa   \n",
              "2         1         1                                   Izze   \n",
              "3         1         1                       Nantucket Nectar   \n",
              "4         1         1  Chips and Tomatillo-Green Chili Salsa   \n",
              "\n",
              "                    3           4  \n",
              "0  choice_description  item_price  \n",
              "1                 NaN      $2.39   \n",
              "2        [Clementine]      $3.39   \n",
              "3             [Apple]      $3.39   \n",
              "4                 NaN      $2.39   "
            ]
          },
          "metadata": {
            "tags": []
          },
          "execution_count": 132
        }
      ]
    },
    {
      "cell_type": "code",
      "metadata": {
        "id": "9uMIz3-oTfcL",
        "colab_type": "code",
        "colab": {
          "base_uri": "https://localhost:8080/",
          "height": 314
        },
        "outputId": "a5830788-e463-42f9-871a-812e81c70c4d"
      },
      "source": [
        "#importing excel files\n",
        "df_xlsx=pd.read_excel('Employee_Salary.xlsx')        #Can also provide sheetname if you want to read particular sheet\n",
        "df_xlsx.head()"
      ],
      "execution_count": null,
      "outputs": [
        {
          "output_type": "execute_result",
          "data": {
            "text/html": [
              "<div>\n",
              "<style scoped>\n",
              "    .dataframe tbody tr th:only-of-type {\n",
              "        vertical-align: middle;\n",
              "    }\n",
              "\n",
              "    .dataframe tbody tr th {\n",
              "        vertical-align: top;\n",
              "    }\n",
              "\n",
              "    .dataframe thead th {\n",
              "        text-align: right;\n",
              "    }\n",
              "</style>\n",
              "<table border=\"1\" class=\"dataframe\">\n",
              "  <thead>\n",
              "    <tr style=\"text-align: right;\">\n",
              "      <th></th>\n",
              "      <th>Id</th>\n",
              "      <th>EmployeeName</th>\n",
              "      <th>JobTitle</th>\n",
              "      <th>BasePay</th>\n",
              "      <th>OvertimePay</th>\n",
              "      <th>OtherPay</th>\n",
              "      <th>...</th>\n",
              "      <th>TotalPay</th>\n",
              "      <th>TotalPayBenefits</th>\n",
              "      <th>Year</th>\n",
              "      <th>Notes</th>\n",
              "      <th>Agency</th>\n",
              "      <th>Status</th>\n",
              "    </tr>\n",
              "  </thead>\n",
              "  <tbody>\n",
              "    <tr>\n",
              "      <th>0</th>\n",
              "      <td>1</td>\n",
              "      <td>NATHANIEL FORD</td>\n",
              "      <td>GENERAL MANAGER-METROPOLITAN TRANSIT AUTHORITY</td>\n",
              "      <td>167411.18</td>\n",
              "      <td>0.00</td>\n",
              "      <td>400184.25</td>\n",
              "      <td>...</td>\n",
              "      <td>567595.43</td>\n",
              "      <td>567595.43</td>\n",
              "      <td>2011</td>\n",
              "      <td>NaN</td>\n",
              "      <td>San Francisco</td>\n",
              "      <td>NaN</td>\n",
              "    </tr>\n",
              "    <tr>\n",
              "      <th>1</th>\n",
              "      <td>2</td>\n",
              "      <td>GARY JIMENEZ</td>\n",
              "      <td>CAPTAIN III (POLICE DEPARTMENT)</td>\n",
              "      <td>155966.02</td>\n",
              "      <td>245131.88</td>\n",
              "      <td>137811.38</td>\n",
              "      <td>...</td>\n",
              "      <td>538909.28</td>\n",
              "      <td>538909.28</td>\n",
              "      <td>2011</td>\n",
              "      <td>NaN</td>\n",
              "      <td>San Francisco</td>\n",
              "      <td>NaN</td>\n",
              "    </tr>\n",
              "    <tr>\n",
              "      <th>2</th>\n",
              "      <td>3</td>\n",
              "      <td>ALBERT PARDINI</td>\n",
              "      <td>CAPTAIN III (POLICE DEPARTMENT)</td>\n",
              "      <td>212739.13</td>\n",
              "      <td>106088.18</td>\n",
              "      <td>16452.60</td>\n",
              "      <td>...</td>\n",
              "      <td>335279.91</td>\n",
              "      <td>335279.91</td>\n",
              "      <td>2011</td>\n",
              "      <td>NaN</td>\n",
              "      <td>San Francisco</td>\n",
              "      <td>NaN</td>\n",
              "    </tr>\n",
              "    <tr>\n",
              "      <th>3</th>\n",
              "      <td>4</td>\n",
              "      <td>CHRISTOPHER CHONG</td>\n",
              "      <td>WIRE ROPE CABLE MAINTENANCE MECHANIC</td>\n",
              "      <td>77916.00</td>\n",
              "      <td>56120.71</td>\n",
              "      <td>198306.90</td>\n",
              "      <td>...</td>\n",
              "      <td>332343.61</td>\n",
              "      <td>332343.61</td>\n",
              "      <td>2011</td>\n",
              "      <td>NaN</td>\n",
              "      <td>San Francisco</td>\n",
              "      <td>NaN</td>\n",
              "    </tr>\n",
              "    <tr>\n",
              "      <th>4</th>\n",
              "      <td>5</td>\n",
              "      <td>PATRICK GARDNER</td>\n",
              "      <td>DEPUTY CHIEF OF DEPARTMENT,(FIRE DEPARTMENT)</td>\n",
              "      <td>134401.60</td>\n",
              "      <td>9737.00</td>\n",
              "      <td>182234.59</td>\n",
              "      <td>...</td>\n",
              "      <td>326373.19</td>\n",
              "      <td>326373.19</td>\n",
              "      <td>2011</td>\n",
              "      <td>NaN</td>\n",
              "      <td>San Francisco</td>\n",
              "      <td>NaN</td>\n",
              "    </tr>\n",
              "  </tbody>\n",
              "</table>\n",
              "<p>5 rows × 13 columns</p>\n",
              "</div>"
            ],
            "text/plain": [
              "   Id       EmployeeName                                        JobTitle  \\\n",
              "0   1     NATHANIEL FORD  GENERAL MANAGER-METROPOLITAN TRANSIT AUTHORITY   \n",
              "1   2       GARY JIMENEZ                 CAPTAIN III (POLICE DEPARTMENT)   \n",
              "2   3     ALBERT PARDINI                 CAPTAIN III (POLICE DEPARTMENT)   \n",
              "3   4  CHRISTOPHER CHONG            WIRE ROPE CABLE MAINTENANCE MECHANIC   \n",
              "4   5    PATRICK GARDNER    DEPUTY CHIEF OF DEPARTMENT,(FIRE DEPARTMENT)   \n",
              "\n",
              "     BasePay  OvertimePay   OtherPay  ...   TotalPay  TotalPayBenefits  Year  \\\n",
              "0  167411.18         0.00  400184.25  ...  567595.43         567595.43  2011   \n",
              "1  155966.02    245131.88  137811.38  ...  538909.28         538909.28  2011   \n",
              "2  212739.13    106088.18   16452.60  ...  335279.91         335279.91  2011   \n",
              "3   77916.00     56120.71  198306.90  ...  332343.61         332343.61  2011   \n",
              "4  134401.60      9737.00  182234.59  ...  326373.19         326373.19  2011   \n",
              "\n",
              "   Notes         Agency Status  \n",
              "0    NaN  San Francisco    NaN  \n",
              "1    NaN  San Francisco    NaN  \n",
              "2    NaN  San Francisco    NaN  \n",
              "3    NaN  San Francisco    NaN  \n",
              "4    NaN  San Francisco    NaN  \n",
              "\n",
              "[5 rows x 13 columns]"
            ]
          },
          "metadata": {
            "tags": []
          },
          "execution_count": 133
        }
      ]
    },
    {
      "cell_type": "code",
      "metadata": {
        "id": "WovpbxH0ZaNz",
        "colab_type": "code",
        "colab": {}
      },
      "source": [
        "#To save in CSV fromat\n",
        "titanic.to_csv('newtitanic.csv')"
      ],
      "execution_count": null,
      "outputs": []
    },
    {
      "cell_type": "code",
      "metadata": {
        "id": "GkYOFx9iT66o",
        "colab_type": "code",
        "colab": {}
      },
      "source": [
        "#To save in excel fromat\n",
        "df1.to_excel('new_snacks.xlsx')"
      ],
      "execution_count": null,
      "outputs": []
    },
    {
      "cell_type": "code",
      "metadata": {
        "id": "aXPMkiEUT7Ag",
        "colab_type": "code",
        "colab": {
          "base_uri": "https://localhost:8080/",
          "height": 200
        },
        "outputId": "e445ab4e-6171-4a10-8f6c-ef2c7ffa3a68"
      },
      "source": [
        "check = pd.read_excel('new_snacks.xlsx')\n",
        "check.head()"
      ],
      "execution_count": null,
      "outputs": [
        {
          "output_type": "execute_result",
          "data": {
            "text/html": [
              "<div>\n",
              "<style scoped>\n",
              "    .dataframe tbody tr th:only-of-type {\n",
              "        vertical-align: middle;\n",
              "    }\n",
              "\n",
              "    .dataframe tbody tr th {\n",
              "        vertical-align: top;\n",
              "    }\n",
              "\n",
              "    .dataframe thead th {\n",
              "        text-align: right;\n",
              "    }\n",
              "</style>\n",
              "<table border=\"1\" class=\"dataframe\">\n",
              "  <thead>\n",
              "    <tr style=\"text-align: right;\">\n",
              "      <th></th>\n",
              "      <th>Unnamed: 0</th>\n",
              "      <th>order_id</th>\n",
              "      <th>quantity</th>\n",
              "      <th>item_name</th>\n",
              "      <th>choice_description</th>\n",
              "      <th>item_price</th>\n",
              "    </tr>\n",
              "  </thead>\n",
              "  <tbody>\n",
              "    <tr>\n",
              "      <th>0</th>\n",
              "      <td>0</td>\n",
              "      <td>1</td>\n",
              "      <td>1</td>\n",
              "      <td>Chips and Fresh Tomato Salsa</td>\n",
              "      <td>NaN</td>\n",
              "      <td>$2.39</td>\n",
              "    </tr>\n",
              "    <tr>\n",
              "      <th>1</th>\n",
              "      <td>1</td>\n",
              "      <td>1</td>\n",
              "      <td>1</td>\n",
              "      <td>Izze</td>\n",
              "      <td>[Clementine]</td>\n",
              "      <td>$3.39</td>\n",
              "    </tr>\n",
              "    <tr>\n",
              "      <th>2</th>\n",
              "      <td>2</td>\n",
              "      <td>1</td>\n",
              "      <td>1</td>\n",
              "      <td>Nantucket Nectar</td>\n",
              "      <td>[Apple]</td>\n",
              "      <td>$3.39</td>\n",
              "    </tr>\n",
              "    <tr>\n",
              "      <th>3</th>\n",
              "      <td>3</td>\n",
              "      <td>1</td>\n",
              "      <td>1</td>\n",
              "      <td>Chips and Tomatillo-Green Chili Salsa</td>\n",
              "      <td>NaN</td>\n",
              "      <td>$2.39</td>\n",
              "    </tr>\n",
              "    <tr>\n",
              "      <th>4</th>\n",
              "      <td>4</td>\n",
              "      <td>2</td>\n",
              "      <td>2</td>\n",
              "      <td>Chicken Bowl</td>\n",
              "      <td>[Tomatillo-Red Chili Salsa (Hot), [Black Beans...</td>\n",
              "      <td>$16.98</td>\n",
              "    </tr>\n",
              "  </tbody>\n",
              "</table>\n",
              "</div>"
            ],
            "text/plain": [
              "   Unnamed: 0  order_id  quantity                              item_name  \\\n",
              "0           0         1         1           Chips and Fresh Tomato Salsa   \n",
              "1           1         1         1                                   Izze   \n",
              "2           2         1         1                       Nantucket Nectar   \n",
              "3           3         1         1  Chips and Tomatillo-Green Chili Salsa   \n",
              "4           4         2         2                           Chicken Bowl   \n",
              "\n",
              "                                  choice_description item_price  \n",
              "0                                                NaN     $2.39   \n",
              "1                                       [Clementine]     $3.39   \n",
              "2                                            [Apple]     $3.39   \n",
              "3                                                NaN     $2.39   \n",
              "4  [Tomatillo-Red Chili Salsa (Hot), [Black Beans...    $16.98   "
            ]
          },
          "metadata": {
            "tags": []
          },
          "execution_count": 136
        }
      ]
    },
    {
      "cell_type": "markdown",
      "metadata": {
        "id": "gLO9KBhq-D-U",
        "colab_type": "text"
      },
      "source": [
        "# **Demo Assignment for Pandas with Solutions**"
      ]
    },
    {
      "cell_type": "code",
      "metadata": {
        "id": "eVoBuj3j-RML",
        "colab_type": "code",
        "colab": {}
      },
      "source": [
        "import numpy as np\n",
        "import pandas as pd"
      ],
      "execution_count": null,
      "outputs": []
    },
    {
      "cell_type": "code",
      "metadata": {
        "id": "kt0QrK6k-Pn_",
        "colab_type": "code",
        "colab": {
          "base_uri": "https://localhost:8080/",
          "height": 191
        },
        "outputId": "56ad2235-58f0-4962-c5a9-82e33e15efca"
      },
      "source": [
        "data = pd.read_csv('titanic.csv')\n",
        "data.head()"
      ],
      "execution_count": null,
      "outputs": [
        {
          "output_type": "execute_result",
          "data": {
            "text/html": [
              "<div>\n",
              "<style scoped>\n",
              "    .dataframe tbody tr th:only-of-type {\n",
              "        vertical-align: middle;\n",
              "    }\n",
              "\n",
              "    .dataframe tbody tr th {\n",
              "        vertical-align: top;\n",
              "    }\n",
              "\n",
              "    .dataframe thead th {\n",
              "        text-align: right;\n",
              "    }\n",
              "</style>\n",
              "<table border=\"1\" class=\"dataframe\">\n",
              "  <thead>\n",
              "    <tr style=\"text-align: right;\">\n",
              "      <th></th>\n",
              "      <th>PassengerId</th>\n",
              "      <th>Survived</th>\n",
              "      <th>Pclass</th>\n",
              "      <th>Name</th>\n",
              "      <th>Sex</th>\n",
              "      <th>Age</th>\n",
              "      <th>SibSp</th>\n",
              "      <th>Parch</th>\n",
              "      <th>Ticket</th>\n",
              "      <th>Fare</th>\n",
              "      <th>Cabin</th>\n",
              "      <th>Embarked</th>\n",
              "    </tr>\n",
              "  </thead>\n",
              "  <tbody>\n",
              "    <tr>\n",
              "      <th>0</th>\n",
              "      <td>1</td>\n",
              "      <td>0</td>\n",
              "      <td>3</td>\n",
              "      <td>Braund, Mr. Owen Harris</td>\n",
              "      <td>male</td>\n",
              "      <td>22.0</td>\n",
              "      <td>1</td>\n",
              "      <td>0</td>\n",
              "      <td>A/5 21171</td>\n",
              "      <td>7.2500</td>\n",
              "      <td>NaN</td>\n",
              "      <td>S</td>\n",
              "    </tr>\n",
              "    <tr>\n",
              "      <th>1</th>\n",
              "      <td>2</td>\n",
              "      <td>1</td>\n",
              "      <td>1</td>\n",
              "      <td>Cumings, Mrs. John Bradley (Florence Briggs Th...</td>\n",
              "      <td>female</td>\n",
              "      <td>38.0</td>\n",
              "      <td>1</td>\n",
              "      <td>0</td>\n",
              "      <td>PC 17599</td>\n",
              "      <td>71.2833</td>\n",
              "      <td>C85</td>\n",
              "      <td>C</td>\n",
              "    </tr>\n",
              "    <tr>\n",
              "      <th>2</th>\n",
              "      <td>3</td>\n",
              "      <td>1</td>\n",
              "      <td>3</td>\n",
              "      <td>Heikkinen, Miss. Laina</td>\n",
              "      <td>female</td>\n",
              "      <td>26.0</td>\n",
              "      <td>0</td>\n",
              "      <td>0</td>\n",
              "      <td>STON/O2. 3101282</td>\n",
              "      <td>7.9250</td>\n",
              "      <td>NaN</td>\n",
              "      <td>S</td>\n",
              "    </tr>\n",
              "    <tr>\n",
              "      <th>3</th>\n",
              "      <td>4</td>\n",
              "      <td>1</td>\n",
              "      <td>1</td>\n",
              "      <td>Futrelle, Mrs. Jacques Heath (Lily May Peel)</td>\n",
              "      <td>female</td>\n",
              "      <td>35.0</td>\n",
              "      <td>1</td>\n",
              "      <td>0</td>\n",
              "      <td>113803</td>\n",
              "      <td>53.1000</td>\n",
              "      <td>C123</td>\n",
              "      <td>S</td>\n",
              "    </tr>\n",
              "    <tr>\n",
              "      <th>4</th>\n",
              "      <td>5</td>\n",
              "      <td>0</td>\n",
              "      <td>3</td>\n",
              "      <td>Allen, Mr. William Henry</td>\n",
              "      <td>male</td>\n",
              "      <td>35.0</td>\n",
              "      <td>0</td>\n",
              "      <td>0</td>\n",
              "      <td>373450</td>\n",
              "      <td>8.0500</td>\n",
              "      <td>NaN</td>\n",
              "      <td>S</td>\n",
              "    </tr>\n",
              "  </tbody>\n",
              "</table>\n",
              "</div>"
            ],
            "text/plain": [
              "   PassengerId  Survived  Pclass  ...     Fare Cabin  Embarked\n",
              "0            1         0       3  ...   7.2500   NaN         S\n",
              "1            2         1       1  ...  71.2833   C85         C\n",
              "2            3         1       3  ...   7.9250   NaN         S\n",
              "3            4         1       1  ...  53.1000  C123         S\n",
              "4            5         0       3  ...   8.0500   NaN         S\n",
              "\n",
              "[5 rows x 12 columns]"
            ]
          },
          "metadata": {
            "tags": []
          },
          "execution_count": 3
        }
      ]
    },
    {
      "cell_type": "markdown",
      "metadata": {
        "id": "GAAZygOm6HAz",
        "colab_type": "text"
      },
      "source": [
        "**1. How many men and women (sex feature) are represented in this dataset?**"
      ]
    },
    {
      "cell_type": "code",
      "metadata": {
        "id": "nuPgVEs5-Y7L",
        "colab_type": "code",
        "colab": {
          "base_uri": "https://localhost:8080/",
          "height": 66
        },
        "outputId": "99c08641-3e74-4495-c5da-16f1382b48f0"
      },
      "source": [
        "data['Sex'].value_counts()"
      ],
      "execution_count": null,
      "outputs": [
        {
          "output_type": "execute_result",
          "data": {
            "text/plain": [
              "male      577\n",
              "female    314\n",
              "Name: Sex, dtype: int64"
            ]
          },
          "metadata": {
            "tags": []
          },
          "execution_count": 4
        }
      ]
    },
    {
      "cell_type": "markdown",
      "metadata": {
        "id": "kLGm8T1B6RBI",
        "colab_type": "text"
      },
      "source": [
        "**2. What is the average age (age feature) of women?**"
      ]
    },
    {
      "cell_type": "code",
      "metadata": {
        "id": "20tye0tx6PuK",
        "colab_type": "code",
        "colab": {
          "base_uri": "https://localhost:8080/",
          "height": 33
        },
        "outputId": "1e19944c-f697-497f-ed2b-3f7b9d4bebe4"
      },
      "source": [
        "data.loc[data['Sex'] == 'female', 'Age'].mean()"
      ],
      "execution_count": null,
      "outputs": [
        {
          "output_type": "execute_result",
          "data": {
            "text/plain": [
              "27.915708812260537"
            ]
          },
          "metadata": {
            "tags": []
          },
          "execution_count": 4
        }
      ]
    },
    {
      "cell_type": "markdown",
      "metadata": {
        "id": "udwc82AM-24p",
        "colab_type": "text"
      },
      "source": [
        "**3. Select those passengers who embarked in Cherbourg (Embarked=C) and paid > 200 pounds for their ticker (fare > 200).**"
      ]
    },
    {
      "cell_type": "code",
      "metadata": {
        "id": "5IqSa5UE-or7",
        "colab_type": "code",
        "colab": {
          "base_uri": "https://localhost:8080/",
          "height": 191
        },
        "outputId": "88c653c8-6bc3-4e3a-c16e-264116204c22"
      },
      "source": [
        "data[(data['Embarked'] == 'C') & (data.Fare > 200)].head()"
      ],
      "execution_count": null,
      "outputs": [
        {
          "output_type": "execute_result",
          "data": {
            "text/html": [
              "<div>\n",
              "<style scoped>\n",
              "    .dataframe tbody tr th:only-of-type {\n",
              "        vertical-align: middle;\n",
              "    }\n",
              "\n",
              "    .dataframe tbody tr th {\n",
              "        vertical-align: top;\n",
              "    }\n",
              "\n",
              "    .dataframe thead th {\n",
              "        text-align: right;\n",
              "    }\n",
              "</style>\n",
              "<table border=\"1\" class=\"dataframe\">\n",
              "  <thead>\n",
              "    <tr style=\"text-align: right;\">\n",
              "      <th></th>\n",
              "      <th>PassengerId</th>\n",
              "      <th>Survived</th>\n",
              "      <th>Pclass</th>\n",
              "      <th>Name</th>\n",
              "      <th>Sex</th>\n",
              "      <th>Age</th>\n",
              "      <th>SibSp</th>\n",
              "      <th>Parch</th>\n",
              "      <th>Ticket</th>\n",
              "      <th>Fare</th>\n",
              "      <th>Cabin</th>\n",
              "      <th>Embarked</th>\n",
              "    </tr>\n",
              "  </thead>\n",
              "  <tbody>\n",
              "    <tr>\n",
              "      <th>118</th>\n",
              "      <td>119</td>\n",
              "      <td>0</td>\n",
              "      <td>1</td>\n",
              "      <td>Baxter, Mr. Quigg Edmond</td>\n",
              "      <td>male</td>\n",
              "      <td>24.0</td>\n",
              "      <td>0</td>\n",
              "      <td>1</td>\n",
              "      <td>PC 17558</td>\n",
              "      <td>247.5208</td>\n",
              "      <td>B58 B60</td>\n",
              "      <td>C</td>\n",
              "    </tr>\n",
              "    <tr>\n",
              "      <th>258</th>\n",
              "      <td>259</td>\n",
              "      <td>1</td>\n",
              "      <td>1</td>\n",
              "      <td>Ward, Miss. Anna</td>\n",
              "      <td>female</td>\n",
              "      <td>35.0</td>\n",
              "      <td>0</td>\n",
              "      <td>0</td>\n",
              "      <td>PC 17755</td>\n",
              "      <td>512.3292</td>\n",
              "      <td>NaN</td>\n",
              "      <td>C</td>\n",
              "    </tr>\n",
              "    <tr>\n",
              "      <th>299</th>\n",
              "      <td>300</td>\n",
              "      <td>1</td>\n",
              "      <td>1</td>\n",
              "      <td>Baxter, Mrs. James (Helene DeLaudeniere Chaput)</td>\n",
              "      <td>female</td>\n",
              "      <td>50.0</td>\n",
              "      <td>0</td>\n",
              "      <td>1</td>\n",
              "      <td>PC 17558</td>\n",
              "      <td>247.5208</td>\n",
              "      <td>B58 B60</td>\n",
              "      <td>C</td>\n",
              "    </tr>\n",
              "    <tr>\n",
              "      <th>311</th>\n",
              "      <td>312</td>\n",
              "      <td>1</td>\n",
              "      <td>1</td>\n",
              "      <td>Ryerson, Miss. Emily Borie</td>\n",
              "      <td>female</td>\n",
              "      <td>18.0</td>\n",
              "      <td>2</td>\n",
              "      <td>2</td>\n",
              "      <td>PC 17608</td>\n",
              "      <td>262.3750</td>\n",
              "      <td>B57 B59 B63 B66</td>\n",
              "      <td>C</td>\n",
              "    </tr>\n",
              "    <tr>\n",
              "      <th>377</th>\n",
              "      <td>378</td>\n",
              "      <td>0</td>\n",
              "      <td>1</td>\n",
              "      <td>Widener, Mr. Harry Elkins</td>\n",
              "      <td>male</td>\n",
              "      <td>27.0</td>\n",
              "      <td>0</td>\n",
              "      <td>2</td>\n",
              "      <td>113503</td>\n",
              "      <td>211.5000</td>\n",
              "      <td>C82</td>\n",
              "      <td>C</td>\n",
              "    </tr>\n",
              "  </tbody>\n",
              "</table>\n",
              "</div>"
            ],
            "text/plain": [
              "     PassengerId  Survived  Pclass  ...      Fare            Cabin  Embarked\n",
              "118          119         0       1  ...  247.5208          B58 B60         C\n",
              "258          259         1       1  ...  512.3292              NaN         C\n",
              "299          300         1       1  ...  247.5208          B58 B60         C\n",
              "311          312         1       1  ...  262.3750  B57 B59 B63 B66         C\n",
              "377          378         0       1  ...  211.5000              C82         C\n",
              "\n",
              "[5 rows x 12 columns]"
            ]
          },
          "metadata": {
            "tags": []
          },
          "execution_count": 5
        }
      ]
    },
    {
      "cell_type": "markdown",
      "metadata": {
        "id": "RxV0B23D_euB",
        "colab_type": "text"
      },
      "source": [
        "**4. Print the distribution of the Pclass feature. Then the same, but for men and women separately.**"
      ]
    },
    {
      "cell_type": "markdown",
      "metadata": {
        "id": "eBBMvro970US",
        "colab_type": "text"
      },
      "source": [
        "**5. Display statistics of age for each Pclass and each gender. Use groupby() and describe(). Find the maximum age of men of Pclass=1**"
      ]
    },
    {
      "cell_type": "code",
      "metadata": {
        "id": "Qm3cu1ys_SNe",
        "colab_type": "code",
        "colab": {
          "base_uri": "https://localhost:8080/",
          "height": 992
        },
        "outputId": "111e9e52-b1e5-48ee-e926-d8895f4719b7"
      },
      "source": [
        "for (Pclass, Sex), sub_df in data.groupby(['Pclass', 'Sex']):\n",
        "    print(\"Pclass: {0}, Sex: {1}\".format(Pclass, Sex))\n",
        "    print(sub_df['Age'].describe())"
      ],
      "execution_count": null,
      "outputs": [
        {
          "output_type": "stream",
          "text": [
            "Pclass: 1, Sex: female\n",
            "count    85.000000\n",
            "mean     34.611765\n",
            "std      13.612052\n",
            "min       2.000000\n",
            "25%      23.000000\n",
            "50%      35.000000\n",
            "75%      44.000000\n",
            "max      63.000000\n",
            "Name: Age, dtype: float64\n",
            "Pclass: 1, Sex: male\n",
            "count    101.000000\n",
            "mean      41.281386\n",
            "std       15.139570\n",
            "min        0.920000\n",
            "25%       30.000000\n",
            "50%       40.000000\n",
            "75%       51.000000\n",
            "max       80.000000\n",
            "Name: Age, dtype: float64\n",
            "Pclass: 2, Sex: female\n",
            "count    74.000000\n",
            "mean     28.722973\n",
            "std      12.872702\n",
            "min       2.000000\n",
            "25%      22.250000\n",
            "50%      28.000000\n",
            "75%      36.000000\n",
            "max      57.000000\n",
            "Name: Age, dtype: float64\n",
            "Pclass: 2, Sex: male\n",
            "count    99.000000\n",
            "mean     30.740707\n",
            "std      14.793894\n",
            "min       0.670000\n",
            "25%      23.000000\n",
            "50%      30.000000\n",
            "75%      36.750000\n",
            "max      70.000000\n",
            "Name: Age, dtype: float64\n",
            "Pclass: 3, Sex: female\n",
            "count    102.000000\n",
            "mean      21.750000\n",
            "std       12.729964\n",
            "min        0.750000\n",
            "25%       14.125000\n",
            "50%       21.500000\n",
            "75%       29.750000\n",
            "max       63.000000\n",
            "Name: Age, dtype: float64\n",
            "Pclass: 3, Sex: male\n",
            "count    253.000000\n",
            "mean      26.507589\n",
            "std       12.159514\n",
            "min        0.420000\n",
            "25%       20.000000\n",
            "50%       25.000000\n",
            "75%       33.000000\n",
            "max       74.000000\n",
            "Name: Age, dtype: float64\n"
          ],
          "name": "stdout"
        }
      ]
    },
    {
      "cell_type": "markdown",
      "metadata": {
        "id": "5RZcdPG26e3y",
        "colab_type": "text"
      },
      "source": [
        "**6. What is the proportion of 'C' (Embarked feature)?**"
      ]
    },
    {
      "cell_type": "code",
      "metadata": {
        "id": "L2Oi34na6aba",
        "colab_type": "code",
        "colab": {
          "base_uri": "https://localhost:8080/",
          "height": 33
        },
        "outputId": "0c9fc3e8-0a09-4283-91cb-0dd42c5e5805"
      },
      "source": [
        "float((data['Embarked'] == 'C').sum()) / data.shape[0]"
      ],
      "execution_count": null,
      "outputs": [
        {
          "output_type": "execute_result",
          "data": {
            "text/plain": [
              "0.18855218855218855"
            ]
          },
          "metadata": {
            "tags": []
          },
          "execution_count": 5
        }
      ]
    },
    {
      "cell_type": "markdown",
      "metadata": {
        "id": "LcC0z0CB_1ad",
        "colab_type": "text"
      },
      "source": [
        "**7. What are median and standard deviation of Fare?**"
      ]
    },
    {
      "cell_type": "code",
      "metadata": {
        "id": "KnxTJ6Ug_wtr",
        "colab_type": "code",
        "colab": {
          "base_uri": "https://localhost:8080/",
          "height": 50
        },
        "outputId": "6b84caea-e4cf-479a-d446-065f8f71d95d"
      },
      "source": [
        "print(data['Fare'].mean())\n",
        "print(data['Fare'].std())"
      ],
      "execution_count": null,
      "outputs": [
        {
          "output_type": "stream",
          "text": [
            "32.2042079685746\n",
            "49.693428597180905\n"
          ],
          "name": "stdout"
        }
      ]
    },
    {
      "cell_type": "markdown",
      "metadata": {
        "id": "XYQSi9lHAs7-",
        "colab_type": "text"
      },
      "source": [
        "**8. How is average age for men/women dependent on Pclass? **"
      ]
    },
    {
      "cell_type": "code",
      "metadata": {
        "id": "6p6MFdzAAZYa",
        "colab_type": "code",
        "colab": {
          "base_uri": "https://localhost:8080/",
          "height": 212
        },
        "outputId": "0203cac8-0cdb-41e7-906a-be8ba51bfe27"
      },
      "source": [
        "for (Pclass, Sex), sub_df in data.groupby(['Pclass', 'Sex']):\n",
        "    print(\"Pclass: {0}, Sex: {1}\".format(Pclass, Sex))\n",
        "    print(sub_df['Age'].mean())"
      ],
      "execution_count": null,
      "outputs": [
        {
          "output_type": "stream",
          "text": [
            "Pclass: 1, Sex: female\n",
            "34.61176470588235\n",
            "Pclass: 1, Sex: male\n",
            "41.28138613861386\n",
            "Pclass: 2, Sex: female\n",
            "28.722972972972972\n",
            "Pclass: 2, Sex: male\n",
            "30.74070707070707\n",
            "Pclass: 3, Sex: female\n",
            "21.75\n",
            "Pclass: 3, Sex: male\n",
            "26.507588932806325\n"
          ],
          "name": "stdout"
        }
      ]
    },
    {
      "cell_type": "code",
      "metadata": {
        "id": "0xcS0ZvEA4_L",
        "colab_type": "code",
        "colab": {}
      },
      "source": [
        ""
      ],
      "execution_count": null,
      "outputs": []
    }
  ]
}